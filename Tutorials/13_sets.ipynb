{
 "cells": [
  {
   "cell_type": "markdown",
   "metadata": {},
   "source": [
    "# Tutorial: Sets"
   ]
  },
  {
   "cell_type": "markdown",
   "metadata": {},
   "source": [
    "Consider the following list of cities that are most visited in the world, along with the set of cities that you've already visited:"
   ]
  },
  {
   "cell_type": "code",
   "execution_count": 2,
   "metadata": {},
   "outputs": [],
   "source": [
    "topCities = [\"London\", \"Paris\", \"Istanbul\", \"Dubai\", \"Hong Kong\", \"New York\", \"Amsterdam\"]\n",
    "visited = {\"New York\", \"Los Angeles\", \"London\"}"
   ]
  },
  {
   "cell_type": "markdown",
   "metadata": {},
   "source": [
    "Let's say you want to visit all of the top cities. Write a loop that simulate your visits to the cities that you've not yet visited. Make sure your loop doesn't visit cities that you've already visited. When you're done, print `visited` to the screen and verify that it contains all of the top cities. Also print a boolean expression ensuring that your visited set is now one element longer than `topCities`."
   ]
  },
  {
   "cell_type": "code",
   "execution_count": null,
   "metadata": {},
   "outputs": [],
   "source": []
  }
 ],
 "metadata": {
  "kernelspec": {
   "display_name": "Python 3 (ipykernel)",
   "language": "python",
   "name": "python3"
  },
  "language_info": {
   "codemirror_mode": {
    "name": "ipython",
    "version": 3
   },
   "file_extension": ".py",
   "mimetype": "text/x-python",
   "name": "python",
   "nbconvert_exporter": "python",
   "pygments_lexer": "ipython3",
   "version": "3.10.5"
  }
 },
 "nbformat": 4,
 "nbformat_minor": 2
}
