{
 "cells": [
  {
   "cell_type": "markdown",
   "metadata": {},
   "source": [
    "# Tuples"
   ]
  },
  {
   "cell_type": "markdown",
   "metadata": {},
   "source": [
    "A tuple is a type of collection. When we say \"collections\" in programming, we are talking about collections of data. If you wanted to make a shopping list, you would be collecting a bunch of items you want to buy into a list. You could do this in Python by creating a list of strings to represent the items in your shopping list.\n",
    "\n",
    "There are many different kinds of collections in Python, but we will start with the simplest: tuples.\n",
    "\n",
    "Tuples are fast and efficient collections, but they are _immutable_, meaning the items inside them cannot be changed. If you want to bundle some data together and access it later, and you don't need the values in that bundle to change, a tuple is best to use."
   ]
  },
  {
   "cell_type": "markdown",
   "metadata": {},
   "source": [
    "## Syntax"
   ]
  },
  {
   "cell_type": "markdown",
   "metadata": {},
   "source": [
    "The basic syntax is as follows:\n",
    "\n",
    "`(<item1>, <item2>, <item3>, ...)`\n",
    "\n",
    "Note the following:\n",
    "\n",
    "1. Parentheses enclose the tuple\n",
    "2. Each item is separated by a comma\n",
    "3. The items in the tuple don't all have to be the same type\n",
    "\n",
    "Let's create a tuple for a shopping items:"
   ]
  },
  {
   "cell_type": "code",
   "execution_count": null,
   "metadata": {},
   "outputs": [],
   "source": [
    "shoppingTuple = (\"eggs\", \"bacon\", \"onions\", \"cheese\", \"milk\")"
   ]
  },
  {
   "cell_type": "markdown",
   "metadata": {},
   "source": [
    "## Accessing items"
   ]
  },
  {
   "cell_type": "markdown",
   "metadata": {},
   "source": [
    "We can access an element of the tuple by supplying its index in **square brackets** (not parentheses or braces):"
   ]
  },
  {
   "cell_type": "code",
   "execution_count": null,
   "metadata": {},
   "outputs": [],
   "source": [
    "shoppingTuple[1]"
   ]
  },
  {
   "cell_type": "markdown",
   "metadata": {},
   "source": [
    "Note that when we say \"element\", we refer to the actual value within the tuple (\"eggs\", \"bacon\", etc.), and \"index\" refers to the position of a given element.\n",
    "\n",
    "So why did we not get the first element when we put in the first index above? Python is _zero-index-based_. This means the first item in the tuple is accessed with an index of zero:"
   ]
  },
  {
   "cell_type": "code",
   "execution_count": null,
   "metadata": {},
   "outputs": [],
   "source": [
    "shoppingTuple[0]"
   ]
  },
  {
   "cell_type": "markdown",
   "metadata": {},
   "source": [
    "What if we want to access the _last_ item in our tuple? What about the _second to last_? For this we use _negative_ indices. An index of `-1` will access the last item, `-2` will access the second to last item, and so on."
   ]
  },
  {
   "cell_type": "code",
   "execution_count": null,
   "metadata": {},
   "outputs": [],
   "source": [
    "shoppingTuple[-1]"
   ]
  },
  {
   "cell_type": "code",
   "execution_count": null,
   "metadata": {},
   "outputs": [],
   "source": [
    "shoppingTuple[-2]"
   ]
  },
  {
   "cell_type": "markdown",
   "metadata": {},
   "source": [
    "## The `in` keyword"
   ]
  },
  {
   "cell_type": "markdown",
   "metadata": {},
   "source": [
    "We can use `in` to check if there is an element in a tuple. The result of the check is a boolean: `True` or `False`."
   ]
  },
  {
   "cell_type": "code",
   "execution_count": null,
   "metadata": {},
   "outputs": [],
   "source": [
    "\"cheese\" in shoppingTuple"
   ]
  },
  {
   "cell_type": "code",
   "execution_count": null,
   "metadata": {},
   "outputs": [],
   "source": [
    "\"ham\" in shoppingTuple"
   ]
  },
  {
   "cell_type": "markdown",
   "metadata": {},
   "source": [
    "## Unpacking"
   ]
  },
  {
   "cell_type": "markdown",
   "metadata": {},
   "source": [
    "If we want to take things out of a tuple and store them into variables, we could do the following:"
   ]
  },
  {
   "cell_type": "code",
   "execution_count": null,
   "metadata": {},
   "outputs": [],
   "source": [
    "numberTuple = (36, 28, 23)\n",
    "first = numberTuple[0]\n",
    "second = numberTuple[1]\n",
    "third = numberTuple[2]\n",
    "\n",
    "print(first)\n",
    "print(second)\n",
    "print(third)"
   ]
  },
  {
   "cell_type": "markdown",
   "metadata": {},
   "source": [
    "Alternatively, we can \"unpack\" the values of the tuple directly into variables:"
   ]
  },
  {
   "cell_type": "code",
   "execution_count": null,
   "metadata": {},
   "outputs": [],
   "source": [
    "numberTuple = (36, 28, 23)\n",
    "first, second, third = numberTuple\n",
    "\n",
    "print(first)\n",
    "print(second)\n",
    "print(third)"
   ]
  },
  {
   "cell_type": "markdown",
   "metadata": {},
   "source": [
    "Let's imagine one more scenario where we need the first and third value from the tuple, but not the second value. We could just unpack the values like we did above, assigning a variable to the second value even though we never use it, but Python also has a way to just ignore the values we don't want: by using an underscore instead of a variable name:"
   ]
  },
  {
   "cell_type": "code",
   "execution_count": null,
   "metadata": {},
   "outputs": [],
   "source": [
    "numberTuple = (36, 28, 23)\n",
    "first, _, third = numberTuple\n",
    "\n",
    "print(first)\n",
    "print(third)"
   ]
  },
  {
   "cell_type": "markdown",
   "metadata": {},
   "source": [
    "We can do this for whichever values we want to ignore when unpacking:"
   ]
  },
  {
   "cell_type": "code",
   "execution_count": null,
   "metadata": {},
   "outputs": [],
   "source": [
    "namesTuple = (\"Colby\", \"Rodney\", \"Sally\", \"John\", \"Jane\")\n",
    "_, name1, _, _, name2 = namesTuple\n",
    "\n",
    "print(name1, name2)"
   ]
  },
  {
   "cell_type": "markdown",
   "metadata": {},
   "source": [
    "That's about all we can do with tuples. We can't change anything in them or add to them. For that, we would use something called a list, which we will discuss in the next lesson."
   ]
  }
 ],
 "metadata": {
  "kernelspec": {
   "display_name": "Python 3 (ipykernel)",
   "language": "python",
   "name": "python3"
  },
  "language_info": {
   "codemirror_mode": {
    "name": "ipython",
    "version": 3
   },
   "file_extension": ".py",
   "mimetype": "text/x-python",
   "name": "python",
   "nbconvert_exporter": "python",
   "pygments_lexer": "ipython3",
   "version": "3.10.5"
  }
 },
 "nbformat": 4,
 "nbformat_minor": 1
}
