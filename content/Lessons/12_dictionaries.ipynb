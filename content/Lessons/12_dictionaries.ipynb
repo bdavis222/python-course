{
 "cells": [
  {
   "cell_type": "markdown",
   "metadata": {},
   "source": [
    "# Dictionaries"
   ]
  },
  {
   "cell_type": "markdown",
   "metadata": {},
   "source": [
    "To this point, we have learned about a few main types of data containers, or collections, like lists, tuples, and sets, which all contain values. There is another very powerful type of collection called a dictionary that we can use that contains key-value pairs. What that means, and why this is useful, is the topic of this lesson."
   ]
  },
  {
   "cell_type": "markdown",
   "metadata": {},
   "source": [
    "## Syntax"
   ]
  },
  {
   "cell_type": "markdown",
   "metadata": {},
   "source": [
    "The basic syntax is as follows:\n",
    "\n",
    "`{<key1>: <value1>, <key2>: <value2>, ...}`\n",
    "\n",
    "Note the following:\n",
    "\n",
    "1. Curly braces enclose the dictionary.\n",
    "2. Each key-value pair is separated by a comma.\n",
    "3. Each key is followed by a colon and then its corresponding value.\n",
    "\n",
    "So the syntax is similar to that of sets, but dictionaries contain _pairs_. The colon maps each key to a value, and Python knows to interpret this as a dictionary, rather than a set."
   ]
  },
  {
   "cell_type": "markdown",
   "metadata": {},
   "source": [
    "## Example"
   ]
  },
  {
   "cell_type": "markdown",
   "metadata": {},
   "source": [
    "Let's make a simple dictionary to contain some information for a particular city:"
   ]
  },
  {
   "cell_type": "code",
   "execution_count": null,
   "metadata": {},
   "outputs": [],
   "source": [
    "city = {\n",
    "    \"name\": \"London\",\n",
    "    \"latitude\": 51.5072,\n",
    "    \"longitude\": 0.1276\n",
    "}"
   ]
  },
  {
   "cell_type": "markdown",
   "metadata": {},
   "source": [
    "Note that we've broken up the curly braces onto separate lines with the data inside the dictionary indented. This is commonly done to make the data easier to read."
   ]
  },
  {
   "cell_type": "markdown",
   "metadata": {},
   "source": [
    "## Accessing data"
   ]
  },
  {
   "cell_type": "markdown",
   "metadata": {},
   "source": [
    "So how do we actually access the data? Can use an index of zero to get the first item, like we do with a tuple or list?"
   ]
  },
  {
   "cell_type": "code",
   "execution_count": null,
   "metadata": {},
   "outputs": [],
   "source": [
    "city[0]"
   ]
  },
  {
   "cell_type": "markdown",
   "metadata": {},
   "source": [
    "No, just like sets, that is **not** how dictionaries work! In fact, just like dictionaries containing word definitions, they are used to _look things up._\n",
    "\n",
    "In a dictionary of word definitions, we look up a particular word (a key), and that will tell us its definition (value).\n",
    "\n",
    "We want the name of the city, which we can see is the value associated with the `\"name\"` key. Let's use that key to look up the name:"
   ]
  },
  {
   "cell_type": "code",
   "execution_count": null,
   "metadata": {},
   "outputs": [],
   "source": [
    "city[\"name\"]"
   ]
  },
  {
   "cell_type": "markdown",
   "metadata": {},
   "source": [
    "We can use any of the keys within the dictionary to access their associated values:"
   ]
  },
  {
   "cell_type": "code",
   "execution_count": null,
   "metadata": {},
   "outputs": [],
   "source": [
    "city[\"longitude\"]"
   ]
  },
  {
   "cell_type": "markdown",
   "metadata": {},
   "source": [
    "## Adding data"
   ]
  },
  {
   "cell_type": "markdown",
   "metadata": {},
   "source": [
    "So what if we decide to add data later? Do we need to go to where our `city` dictionary is defined and keep updating it there?\n",
    "\n",
    "Well, we _could_ do that, but we can add data directly to a dictionary using the variable it is stored in.\n",
    "\n",
    "The basic syntax is as follows:\n",
    "\n",
    "`<dictionary_name>[<new_key>] = <new_value>`\n",
    "\n",
    "Note that this syntax is unique to dictionaries. If we had an empty list, for example, we wouldn't be able to use `emptyList[0] = \"new value\"`, as this would try to reassign a value of `\"new value\"` to the first index in the list, which doesn't exist yet (since the list is empty). So this syntax is a little awkward for dictionaries, as they are the only type of collection where this syntax would even work at all. We will just have to remember this quirk of Python dictionaries.\n",
    "\n",
    "Let's add some new data:"
   ]
  },
  {
   "cell_type": "code",
   "execution_count": null,
   "metadata": {},
   "outputs": [],
   "source": [
    "city[\"isCapital\"] = True"
   ]
  },
  {
   "cell_type": "markdown",
   "metadata": {},
   "source": [
    "Again, `\"isCapital\"` is not a key in our dictionary, but this doesn't given an error, because we are using this is a unique assignment syntax for dictionaries. So, did it work?"
   ]
  },
  {
   "cell_type": "code",
   "execution_count": null,
   "metadata": {},
   "outputs": [],
   "source": [
    "city"
   ]
  },
  {
   "cell_type": "markdown",
   "metadata": {},
   "source": [
    "Yes, it was successfully added!"
   ]
  },
  {
   "cell_type": "markdown",
   "metadata": {},
   "source": [
    "## Removing data"
   ]
  },
  {
   "cell_type": "markdown",
   "metadata": {},
   "source": [
    "To delete an entry from a dictionary (the key-value pair), one can simply delete the key from the dictionary using the `del` keyword:"
   ]
  },
  {
   "cell_type": "code",
   "execution_count": null,
   "metadata": {},
   "outputs": [],
   "source": [
    "del city[\"longitude\"]"
   ]
  },
  {
   "cell_type": "code",
   "execution_count": null,
   "metadata": {},
   "outputs": [],
   "source": [
    "city"
   ]
  },
  {
   "cell_type": "markdown",
   "metadata": {},
   "source": [
    "Note that running the same removal code again would throw an error, as the `\"longitude\"` key no longer exists in our dictionary, so we can't delete it."
   ]
  },
  {
   "cell_type": "markdown",
   "metadata": {},
   "source": [
    "## Getting keys and values"
   ]
  },
  {
   "cell_type": "markdown",
   "metadata": {},
   "source": [
    "There are special methods for getting the keys and values from a dictionary:"
   ]
  },
  {
   "cell_type": "code",
   "execution_count": null,
   "metadata": {},
   "outputs": [],
   "source": [
    "city.keys()"
   ]
  },
  {
   "cell_type": "code",
   "execution_count": null,
   "metadata": {},
   "outputs": [],
   "source": [
    "city.values()"
   ]
  },
  {
   "cell_type": "markdown",
   "metadata": {},
   "source": [
    "We can also get the keys and values zipped up for us:"
   ]
  },
  {
   "cell_type": "code",
   "execution_count": null,
   "metadata": {},
   "outputs": [],
   "source": [
    "city.items()"
   ]
  },
  {
   "cell_type": "markdown",
   "metadata": {},
   "source": [
    "This can be very convenient for looping over the keys and values in a dictionary:"
   ]
  },
  {
   "cell_type": "code",
   "execution_count": null,
   "metadata": {},
   "outputs": [],
   "source": [
    "for key, value in city.items():\n",
    "    print(f\"Key: {key}\")\n",
    "    print(f\"Value: {value}\\n\")"
   ]
  },
  {
   "cell_type": "markdown",
   "metadata": {},
   "source": [
    "Dictionaries can be very useful for adding, storing, and looking up lots of data that might otherwise be difficult to organize! Dictionaries also benefit from very fast key look-up times (similar to sets)."
   ]
  }
 ],
 "metadata": {
  "kernelspec": {
   "display_name": "Python 3",
   "language": "python",
   "name": "python3"
  },
  "language_info": {
   "codemirror_mode": {
    "name": "ipython",
    "version": 3
   },
   "file_extension": ".py",
   "mimetype": "text/x-python",
   "name": "python",
   "nbconvert_exporter": "python",
   "pygments_lexer": "ipython3",
   "version": "3.8.5"
  }
 },
 "nbformat": 4,
 "nbformat_minor": 5
}
