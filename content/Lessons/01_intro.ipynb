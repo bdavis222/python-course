{
 "cells": [
  {
   "cell_type": "markdown",
   "metadata": {},
   "source": [
    "# Introduction to Python"
   ]
  },
  {
   "cell_type": "markdown",
   "metadata": {},
   "source": [
    "## Jupyter Notebooks"
   ]
  },
  {
   "cell_type": "markdown",
   "metadata": {},
   "source": [
    "This document that you are looking at is a Jupyter Notebook. It can contain regular titles and text, like you've seen so far, but it can also contain cells of Python code that can be run as a program!\n",
    "\n",
    "To run a code cell, click the cell to select it, and then press **Shift + Return** on your keyboard. You can also select a cell and click the \"Run\" button near the top of the window. Code cells look like this:"
   ]
  },
  {
   "cell_type": "code",
   "execution_count": null,
   "metadata": {
    "scrolled": true
   },
   "outputs": [],
   "source": []
  },
  {
   "cell_type": "markdown",
   "metadata": {},
   "source": [
    "Notice that this is a blank cell, so running it won't actually do anything.\n",
    "\n",
    "To the right of the Run button are the stop and restart buttons. These are used if something is wrong with your code and you need to interrupt your program from running and start things over again. This won't make much sense now, but it will later."
   ]
  },
  {
   "cell_type": "markdown",
   "metadata": {},
   "source": [
    "## Computers require exact instructions"
   ]
  },
  {
   "cell_type": "markdown",
   "metadata": {},
   "source": [
    "Computers will do _exactly_ what you tell them to do. What does that mean?\n",
    "\n",
    "Watch this video as an example of following instructions literally: https://www.youtube.com/watch?v=Ct-lOOUqmyY\n",
    "\n",
    "**Remember:** a computer will do _exactly_ what you tell it to do, even if it's wrong."
   ]
  },
  {
   "cell_type": "markdown",
   "metadata": {},
   "source": [
    "## Comments"
   ]
  },
  {
   "cell_type": "markdown",
   "metadata": {},
   "source": [
    "Comments are useful for documenting your code, i.e., making it easier for yourself or others to understand why something was written the way it was written. Comments are ignored by Python, so you don't have to worry about them actually changing any of the code you write. There are two main types of comments:"
   ]
  },
  {
   "cell_type": "markdown",
   "metadata": {},
   "source": [
    "### Single-line comments"
   ]
  },
  {
   "cell_type": "code",
   "execution_count": null,
   "metadata": {
    "scrolled": true
   },
   "outputs": [],
   "source": [
    "# This is a single-line comment."
   ]
  },
  {
   "cell_type": "markdown",
   "metadata": {},
   "source": [
    "Notice that running the single-line comment cell above doesn't do anything. That is exactly how comments should behave."
   ]
  },
  {
   "cell_type": "code",
   "execution_count": null,
   "metadata": {
    "scrolled": true
   },
   "outputs": [],
   "source": [
    "# The '#' character at the beginning of the line\n",
    "# tells Python to ignore what comes after,\n",
    "# since it is not code that should be run.\n",
    "# So, each line needs a '#' at the beginning\n",
    "# to make a comment span multiple lines."
   ]
  },
  {
   "cell_type": "markdown",
   "metadata": {},
   "source": [
    "Running this cell does nothing either."
   ]
  },
  {
   "cell_type": "markdown",
   "metadata": {},
   "source": [
    "### Multi-line comments"
   ]
  },
  {
   "cell_type": "code",
   "execution_count": null,
   "metadata": {
    "scrolled": true
   },
   "outputs": [],
   "source": [
    "\"\"\"This is a multi-line comment.\n",
    "Notice how three sets of quotation marks set \n",
    "the beginning and end of the comment, without\n",
    "the need for a '#' on every single line.\n",
    "\n",
    "All of this will be ignored and not run as code.\n",
    "\n",
    "Notice, however, that this is outputted below the\n",
    "cell if you run it. That is just something \n",
    "specific to Jupyter notebooks (as I will explain later).\n",
    "Python is not running any of this as code.\n",
    "\n",
    "Because I don't want to litter the screen with \n",
    "unnecessary output, I will mostly use single-line \n",
    "comments in these lessons.\n",
    "\"\"\""
   ]
  },
  {
   "cell_type": "markdown",
   "metadata": {},
   "source": [
    "## Printing text"
   ]
  },
  {
   "cell_type": "markdown",
   "metadata": {},
   "source": [
    "In these examples, we will print strings (a string is a series of characters) to the screen. Strings must be between quotation marks for Python to realize that they are to be interpreted as strings."
   ]
  },
  {
   "cell_type": "code",
   "execution_count": null,
   "metadata": {
    "scrolled": true
   },
   "outputs": [],
   "source": [
    "# Below is how to print a string to the screen\n",
    "print(\"Hello world!\")"
   ]
  },
  {
   "cell_type": "markdown",
   "metadata": {},
   "source": [
    "Did you notice how Python ignored the comment, but ran the code?"
   ]
  },
  {
   "cell_type": "code",
   "execution_count": null,
   "metadata": {
    "scrolled": true
   },
   "outputs": [],
   "source": [
    "print('Hello world!')  # Single quotes also work"
   ]
  },
  {
   "cell_type": "markdown",
   "metadata": {},
   "source": [
    "It even ignores comments on the same line as code, as everything to the right of the `#` character is ignored. (Because of this, comments on the same line as code must come _after_ the code, not before it, or the code itself will be commented out too!)"
   ]
  },
  {
   "cell_type": "code",
   "execution_count": null,
   "metadata": {
    "scrolled": true
   },
   "outputs": [],
   "source": [
    "print(Hello world!)\n",
    "# Without quotes, Python doesn't understand what to do\n",
    "# (much like the PB&J sandwich video I linked above)."
   ]
  },
  {
   "cell_type": "markdown",
   "metadata": {},
   "source": [
    "## Basic types"
   ]
  },
  {
   "cell_type": "markdown",
   "metadata": {},
   "source": [
    "Speaking of strings, this is just one type of \"primitive.\" There are just a few of these in Python:"
   ]
  },
  {
   "cell_type": "markdown",
   "metadata": {},
   "source": [
    "#### Strings"
   ]
  },
  {
   "cell_type": "markdown",
   "metadata": {},
   "source": [
    "Sequences of characters with values like `\"Hello\"`, `\"this is a string\"`, and `\"2357\"` (notice the quotes around each)."
   ]
  },
  {
   "cell_type": "markdown",
   "metadata": {},
   "source": [
    "#### Integers"
   ]
  },
  {
   "cell_type": "markdown",
   "metadata": {},
   "source": [
    "Integer numbers with values like `1` and `9842`"
   ]
  },
  {
   "cell_type": "markdown",
   "metadata": {},
   "source": [
    "#### Floats"
   ]
  },
  {
   "cell_type": "markdown",
   "metadata": {},
   "source": [
    "Decimal numbers with values like `0.0119`, `664.2`, and `2.5e10` (a Python representation of $2.5 \\times 10^{10}$)"
   ]
  },
  {
   "cell_type": "markdown",
   "metadata": {},
   "source": [
    "#### Booleans"
   ]
  },
  {
   "cell_type": "markdown",
   "metadata": {},
   "source": [
    "Only two values: `True` or `False`"
   ]
  },
  {
   "cell_type": "markdown",
   "metadata": {},
   "source": [
    " #### None"
   ]
  },
  {
   "cell_type": "markdown",
   "metadata": {},
   "source": [
    "A single value of `None`, which actually signifies a _lack_ of a value."
   ]
  },
  {
   "cell_type": "markdown",
   "metadata": {},
   "source": [
    "## Simple math"
   ]
  },
  {
   "cell_type": "markdown",
   "metadata": {},
   "source": [
    "### Addition: $4 + 2$"
   ]
  },
  {
   "cell_type": "code",
   "execution_count": null,
   "metadata": {
    "scrolled": true
   },
   "outputs": [],
   "source": [
    "4+2"
   ]
  },
  {
   "cell_type": "code",
   "execution_count": null,
   "metadata": {
    "scrolled": true
   },
   "outputs": [],
   "source": [
    "4 + 2"
   ]
  },
  {
   "cell_type": "markdown",
   "metadata": {},
   "source": [
    "Notice that the amount of spacing we add is up to us. It is usually easier to read code that uses good spacing like this, so I will tend to space things out like this."
   ]
  },
  {
   "cell_type": "markdown",
   "metadata": {},
   "source": [
    "### Subtraction: $4 - 2$"
   ]
  },
  {
   "cell_type": "code",
   "execution_count": null,
   "metadata": {
    "scrolled": true
   },
   "outputs": [],
   "source": [
    "4 - 2"
   ]
  },
  {
   "cell_type": "markdown",
   "metadata": {},
   "source": [
    "### Division: $\\frac{4}{2}$"
   ]
  },
  {
   "cell_type": "code",
   "execution_count": null,
   "metadata": {
    "scrolled": true
   },
   "outputs": [],
   "source": [
    "4 / 2"
   ]
  },
  {
   "cell_type": "markdown",
   "metadata": {},
   "source": [
    "Note that the result here is a float."
   ]
  },
  {
   "cell_type": "code",
   "execution_count": null,
   "metadata": {
    "scrolled": true
   },
   "outputs": [],
   "source": [
    "4 // 2"
   ]
  },
  {
   "cell_type": "markdown",
   "metadata": {},
   "source": [
    "Note that the result here is an integer. This is because the `//` operator divides and then chops off any decimal. Consider another example:"
   ]
  },
  {
   "cell_type": "code",
   "execution_count": null,
   "metadata": {
    "scrolled": true
   },
   "outputs": [],
   "source": [
    "5 // 2"
   ]
  },
  {
   "cell_type": "markdown",
   "metadata": {},
   "source": [
    "### Multiplication: $4 \\times 2$"
   ]
  },
  {
   "cell_type": "code",
   "execution_count": null,
   "metadata": {
    "scrolled": true
   },
   "outputs": [],
   "source": [
    "4 * 2"
   ]
  },
  {
   "cell_type": "markdown",
   "metadata": {},
   "source": [
    "### Exponents: $4^2$"
   ]
  },
  {
   "cell_type": "code",
   "execution_count": null,
   "metadata": {
    "scrolled": true
   },
   "outputs": [],
   "source": [
    "4 ** 2"
   ]
  },
  {
   "cell_type": "markdown",
   "metadata": {},
   "source": [
    "### Modulo (the remainder of division): $4 \\ \\rm{mod} \\ 2$"
   ]
  },
  {
   "cell_type": "code",
   "execution_count": null,
   "metadata": {
    "scrolled": true
   },
   "outputs": [],
   "source": [
    "4 % 2  # The remainder is 4 / 2 is 0"
   ]
  },
  {
   "cell_type": "code",
   "execution_count": null,
   "metadata": {
    "scrolled": true
   },
   "outputs": [],
   "source": [
    "5 % 2  # The remainder of 5 / 2 is 1"
   ]
  },
  {
   "cell_type": "markdown",
   "metadata": {},
   "source": [
    "## Variable assignments"
   ]
  },
  {
   "cell_type": "code",
   "execution_count": null,
   "metadata": {
    "scrolled": true
   },
   "outputs": [],
   "source": [
    "x = 3  # x is now a variable"
   ]
  },
  {
   "cell_type": "code",
   "execution_count": null,
   "metadata": {
    "scrolled": true
   },
   "outputs": [],
   "source": [
    "print(x)  # Print the variable x to the screen"
   ]
  },
  {
   "cell_type": "markdown",
   "metadata": {},
   "source": [
    "Note that Jupyter notebook remembers the value of this variable since it was run before this code was run. It doesn't matter that this was in a different cell, as long as it was run before this cell.\n",
    "\n",
    "Another quirk of Jupyter notebooks is that they print out the value of the last line of any cell. This is a \"convenience\" of Jupyter, and doesn't reflect what Python itself would do. Notice how the value of `x` is printed when running the following cell, even though we aren't calling the print function. This is exactly why the multi-line comment above is being printed to the screen, even though we didn't ask it to.\n",
    "\n",
    "Variables can be reassigned:"
   ]
  },
  {
   "cell_type": "code",
   "execution_count": null,
   "metadata": {
    "scrolled": true
   },
   "outputs": [],
   "source": [
    "x = None\n",
    "print(x)\n",
    "\n",
    "x = 4\n",
    "print(x)"
   ]
  },
  {
   "cell_type": "code",
   "execution_count": null,
   "metadata": {
    "scrolled": true
   },
   "outputs": [],
   "source": [
    "x ** 2  # What will this print?"
   ]
  },
  {
   "cell_type": "markdown",
   "metadata": {},
   "source": [
    "Has the value of x changed? What will the following print?"
   ]
  },
  {
   "cell_type": "code",
   "execution_count": null,
   "metadata": {
    "scrolled": true
   },
   "outputs": [],
   "source": [
    "print(x)"
   ]
  },
  {
   "cell_type": "markdown",
   "metadata": {},
   "source": [
    "### A note on variable names"
   ]
  },
  {
   "cell_type": "markdown",
   "metadata": {},
   "source": [
    "Variable names should be _descriptive_ for what the variable stands for. In the above example, I am using a variable named `x`, but this isn't very descriptive unless it stands for an x coordinate or something.\n",
    "\n",
    "Because your variable names should be descriptive, they will sometimes be more than one word long. In this case, the standard in Python is to use \"snake case,\" which, for a variable named \"my variable\" would look like `my_variable`. In other words, each word should be separated by an underscore.\n",
    "\n",
    "I will tend to use a lot of \"camel case\" in this course (even though that is not the Python standard), because the underscores add more characters that can make the code longer, and I want to make sure to keep the code as short as possible on each line to account for different window sizes. Camel case looks like the following: `myVariable`. In other words, the first word is lowercase, and the first letter of each subsequent word is capitalized.\n",
    "\n",
    "You can choose whichever convention you like, but you should know that the standard in Python is to write in `snake_case`, while other languages like Java, Kotlin, C++, etc. use `camelCase` by convention."
   ]
  },
  {
   "cell_type": "markdown",
   "metadata": {},
   "source": [
    "## String operations"
   ]
  },
  {
   "cell_type": "code",
   "execution_count": null,
   "metadata": {
    "scrolled": true
   },
   "outputs": [],
   "source": [
    "name = \"John\"  # You can use single or double quotes"
   ]
  },
  {
   "cell_type": "code",
   "execution_count": null,
   "metadata": {
    "scrolled": true
   },
   "outputs": [],
   "source": [
    "name + \" \" + \"Doe\"  # Adding strings"
   ]
  },
  {
   "cell_type": "code",
   "execution_count": null,
   "metadata": {
    "scrolled": true
   },
   "outputs": [],
   "source": [
    "name = name + '2000'"
   ]
  },
  {
   "cell_type": "markdown",
   "metadata": {},
   "source": [
    "What is the value of `name`?"
   ]
  },
  {
   "cell_type": "code",
   "execution_count": null,
   "metadata": {
    "scrolled": true
   },
   "outputs": [],
   "source": [
    "print(name)"
   ]
  },
  {
   "cell_type": "markdown",
   "metadata": {},
   "source": [
    "What happens when we multiply strings?"
   ]
  },
  {
   "cell_type": "code",
   "execution_count": null,
   "metadata": {
    "scrolled": true
   },
   "outputs": [],
   "source": [
    "print(name * 2)"
   ]
  },
  {
   "cell_type": "markdown",
   "metadata": {},
   "source": [
    "We can also print multiple things at a time:"
   ]
  },
  {
   "cell_type": "code",
   "execution_count": null,
   "metadata": {
    "scrolled": true
   },
   "outputs": [],
   "source": [
    "print(\"hello\", name, 5)"
   ]
  },
  {
   "cell_type": "markdown",
   "metadata": {},
   "source": [
    "You have just finished the intro lesson! After each lesson, there is a tutorial for you to do to test your knowledge. Look in the \"Tutorials\" folder and find the one named the same as this lesson file.\n",
    "\n",
    "_Don't look at the solutions for the tutorial until you've given it a shot! That is the best way to learn._"
   ]
  }
 ],
 "metadata": {
  "kernelspec": {
   "display_name": "Python 3 (ipykernel)",
   "language": "python",
   "name": "python3"
  },
  "language_info": {
   "codemirror_mode": {
    "name": "ipython",
    "version": 3
   },
   "file_extension": ".py",
   "mimetype": "text/x-python",
   "name": "python",
   "nbconvert_exporter": "python",
   "pygments_lexer": "ipython3",
   "version": "3.10.5"
  }
 },
 "nbformat": 4,
 "nbformat_minor": 1
}
