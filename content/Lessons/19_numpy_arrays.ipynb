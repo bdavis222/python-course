{
 "cells": [
  {
   "cell_type": "markdown",
   "metadata": {},
   "source": [
    "# `numpy` Arrays"
   ]
  },
  {
   "cell_type": "markdown",
   "metadata": {},
   "source": [
    "Let's start with a recap of some of the collections we've already learned about:\n",
    "\n",
    "`List`  - A sequence of values that can vary in length. The values can be different data types. The values can be modified (mutable).\n",
    "\n",
    "`Tuple` - A sequence of values with a fixed length. The values can be different data types. The values cannot be modified (immutable).\n",
    "\n",
    "Now we will discuss some a new type:\n",
    "\n",
    "`numpy Array` - A sequence of values with a fixed length. The values cannot be different data types. The values can be modified (mutable). These are supplied by the `numpy` module in Python.\n",
    "\n",
    "Sometimes the following terms are also used:\n",
    "\n",
    "`Vector` - A 1-dimensional (1D) array.\n",
    "\n",
    "`Matrix` - A 2-dimensional (2D) array."
   ]
  },
  {
   "cell_type": "markdown",
   "metadata": {},
   "source": [
    "## Mathematical operations on vectors"
   ]
  },
  {
   "cell_type": "markdown",
   "metadata": {},
   "source": [
    "Generally, in computing:\n",
    "\n",
    "    Applying a mathematical function to a vector means applying it to each element in the vector. (You may see the phrase \"element-wise,\" which means \"performing some operation one element at a time\")\n",
    "\n",
    "**However, this is not true of lists and tuples**"
   ]
  },
  {
   "cell_type": "markdown",
   "metadata": {},
   "source": [
    "Let's see what happens when we try to multiply all of the values in a list or tuple by a value:"
   ]
  },
  {
   "cell_type": "code",
   "execution_count": null,
   "metadata": {},
   "outputs": [],
   "source": [
    "numList  = [0.0, 1.0, 2.0]\n",
    "numTuple = (0.0, 1.0, 2.0)"
   ]
  },
  {
   "cell_type": "code",
   "execution_count": null,
   "metadata": {},
   "outputs": [],
   "source": [
    "print(2 * numList)"
   ]
  },
  {
   "cell_type": "code",
   "execution_count": null,
   "metadata": {},
   "outputs": [],
   "source": [
    "print(2 * numTuple)"
   ]
  },
  {
   "cell_type": "code",
   "execution_count": null,
   "metadata": {},
   "outputs": [],
   "source": [
    "print(2.0 * numList)  # Note that this is invalid"
   ]
  },
  {
   "cell_type": "markdown",
   "metadata": {},
   "source": [
    "## Mathematical operations on `numpy` arrays"
   ]
  },
  {
   "cell_type": "markdown",
   "metadata": {},
   "source": [
    "This kind of math is simpler with `numpy` arrays. Let's look at an example."
   ]
  },
  {
   "cell_type": "code",
   "execution_count": null,
   "metadata": {},
   "outputs": [],
   "source": [
    "import numpy as np\n",
    "\n",
    "myList = [1, 2, 3, 4, 10]\n",
    "myArray = np.array(myList)  # Making a numpy array \n",
    "\n",
    "print(myArray)\n",
    "print(2 * myArray)"
   ]
  },
  {
   "cell_type": "markdown",
   "metadata": {},
   "source": [
    "Characteristics of `numpy` arrays:\n",
    "\n",
    "  1. Elements are all the same type\n",
    "\n",
    "  2. Number of elements known when array is created\n",
    "\n",
    "  3. Numerical Python (`numpy`) must be imported to manipulate arrays\n",
    "\n",
    "  4. All array elements are operated on by numpy, which eliminates loops and makes programs **much faster**\n",
    "\n",
    "When should we use lists and arrays?\n",
    "\n",
    "In general, we'll use lists instead of arrays when elements have to be added (e.g., we don't know how the number of elements ahead of time, and must use methods like append and extend).\n",
    "\n",
    "Otherwise, it can be convenient to use arrays for numerical calculations.\n",
    "\n",
    "Let's explore more about these arrays:"
   ]
  },
  {
   "cell_type": "code",
   "execution_count": null,
   "metadata": {},
   "outputs": [],
   "source": [
    "print(type(myArray))"
   ]
  },
  {
   "cell_type": "markdown",
   "metadata": {},
   "source": [
    "Note the type!"
   ]
  },
  {
   "cell_type": "markdown",
   "metadata": {},
   "source": [
    "To create an array of length _n_ = 10 filled with zeros (to be filled later):"
   ]
  },
  {
   "cell_type": "code",
   "execution_count": null,
   "metadata": {},
   "outputs": [],
   "source": [
    "zeroArray = np.zeros(10)\n",
    "print(zeroArray)"
   ]
  },
  {
   "cell_type": "markdown",
   "metadata": {},
   "source": [
    "To create arrays with elements of a type other than the default float, use a second argument:"
   ]
  },
  {
   "cell_type": "code",
   "execution_count": null,
   "metadata": {},
   "outputs": [],
   "source": [
    "intArray = np.zeros(5, dtype=int)\n",
    "\n",
    "print(intArray)"
   ]
  },
  {
   "cell_type": "markdown",
   "metadata": {},
   "source": [
    "We often want array elements equally spaced by some interval (delta).  \n",
    "\n",
    "`numpy.linspace(<start>, <end>, <number_of_elements>)` does this:\n",
    "\n",
    "_Note: the \"end\" value is **not** (`<end>` - 1)_."
   ]
  },
  {
   "cell_type": "code",
   "execution_count": null,
   "metadata": {},
   "outputs": [],
   "source": [
    "zArray = np.linspace(0, 5, 6)\n",
    "\n",
    "print(zArray)"
   ]
  },
  {
   "cell_type": "markdown",
   "metadata": {},
   "source": [
    "What about if we would rather give the step size than the number of elements? \n",
    "\n",
    "`numpy.arange(<start>, <end>, <step_size>)` does this:\n",
    "\n",
    "_Note: the \"end\" value **is** (`<end> - <step_size>`)_."
   ]
  },
  {
   "cell_type": "code",
   "execution_count": null,
   "metadata": {},
   "outputs": [],
   "source": [
    "print(np.arange(6))\n",
    "print(np.arange(1, 2, 0.1))"
   ]
  },
  {
   "cell_type": "markdown",
   "metadata": {},
   "source": [
    "Array elements are accessed with square brackets, just like with lists:"
   ]
  },
  {
   "cell_type": "code",
   "execution_count": null,
   "metadata": {},
   "outputs": [],
   "source": [
    "print(zArray[3])"
   ]
  },
  {
   "cell_type": "markdown",
   "metadata": {},
   "source": [
    "Slicing can also be done on arrays:"
   ]
  },
  {
   "cell_type": "code",
   "execution_count": null,
   "metadata": {},
   "outputs": [],
   "source": [
    "yArray = zArray[1:4]\n",
    "\n",
    "print(yArray)"
   ]
  },
  {
   "cell_type": "markdown",
   "metadata": {},
   "source": [
    "For reference below:"
   ]
  },
  {
   "cell_type": "code",
   "execution_count": null,
   "metadata": {},
   "outputs": [],
   "source": [
    "print(zArray)"
   ]
  },
  {
   "cell_type": "markdown",
   "metadata": {},
   "source": [
    "Let's edit one of the values in the z array:"
   ]
  },
  {
   "cell_type": "code",
   "execution_count": null,
   "metadata": {},
   "outputs": [],
   "source": [
    "zArray[3] = 10.0\n",
    "\n",
    "print(zArray)"
   ]
  },
  {
   "cell_type": "markdown",
   "metadata": {},
   "source": [
    "Now let's look at the y array again:"
   ]
  },
  {
   "cell_type": "code",
   "execution_count": null,
   "metadata": {},
   "outputs": [],
   "source": [
    "print(yArray)"
   ]
  },
  {
   "cell_type": "markdown",
   "metadata": {},
   "source": [
    "It changed! Why?\n",
    "\n",
    "The variable `yArray` is a **reference** to three elements (a slice) from `zArray`: element indices 1, 2, and 3.\n",
    "\n",
    "Here is a blog post which discusses this issue nicely:\n",
    "\n",
    "http://nedbatchelder.com/text/names.html\n",
    "\n",
    "The same is _not_ true of lists:"
   ]
  },
  {
   "cell_type": "code",
   "execution_count": null,
   "metadata": {},
   "outputs": [],
   "source": [
    "zList = [1, 2, 3]\n",
    "yList = zList[1:2]\n",
    "\n",
    "print(yList)\n",
    "zList[1] = 10\n",
    "print(yList)"
   ]
  },
  {
   "cell_type": "markdown",
   "metadata": {},
   "source": [
    "Do not forget this. Check your array values frequently if you are unsure!\n",
    "\n",
    "But what if you want to create an independent copy of an array that is not affected by changes to the other?"
   ]
  },
  {
   "cell_type": "code",
   "execution_count": null,
   "metadata": {},
   "outputs": [],
   "source": [
    "yArray2 = yArray.copy()\n",
    "print(yArray, yArray2)\n",
    "yArray2[1] = 3.5\n",
    "print(yArray, yArray2) # Notice that yArray was not changed when yArray2 was, \n",
    "                       # since yArray2 was created using the .copy() method.\n",
    "                       # More on this later."
   ]
  },
  {
   "cell_type": "markdown",
   "metadata": {},
   "source": [
    "### Using lists to calculate a series of values"
   ]
  },
  {
   "cell_type": "markdown",
   "metadata": {},
   "source": [
    "Here's a function to calculate falling distance during free fall:"
   ]
  },
  {
   "cell_type": "code",
   "execution_count": null,
   "metadata": {},
   "outputs": [],
   "source": [
    "def distance(t, a=9.8):\n",
    "    '''Calculate the distance given a time and acceleration.\n",
    "    \n",
    "    Args:\n",
    "        t: time in seconds (int, float).\n",
    "        a: acceleration in m/s^2 (int, float).\n",
    "        \n",
    "    Returns:\n",
    "        Distance in meters (float).\n",
    "    '''\n",
    "    return 0.5 * a * t ** 2"
   ]
  },
  {
   "cell_type": "markdown",
   "metadata": {},
   "source": [
    "Here is how we convert a list of times to a list of distances (by iterating over each of the elements, either by looping or with list comprehension):"
   ]
  },
  {
   "cell_type": "code",
   "execution_count": null,
   "metadata": {},
   "outputs": [],
   "source": [
    "numPoints = 6                       # number of points\n",
    "delta     = 1.0 / (numPoints - 1)   # time interval between points\n",
    "\n",
    "timeList = [index * delta for index in range(numPoints)]   # Create the time list\n",
    "distList = [distance(t) for t in timeList]                 # Create the distance list"
   ]
  },
  {
   "cell_type": "markdown",
   "metadata": {},
   "source": [
    "We could then convert timeList and distList from lists to arrays:"
   ]
  },
  {
   "cell_type": "code",
   "execution_count": null,
   "metadata": {},
   "outputs": [],
   "source": [
    "timeArray = np.array(timeList)\n",
    "distArray = np.array(distList)\n",
    "\n",
    "print(type(timeArray), timeArray)\n",
    "print(type(distArray), distArray)"
   ]
  },
  {
   "cell_type": "markdown",
   "metadata": {},
   "source": [
    "Can we do this more easily with `numpy` arrays?"
   ]
  },
  {
   "cell_type": "markdown",
   "metadata": {},
   "source": [
    "### Using `numpy` arrays to calculate a series of values"
   ]
  },
  {
   "cell_type": "markdown",
   "metadata": {},
   "source": [
    "The example above is fine, but it doesn't use the computation power of arrays by operating on all the elements simultaneously.\n",
    "\n",
    "Loops are slow. Operating on the elements simultaneously is much faster (and simpler).\n",
    "\n",
    "\"Vectorization\" is replacing a loop with vector or array expressions."
   ]
  },
  {
   "cell_type": "code",
   "execution_count": null,
   "metadata": {},
   "outputs": [],
   "source": [
    "numPoints = 6                              # number of points\n",
    "\n",
    "timeArray = np.linspace(0, 1, numPoints)   # Create the time array\n",
    "distArray = distance(timeArray)            # Create and populate the distance array using vectorization\n",
    "\n",
    "print(\"Time Array:\", type(timeArray), timeArray)\n",
    "print(\"Dist Array:\", type(distArray), distArray)"
   ]
  },
  {
   "cell_type": "markdown",
   "metadata": {},
   "source": [
    "Wow! We passed the array to the function and it performed the function on every element of the array!\n",
    "\n",
    "All the magic happened on the third line above:\n",
    "\n",
    "`distArray = distance(timeArray)`\n",
    "\n",
    "These kinds of arrays are fantastic for these kinds of operations!"
   ]
  }
 ],
 "metadata": {
  "kernelspec": {
   "display_name": "Python 3 (ipykernel)",
   "language": "python",
   "name": "python3"
  },
  "language_info": {
   "codemirror_mode": {
    "name": "ipython",
    "version": 3
   },
   "file_extension": ".py",
   "mimetype": "text/x-python",
   "name": "python",
   "nbconvert_exporter": "python",
   "pygments_lexer": "ipython3",
   "version": "3.10.5"
  }
 },
 "nbformat": 4,
 "nbformat_minor": 1
}
