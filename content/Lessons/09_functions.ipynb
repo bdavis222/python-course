{
 "cells": [
  {
   "cell_type": "markdown",
   "metadata": {},
   "source": [
    "# Functions"
   ]
  },
  {
   "cell_type": "markdown",
   "metadata": {},
   "source": [
    "Functions are useful because they allow us to perform operations many times without repeating code snippets, keeping programs shorter, more managable, and more organized.\n",
    "\n",
    "The basic syntax is as follows:\n",
    "\n",
    "```\n",
    "def <function_name>(<arguments>):\n",
    "    <code>\n",
    "    return <result>\n",
    "```\n",
    "\n",
    "Note the following:\n",
    "\n",
    "1. The `def` keyword\n",
    "2. The function name is followed by parentheses\n",
    "3. The parameters, or arguments, passed into the function go inside the parentheses\n",
    "4. A colon follows the parentheses\n",
    "5. The code is indented within the function\n",
    "6. A value can be returned from the function using the `return` keyword (although returning a value is optional)\n",
    "\n",
    "Note that sometimes you will hear functions called _methods_. There is a subtle difference between the two things, but for now, we will use them interchangeably.\n",
    " \n",
    "We will start with an arbitrary mathematical function:\n",
    "\n",
    "$y = -\\frac{3}{2}x^2 + 6$\n",
    "\n",
    "We used a similar function in a previous lesson, and you probably realized it's _not_ something you'd want to keep typing out over and over again. Let's create a Python function for this, so that we can just pass in a value of $x$ to get a result (just like we do in mathematical functions):"
   ]
  },
  {
   "cell_type": "code",
   "execution_count": null,
   "metadata": {},
   "outputs": [],
   "source": [
    "def y(x):\n",
    "    value = (-3 / 2) * x + 6\n",
    "    return value"
   ]
  },
  {
   "cell_type": "markdown",
   "metadata": {},
   "source": [
    "Notice that running the above cell doesn't actually do anything. All we did was _define_ this function. We haven't actually called it yet, so we haven't passed it any input to get any output. Let's call it now:"
   ]
  },
  {
   "cell_type": "code",
   "execution_count": null,
   "metadata": {},
   "outputs": [],
   "source": [
    "y(3)"
   ]
  },
  {
   "cell_type": "markdown",
   "metadata": {},
   "source": [
    "Next we'll create a list of x values at which to evaluate the function:"
   ]
  },
  {
   "cell_type": "code",
   "execution_count": null,
   "metadata": {},
   "outputs": [],
   "source": [
    "xList = [2 * number for number in range(41)]\n",
    "print(xList)"
   ]
  },
  {
   "cell_type": "markdown",
   "metadata": {},
   "source": [
    "Note that `range` is a _function_, just like the `y` function we've just defined!\n",
    "\n",
    "Let's create a y list using another list comprehension:"
   ]
  },
  {
   "cell_type": "code",
   "execution_count": null,
   "metadata": {},
   "outputs": [],
   "source": [
    "yList = [y(x) for x in xList]  \n",
    "print(yList)"
   ]
  },
  {
   "cell_type": "markdown",
   "metadata": {},
   "source": [
    "For a nice print-out, let's make use of a for-loop, the `zip` function, and some string formatting:"
   ]
  },
  {
   "cell_type": "code",
   "execution_count": null,
   "metadata": {},
   "outputs": [],
   "source": [
    "for x, y in zip(xList, yList):\n",
    "    print(f\"x = {x:2}     y = {y:6}\")"
   ]
  },
  {
   "cell_type": "markdown",
   "metadata": {},
   "source": [
    "## Local and Global variables"
   ]
  },
  {
   "cell_type": "markdown",
   "metadata": {},
   "source": [
    "When I define a function in the following manner,"
   ]
  },
  {
   "cell_type": "code",
   "execution_count": null,
   "metadata": {},
   "outputs": [],
   "source": [
    "yIntercept = 6\n",
    "\n",
    "def y(x):\n",
    "    value = (-3 / 2) * x + yIntercept\n",
    "    return value"
   ]
  },
  {
   "cell_type": "markdown",
   "metadata": {},
   "source": [
    "`value` is a local variable; it only exists in the `y` function.\n",
    "\n",
    "So running this outside of the function fails:"
   ]
  },
  {
   "cell_type": "code",
   "execution_count": null,
   "metadata": {},
   "outputs": [],
   "source": [
    "print(value)"
   ]
  },
  {
   "cell_type": "markdown",
   "metadata": {},
   "source": [
    "In contrast, `yIntercept` is a global variable (defined outside of the function) and can be accessed anywhere in the program.\n",
    "\n",
    "Notes on global and local variables:\n",
    "\n",
    "  * Avoid local and global variables with the same name.\n",
    "  \n",
    "  * When there are variables of the same name, Python first looks for a local variable, then a global variable, then a built-in function of that name.\n",
    "\n",
    "  * Avoid changing global variables in functions. Python has a utility for doing so, but we will avoid using this for now."
   ]
  },
  {
   "cell_type": "markdown",
   "metadata": {},
   "source": [
    "What will this print?"
   ]
  },
  {
   "cell_type": "code",
   "execution_count": null,
   "metadata": {},
   "outputs": [],
   "source": [
    "g = 10\n",
    "\n",
    "def f(x):\n",
    "    g = 11\n",
    "    return x + g\n",
    "\n",
    "print(f(5), g)"
   ]
  },
  {
   "cell_type": "markdown",
   "metadata": {},
   "source": [
    "## Functions with multiple arguments"
   ]
  },
  {
   "cell_type": "markdown",
   "metadata": {},
   "source": [
    "Let's define the same function, but with a `intercept` parameter also:"
   ]
  },
  {
   "cell_type": "code",
   "execution_count": null,
   "metadata": {},
   "outputs": [],
   "source": [
    "def y2(x, intercept):\n",
    "    value = (-3 / 2) * x + intercept\n",
    "    return value"
   ]
  },
  {
   "cell_type": "code",
   "execution_count": null,
   "metadata": {},
   "outputs": [],
   "source": [
    "y2(3, 6)"
   ]
  },
  {
   "cell_type": "markdown",
   "metadata": {},
   "source": [
    "Notice that the arguments must be passed into the function in the **same order** in which they are defined in the function. If you wanted to pass arguments in a different order, you would have to specify which is which, as follows:"
   ]
  },
  {
   "cell_type": "code",
   "execution_count": null,
   "metadata": {},
   "outputs": [],
   "source": [
    "y2(intercept=6, x=3)"
   ]
  },
  {
   "cell_type": "markdown",
   "metadata": {},
   "source": [
    "Of course, we can also pass them in the original order with the labels as well:"
   ]
  },
  {
   "cell_type": "code",
   "execution_count": null,
   "metadata": {},
   "outputs": [],
   "source": [
    "y2(x=3, intercept=6)"
   ]
  },
  {
   "cell_type": "markdown",
   "metadata": {},
   "source": [
    "Will this work (produce the same result)? "
   ]
  },
  {
   "cell_type": "code",
   "execution_count": null,
   "metadata": {},
   "outputs": [],
   "source": [
    "y2(6, 3)"
   ]
  },
  {
   "cell_type": "markdown",
   "metadata": {},
   "source": [
    "What happened? We didn't pass the parameters in the correct order, and we didn't specify their labels, so Python had no choice but to assume we meant to pass them in the order they are defined in the function."
   ]
  },
  {
   "cell_type": "markdown",
   "metadata": {},
   "source": [
    "## Returning an expression"
   ]
  },
  {
   "cell_type": "markdown",
   "metadata": {},
   "source": [
    "In the function above, we did all of our calculations and stored them in a variable called `value` and then returned `value`. Instead of this, we could have just returned the expression itself:"
   ]
  },
  {
   "cell_type": "code",
   "execution_count": null,
   "metadata": {},
   "outputs": [],
   "source": [
    "def y3(x, intercept):\n",
    "    return (-3 / 2) * x + intercept"
   ]
  },
  {
   "cell_type": "markdown",
   "metadata": {},
   "source": [
    "Note that this gives the same results:"
   ]
  },
  {
   "cell_type": "code",
   "execution_count": null,
   "metadata": {},
   "outputs": [],
   "source": [
    "y3(3, 6)"
   ]
  },
  {
   "cell_type": "markdown",
   "metadata": {},
   "source": [
    "## Functions with multiple return values"
   ]
  },
  {
   "cell_type": "markdown",
   "metadata": {},
   "source": [
    "Given values of `x` and `intercept`, we can return the value of y and a boolean representing whether the value of y is positive:"
   ]
  },
  {
   "cell_type": "code",
   "execution_count": null,
   "metadata": {},
   "outputs": [],
   "source": [
    "def getYAndPositive(x, intercept):\n",
    "    value = (-3 / 2) * x + intercept\n",
    "    return value, value > 0  # Returning value AND the boolean expression \"value > 0\""
   ]
  },
  {
   "cell_type": "code",
   "execution_count": null,
   "metadata": {},
   "outputs": [],
   "source": [
    "y, positive = getYAndPositive(3, 6)\n",
    "print(y, positive)"
   ]
  },
  {
   "cell_type": "markdown",
   "metadata": {},
   "source": [
    "There must be two variables on the left-hand side of the assignment operator (`=`) above, since the function will return two variables.\n",
    "\n",
    "This is yet another instance of \"unpacking,\" which we saw while using the `enumerate` and `zip` functions, and when working with tuples and lists.\n",
    "\n",
    "If there is only only variable to the left of the assignment operator, that variable will contain both values as a tuple:"
   ]
  },
  {
   "cell_type": "code",
   "execution_count": null,
   "metadata": {},
   "outputs": [],
   "source": [
    "result = getYAndPositive(3, 6)\n",
    "\n",
    "print(result)\n",
    "print(type(result))"
   ]
  },
  {
   "cell_type": "markdown",
   "metadata": {},
   "source": [
    "## Functions with no return value"
   ]
  },
  {
   "cell_type": "markdown",
   "metadata": {},
   "source": [
    "Functions can also return nothing. In this case, the type that is returned is `None`. For example:"
   ]
  },
  {
   "cell_type": "code",
   "execution_count": null,
   "metadata": {},
   "outputs": [],
   "source": [
    "def greetMe(name):\n",
    "    print(f\"Hello {name}\")\n",
    "\n",
    "value = greetMe(\"world\")\n",
    "print(value)"
   ]
  },
  {
   "cell_type": "markdown",
   "metadata": {},
   "source": [
    "Despite not being good for much else, we can still check whether something has a value of `None`:"
   ]
  },
  {
   "cell_type": "code",
   "execution_count": null,
   "metadata": {},
   "outputs": [],
   "source": [
    "print(value == None)"
   ]
  },
  {
   "cell_type": "markdown",
   "metadata": {},
   "source": [
    "## Keyword arguments"
   ]
  },
  {
   "cell_type": "markdown",
   "metadata": {},
   "source": [
    "Function arguments can be given default values so that the arguments can be left out of the function call. We can still provide arguments to replace the defaults if we wish, but we don't have to."
   ]
  },
  {
   "cell_type": "code",
   "execution_count": null,
   "metadata": {},
   "outputs": [],
   "source": [
    "def testFunc(arg1, arg2, kwarg1=True, kwarg2=4.0):\n",
    "    print(arg1, arg2, kwarg1, kwarg2)"
   ]
  },
  {
   "cell_type": "markdown",
   "metadata": {},
   "source": [
    "The first two arguments in this case are \"positional arguments.\" The second two are named \"keyword arguments\". Keyword arguments must follow positional arguments in function calls."
   ]
  },
  {
   "cell_type": "markdown",
   "metadata": {},
   "source": [
    "What will the following do?"
   ]
  },
  {
   "cell_type": "code",
   "execution_count": null,
   "metadata": {},
   "outputs": [],
   "source": [
    "testFunc(1.0, 2.0)"
   ]
  },
  {
   "cell_type": "markdown",
   "metadata": {},
   "source": [
    "And what about this?"
   ]
  },
  {
   "cell_type": "code",
   "execution_count": null,
   "metadata": {},
   "outputs": [],
   "source": [
    "testFunc(1.0, 2.0, kwarg2=5.0)"
   ]
  },
  {
   "cell_type": "markdown",
   "metadata": {},
   "source": [
    "## Lambda functions"
   ]
  },
  {
   "cell_type": "markdown",
   "metadata": {},
   "source": [
    "Functions can be defined in one line (which is convenient if they are short!) using the Python `lambda` function.\n",
    "\n",
    "The basic syntax is as follows:\n",
    "\n",
    "```\n",
    "<function_name> = lambda <arg1>, <arg2>, <arg3>, ...: <expression>\n",
    "```\n",
    "\n",
    "Let's try it out:"
   ]
  },
  {
   "cell_type": "code",
   "execution_count": null,
   "metadata": {},
   "outputs": [],
   "source": [
    "y4 = lambda x: x ** 3\n",
    "y4(2)"
   ]
  },
  {
   "cell_type": "code",
   "execution_count": null,
   "metadata": {},
   "outputs": [],
   "source": [
    "valueIsTen = lambda slope, x, intercept: slope * x + intercept == 10\n",
    "\n",
    "print(valueIsTen(2, 3, 5))\n",
    "print(valueIsTen(2, 3, 4))"
   ]
  },
  {
   "cell_type": "markdown",
   "metadata": {},
   "source": [
    "If that's confusing, note that the `valueIsTen` function is equivalent to the following:"
   ]
  },
  {
   "cell_type": "code",
   "execution_count": null,
   "metadata": {},
   "outputs": [],
   "source": [
    "def valueIsTen(slope, x, intercept):\n",
    "    return slope * x + intercept == 10"
   ]
  },
  {
   "cell_type": "markdown",
   "metadata": {},
   "source": [
    "## Nested functions"
   ]
  },
  {
   "cell_type": "markdown",
   "metadata": {},
   "source": [
    "Consider the following function:"
   ]
  },
  {
   "cell_type": "code",
   "execution_count": null,
   "metadata": {},
   "outputs": [],
   "source": [
    "def myLine(x, slope, intercept):\n",
    "    value = slope * x\n",
    "    return value + intercept"
   ]
  },
  {
   "cell_type": "code",
   "execution_count": null,
   "metadata": {},
   "outputs": [],
   "source": [
    "myLine(2, 5, 3)"
   ]
  },
  {
   "cell_type": "markdown",
   "metadata": {},
   "source": [
    "This is equivalent to the following:"
   ]
  },
  {
   "cell_type": "code",
   "execution_count": null,
   "metadata": {},
   "outputs": [],
   "source": [
    "def anotherLine(x, slope, intercept):\n",
    "    value = multiplyBySlope(x, slope)  # Calling a function within a function\n",
    "    return value + intercept\n",
    "\n",
    "def multiplyBySlope(x, slope):\n",
    "    return slope * x"
   ]
  },
  {
   "cell_type": "code",
   "execution_count": null,
   "metadata": {},
   "outputs": [],
   "source": [
    "anotherLine(2, 5, 3)"
   ]
  },
  {
   "cell_type": "markdown",
   "metadata": {},
   "source": [
    "But wait a second! This shouldn't work, should it? Python runs the code top to bottom and we are using `multiplyBySlope` (line 2) before we've defined it (line 5)!\n",
    "\n",
    "Actually, no, we _aren't_ using `multiplyBySlope` yet. We have defined `anotherLine` to call `multiplyBySlope` when we call `anotherLine`, but we haven't _called_ `anotherLine` yet, so we haven't called `multiplyBySlope` before it is defined. \n",
    "\n",
    "It matters where we _call_ a function, not where we _define_ it."
   ]
  }
 ],
 "metadata": {
  "kernelspec": {
   "display_name": "Python 3 (ipykernel)",
   "language": "python",
   "name": "python3"
  },
  "language_info": {
   "codemirror_mode": {
    "name": "ipython",
    "version": 3
   },
   "file_extension": ".py",
   "mimetype": "text/x-python",
   "name": "python",
   "nbconvert_exporter": "python",
   "pygments_lexer": "ipython3",
   "version": "3.10.5"
  }
 },
 "nbformat": 4,
 "nbformat_minor": 1
}
