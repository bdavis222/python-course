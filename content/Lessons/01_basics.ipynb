{
 "cells": [
  {
   "cell_type": "markdown",
   "metadata": {},
   "source": [
    "# Python Basics"
   ]
  },
  {
   "cell_type": "markdown",
   "metadata": {},
   "source": [
    "## Reserved Words"
   ]
  },
  {
   "cell_type": "markdown",
   "metadata": {},
   "source": [
    "Reserved words (sometimes called keywords) are _reserved_ for very specific Python functionality, so we can't use them as variable names:"
   ]
  },
  {
   "cell_type": "code",
   "execution_count": null,
   "metadata": {},
   "outputs": [],
   "source": [
    "lambda = 5000"
   ]
  },
  {
   "cell_type": "markdown",
   "metadata": {},
   "source": [
    "By the way, did you notice that the above reserved word (`lambda`) was highlighted in a different color? Python highlights reserved words like this to help make it clear which words are reserved.\n",
    "\n",
    "Below are some common reserved words:\n",
    "\n",
    "    and, break, class, continue, def,\n",
    "    del, if, elif, else, except, False,\n",
    "    for, from, import, in, is, lambda, None,\n",
    "    not, or, pass, return, True, try, while"
   ]
  },
  {
   "cell_type": "markdown",
   "metadata": {},
   "source": [
    "## Importing modules"
   ]
  },
  {
   "cell_type": "markdown",
   "metadata": {},
   "source": [
    "Modules are packages of code containing functionality that we can use in our program. For example, we can access the `math` module to use some of its functionality, like square roots and exponentials. Here is some of the syntax for such imports:"
   ]
  },
  {
   "cell_type": "code",
   "execution_count": null,
   "metadata": {},
   "outputs": [],
   "source": [
    "from math import sqrt  # Import only the square root function from the math module\n",
    "print(sqrt(2))"
   ]
  },
  {
   "cell_type": "code",
   "execution_count": null,
   "metadata": {},
   "outputs": [],
   "source": [
    "import math            # Import everything from the math module\n",
    "print(math.exp(2))     # When done this way, we must reference \"math\" to get to its functions"
   ]
  },
  {
   "cell_type": "code",
   "execution_count": null,
   "metadata": {},
   "outputs": [],
   "source": [
    "from math import *     # Import everything from the math module\n",
    "print(exp(2))          # Here we don't have to preface anything with \"math\""
   ]
  },
  {
   "cell_type": "markdown",
   "metadata": {},
   "source": [
    "Another syntax is available to import modules:"
   ]
  },
  {
   "cell_type": "code",
   "execution_count": null,
   "metadata": {},
   "outputs": [],
   "source": [
    "# Import the math module and give it a new name\n",
    "import math as m  #  Note the use of \"as\", a reserved word\n",
    "\n",
    "print(m.sqrt(2))"
   ]
  },
  {
   "cell_type": "markdown",
   "metadata": {},
   "source": [
    "or specific functions or variables within a module:"
   ]
  },
  {
   "cell_type": "code",
   "execution_count": null,
   "metadata": {},
   "outputs": [],
   "source": [
    "# Import sqrt and pi from math and give them new names\n",
    "from math import sqrt as sq\n",
    "from math import pi as PIE\n",
    "print(sq(2))\n",
    "print(PIE)"
   ]
  },
  {
   "cell_type": "markdown",
   "metadata": {},
   "source": [
    "Here are some of the importing styles we've just seen:\n",
    "\n",
    "```\n",
    "from <module> import <function>    \n",
    "from <module> import *           \n",
    "import <module>\n",
    "import <module> as <new_name>\n",
    "from <module> import <function> as <new_name>\n",
    "```"
   ]
  },
  {
   "cell_type": "markdown",
   "metadata": {},
   "source": [
    "## Forcing variable types"
   ]
  },
  {
   "cell_type": "code",
   "execution_count": null,
   "metadata": {},
   "outputs": [],
   "source": [
    "x = 45\n",
    "print(type(x))  # Gives (returns) the type of variable\n",
    "print(x)"
   ]
  },
  {
   "cell_type": "code",
   "execution_count": null,
   "metadata": {},
   "outputs": [],
   "source": [
    "x = float(x)\n",
    "print(type(x))\n",
    "print(x)"
   ]
  },
  {
   "cell_type": "markdown",
   "metadata": {},
   "source": [
    "What will this produce?"
   ]
  },
  {
   "cell_type": "code",
   "execution_count": null,
   "metadata": {},
   "outputs": [],
   "source": [
    "x = 26.9\n",
    "print(int(x))"
   ]
  },
  {
   "cell_type": "markdown",
   "metadata": {},
   "source": [
    "## Long lines of code"
   ]
  },
  {
   "cell_type": "markdown",
   "metadata": {},
   "source": [
    "It is generally a good practice to keep your code from being too long on a single line. Breaking your code up into multiple shorter lines makes your code easier to scroll through and read.\n",
    "\n",
    "But what happens if we have a really long line that we _can't_ split up, because it is a single data value or something like that? We can use a backslash (with no space after it, just carriage return):"
   ]
  },
  {
   "cell_type": "code",
   "execution_count": null,
   "metadata": {},
   "outputs": [],
   "source": [
    "longString = \"This is a very long string that we should \\\n",
    "probably break up onto multiple lines.\""
   ]
  },
  {
   "cell_type": "markdown",
   "metadata": {},
   "source": [
    "## Formatting text and numbers"
   ]
  },
  {
   "cell_type": "code",
   "execution_count": null,
   "metadata": {},
   "outputs": [],
   "source": [
    "from math import pi  # Importing the \"pi\" function from the math module"
   ]
  },
  {
   "cell_type": "code",
   "execution_count": null,
   "metadata": {},
   "outputs": [],
   "source": [
    "print(f\"pi = {pi:.6f}\")  # With some formatting"
   ]
  },
  {
   "cell_type": "markdown",
   "metadata": {},
   "source": [
    "The above formatting is called an f-string. "
   ]
  },
  {
   "cell_type": "markdown",
   "metadata": {},
   "source": [
    "### Syntax"
   ]
  },
  {
   "cell_type": "markdown",
   "metadata": {},
   "source": [
    "The basic syntax is as follows:\n",
    "\n",
    "`f\"{<variable>:<width>.<number_of_decimal_places><data_type>}\"`\n",
    "\n",
    "Note the following:\n",
    "\n",
    "1. The string begins with an f _outside of the quotes_.\n",
    "2. The part of the string to be formatted is within curly braces.\n",
    "3. A colon can be provided to give formatting options.\n",
    "4. To the right of the colon is the width of the text.\n",
    "5. A period can be provided, to the right of which is the precision of a decimal number.\n",
    "6. To the right of that is the data type (e.g., d for integers, f for floats, etc.)\n",
    "\n",
    "See [here](https://builtin.com/data-science/python-f-string) for more information."
   ]
  },
  {
   "cell_type": "markdown",
   "metadata": {},
   "source": [
    "### Examples"
   ]
  },
  {
   "cell_type": "code",
   "execution_count": null,
   "metadata": {},
   "outputs": [],
   "source": [
    "radius = 6378100\n",
    "acceleration = 9.80665"
   ]
  },
  {
   "cell_type": "markdown",
   "metadata": {},
   "source": [
    "What will the next statement print?"
   ]
  },
  {
   "cell_type": "code",
   "execution_count": null,
   "metadata": {},
   "outputs": [],
   "source": [
    "#  If we use triple quotes we don't have to use \\ for multiple lines\n",
    "\n",
    "print(f'''At the Earth's radius of {radius:.2e} meters,\n",
    "the acceleration is {acceleration:6.0f} m/s^2.''')"
   ]
  },
  {
   "cell_type": "code",
   "execution_count": null,
   "metadata": {},
   "outputs": [],
   "source": [
    "print(f\"At the Earth's radius of {radius:.2e} meters, the acceleration is {acceleration:.0f} m/s^2.\")\n",
    "print(f\"At the Earth's radius of {radius:.2e} meters, the acceleration is {int(acceleration)} m/s^2.\")"
   ]
  },
  {
   "cell_type": "markdown",
   "metadata": {},
   "source": [
    "Note the difference between `:.0f` (float) and integer (rounding vs. truncating)\n",
    "\n",
    "Line breaks can also be implemented with `\\n`:"
   ]
  },
  {
   "cell_type": "code",
   "execution_count": null,
   "metadata": {},
   "outputs": [],
   "source": [
    "print(f\"At the Earth radius of {radius:.2e} meters,\\nthe acceleration is\\n{acceleration:.0f} m/s^2.\")"
   ]
  }
 ],
 "metadata": {
  "kernelspec": {
   "display_name": "Python 3",
   "language": "python",
   "name": "python3"
  },
  "language_info": {
   "codemirror_mode": {
    "name": "ipython",
    "version": 3
   },
   "file_extension": ".py",
   "mimetype": "text/x-python",
   "name": "python",
   "nbconvert_exporter": "python",
   "pygments_lexer": "ipython3",
   "version": "3.8.5"
  }
 },
 "nbformat": 4,
 "nbformat_minor": 1
}
