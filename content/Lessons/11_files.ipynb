{
 "cells": [
  {
   "cell_type": "markdown",
   "metadata": {},
   "source": [
    "# Files"
   ]
  },
  {
   "cell_type": "markdown",
   "metadata": {},
   "source": [
    "Reading data from a file is an essential in any programmer's toolbox. \n",
    "\n",
    "We will focus on ASCII (\"American Standard Code for Information Interchange\"), or \"plain text\", files in this lesson. File suffixes for text files are typically \".txt\". (By the way, Python scripts are actually plain text files, but use \".py\" for easy identification.)"
   ]
  },
  {
   "cell_type": "markdown",
   "metadata": {},
   "source": [
    "## Previewing files"
   ]
  },
  {
   "cell_type": "markdown",
   "metadata": {},
   "source": [
    "First, let's have a look at a simple file. It has the following contents in it:"
   ]
  },
  {
   "cell_type": "raw",
   "metadata": {},
   "source": [
    "0.528414105523\n",
    "0.485590538541\n",
    "0.507625802749\n",
    "0.557363253753\n",
    "0.438139261274\n",
    "0.362948960848\n",
    "0.915651778465\n",
    "0.366948458433\n",
    "0.935728205025\n",
    "0.0570791962983\n",
    "0.841236139026"
   ]
  },
  {
   "cell_type": "markdown",
   "metadata": {},
   "source": [
    "## Reading in files"
   ]
  },
  {
   "cell_type": "markdown",
   "metadata": {},
   "source": [
    "### Syntax"
   ]
  },
  {
   "cell_type": "markdown",
   "metadata": {},
   "source": [
    "The basic syntax for reading in a file is as follows:\n",
    "\n",
    "```\n",
    "with open(<path_to_file>, \"r\") as <variable_name>:\n",
    "    <code>\n",
    "```\n",
    "\n",
    "Note the following:\n",
    "\n",
    "1. The `with` keyword is used to only open the file while the indented code is run (and then the file is closed)\n",
    "2. We use the `open` function to open the file\n",
    "3. We pass the path to the file along with `\"r\"`, which tells Python that we want to open the file in \"read mode\"\n",
    "4. We can store a reference to the file as `<variable_name>`, which we can use in the indented code\n",
    "\n",
    "Let's open `data_1col.txt` and print each line:"
   ]
  },
  {
   "cell_type": "code",
   "execution_count": null,
   "metadata": {},
   "outputs": [],
   "source": [
    "with open(\"data/data_1col.txt\", \"r\") as file:\n",
    "    for line in file:  # The elements of \"file\" are the lines within the file by default\n",
    "        print(line)"
   ]
  },
  {
   "cell_type": "markdown",
   "metadata": {},
   "source": [
    "Rather than just printing, let's try storing each line as an element in a list:"
   ]
  },
  {
   "cell_type": "code",
   "execution_count": null,
   "metadata": {},
   "outputs": [],
   "source": [
    "data1_list = []\n",
    "\n",
    "with open(\"data/data_1col.txt\", \"r\") as file:\n",
    "    for line in file:\n",
    "        data1_list.append(line)"
   ]
  },
  {
   "cell_type": "markdown",
   "metadata": {},
   "source": [
    "By the way, if we just want to get a list where each element is each line in the file, we can accomplish the same thing with the `readlines` method:"
   ]
  },
  {
   "cell_type": "code",
   "execution_count": null,
   "metadata": {},
   "outputs": [],
   "source": [
    "with open(\"data/data_1col.txt\", \"r\") as file:\n",
    "    data1_list = file.readlines()"
   ]
  },
  {
   "cell_type": "code",
   "execution_count": null,
   "metadata": {},
   "outputs": [],
   "source": [
    "print(data1_list)"
   ]
  },
  {
   "cell_type": "markdown",
   "metadata": {},
   "source": [
    "Notice that the `\\n` characters (which correspond to returns to the next line in the file) are included.\n",
    "\n",
    "But what if we just look at one element at a time?"
   ]
  },
  {
   "cell_type": "code",
   "execution_count": null,
   "metadata": {},
   "outputs": [],
   "source": [
    "print(data1_list[0])"
   ]
  },
  {
   "cell_type": "markdown",
   "metadata": {},
   "source": [
    "Notice that Python prints the number AND the blank line (from the `\\n`).\n",
    "\n",
    "Ok, great! We have learned to extract values from a data file. Can we now do mathematical operations with this number?"
   ]
  },
  {
   "cell_type": "code",
   "execution_count": null,
   "metadata": {},
   "outputs": [],
   "source": [
    "print(data1_list[0] / 2)"
   ]
  },
  {
   "cell_type": "code",
   "execution_count": null,
   "metadata": {},
   "outputs": [],
   "source": [
    "print(type(data1_list[0]))"
   ]
  },
  {
   "cell_type": "markdown",
   "metadata": {},
   "source": [
    "Ok, so we need to convert this `string` to a number, like a `float`."
   ]
  },
  {
   "cell_type": "code",
   "execution_count": null,
   "metadata": {},
   "outputs": [],
   "source": [
    "print(float(data1_list[0]))"
   ]
  },
  {
   "cell_type": "markdown",
   "metadata": {},
   "source": [
    "And now let's try doing that same mathematical operation:"
   ]
  },
  {
   "cell_type": "code",
   "execution_count": null,
   "metadata": {},
   "outputs": [],
   "source": [
    "print(float(data1_list[0]) / 2)"
   ]
  },
  {
   "cell_type": "markdown",
   "metadata": {},
   "source": [
    "Ok, let's try something a little more involved: How can we calculate the mean and standard deviation of the values in the file?\n",
    "\n",
    "First, we need to convert all of the strings into floats:"
   ]
  },
  {
   "cell_type": "code",
   "execution_count": null,
   "metadata": {},
   "outputs": [],
   "source": [
    "data1_float_list = []\n",
    "for element in data1_list:\n",
    "    data1_float_list.append(float(element))"
   ]
  },
  {
   "cell_type": "markdown",
   "metadata": {},
   "source": [
    "Let's use the `numpy` module's functionality to get the mean and standard deviation of the values:"
   ]
  },
  {
   "cell_type": "code",
   "execution_count": null,
   "metadata": {},
   "outputs": [],
   "source": [
    "import numpy as np\n",
    "\n",
    "print(data1_float_list)\n",
    "print()\n",
    "print(np.mean(data1_float_list))\n",
    "print()\n",
    "print(np.std(data1_float_list))"
   ]
  },
  {
   "cell_type": "markdown",
   "metadata": {},
   "source": [
    "## Handling multiple columns and headers"
   ]
  },
  {
   "cell_type": "markdown",
   "metadata": {},
   "source": [
    "What if the file we're reading has multiple columns and a header? Let's look at the contents of another file:"
   ]
  },
  {
   "cell_type": "raw",
   "metadata": {},
   "source": [
    "# x           y\n",
    "0          0.5284    \n",
    "0.1        0.4856    \n",
    "0.2        0.5076    \n",
    "0.3        0.5574    \n",
    "0.4        0.4381    \n",
    "0.5        0.3629    \n",
    "0.6        0.9157    \n",
    "0.7        0.3669    \n",
    "0.8        0.9357    \n",
    "0.9        0.05708   \n",
    "1          0.8412  "
   ]
  },
  {
   "cell_type": "markdown",
   "metadata": {},
   "source": [
    "And let's read it in:"
   ]
  },
  {
   "cell_type": "code",
   "execution_count": null,
   "metadata": {
    "scrolled": false
   },
   "outputs": [],
   "source": [
    "with open(\"data/data_2col.txt\", \"r\") as file:\n",
    "    lines = file.readlines()\n",
    "\n",
    "for line in lines:\n",
    "    print(line)"
   ]
  },
  {
   "cell_type": "markdown",
   "metadata": {},
   "source": [
    "Headers are typically the first line or lines of the file, and tell you what each column in the file represents. They are sometimes denoted with a `#` symbol so you can distinguish them from the data.\n",
    "\n",
    "So we can imagine detecting header lines by checking if the first character is `#`."
   ]
  },
  {
   "cell_type": "markdown",
   "metadata": {},
   "source": [
    "## Processing lines of data within a file"
   ]
  },
  {
   "cell_type": "markdown",
   "metadata": {},
   "source": [
    "How could we perform numerical operations on the numbers in this file? What steps would we have to take? \n",
    "\n",
    "We need to isolate the numbers and convert them to floats, like we saw before. Is there a simple way to do this?"
   ]
  },
  {
   "cell_type": "markdown",
   "metadata": {},
   "source": [
    "### The `split` method"
   ]
  },
  {
   "cell_type": "markdown",
   "metadata": {},
   "source": [
    "One simple technique is to use the `split` method to split apart each string using whitespace as a delimeter:"
   ]
  },
  {
   "cell_type": "code",
   "execution_count": null,
   "metadata": {},
   "outputs": [],
   "source": [
    "splitLines = []\n",
    "\n",
    "for line in lines:\n",
    "    print(line.split())  # Printing the result of the split function on each line.\n",
    "                         # Note the absence of an argument.\n",
    "    splitLines.append(line.split())  # Adding each split line to a list for later use."
   ]
  },
  {
   "cell_type": "markdown",
   "metadata": {},
   "source": [
    "Note that each line (a string) has been turned into a list of strings, where the whitespace has been removed. So `split` is a method that acts on a string to create a list of string values. By default, `split` splits a string on spaces, but other delimiters can be used instead (e.g., `line.split(\",\")` if the file contains values separated by commas). Look up the documentation for `split` if you want to learn more!\n",
    "\n",
    "Let's look at that list we created during our loop above."
   ]
  },
  {
   "cell_type": "code",
   "execution_count": null,
   "metadata": {},
   "outputs": [],
   "source": [
    "print(splitLines)"
   ]
  },
  {
   "cell_type": "code",
   "execution_count": null,
   "metadata": {},
   "outputs": [],
   "source": [
    "print(splitLines[1])\n",
    "print(splitLines[1][1])"
   ]
  },
  {
   "cell_type": "markdown",
   "metadata": {},
   "source": [
    "## Writing data to a file"
   ]
  },
  {
   "cell_type": "markdown",
   "metadata": {},
   "source": [
    "The syntax for writing data is identical to reading data, other than using `\"w\"` (for write) instead of `\"r\"` (read) for the second argument in the `open` function:"
   ]
  },
  {
   "cell_type": "code",
   "execution_count": null,
   "metadata": {},
   "outputs": [],
   "source": [
    "dataToWrite = \"# header line\\nline 1\\nline 2\"\n",
    "\n",
    "with open(\"data/new_data.txt\", \"w\") as file:\n",
    "    file.write(dataToWrite)"
   ]
  },
  {
   "cell_type": "markdown",
   "metadata": {},
   "source": [
    "Note that we use the `write` method to write the data, and that data must be a string with each line separated by a `\"\\n\"`. So, if we want to save a list of data to a file, we would have to convert the data to this specific type of string first."
   ]
  },
  {
   "cell_type": "markdown",
   "metadata": {},
   "source": [
    "### Preparing data for writing"
   ]
  },
  {
   "cell_type": "markdown",
   "metadata": {},
   "source": [
    "We can use the `join` method to convert a list of strings to a single string to be saved to a file:"
   ]
  },
  {
   "cell_type": "code",
   "execution_count": null,
   "metadata": {},
   "outputs": [],
   "source": [
    "dataAsList = [\"# header\", \"line 1 data\", \"line 2 data\"]\n",
    "\n",
    "dataAsString = \"\\n\".join(dataAsList)\n",
    "print(dataAsString)"
   ]
  },
  {
   "cell_type": "markdown",
   "metadata": {},
   "source": [
    "Let's break down how this works:\n",
    "\n",
    "1. The `join` method is called on a string that we define (`\"\\n\"` in this case)\n",
    "2. The string that we define is the separator that will be placed between each of the string elements in the list we pass to the `join` method\n",
    "3. The list with the string elements we want joined into a string is passed to the `join` method.\n",
    "\n",
    "So, if our data is a list of lists, and we want each column of the data separated with a space, we can create the data string as follows:"
   ]
  },
  {
   "cell_type": "code",
   "execution_count": null,
   "metadata": {},
   "outputs": [],
   "source": [
    "dataAsList = [[\"#\", \"value1\", \"value2\", \"value3\"], [5, 7, 12], [30, 15, -4]]\n",
    "\n",
    "rows = []\n",
    "for row in dataAsList:\n",
    "    stringRowList = [str(element) for element in row]  # Converting each list element to a string\n",
    "    stringRow = \" \".join(stringRowList)  # Turning the list of strings into a space-separated string\n",
    "    rows.append(stringRow)  # Appending each space-separated string to rows\n",
    "\n",
    "dataAsString = \"\\n\".join(rows)  # Turning the list of space-separated strings to a string separated by \\n characters\n",
    "print(dataAsString)"
   ]
  },
  {
   "cell_type": "markdown",
   "metadata": {},
   "source": [
    "## Appending data to a file"
   ]
  },
  {
   "cell_type": "markdown",
   "metadata": {},
   "source": [
    "The syntax for writing data is identical to writing data, other than using `\"a\"` (for append) instead of `\"w\"` (write) for the second argument in the `open` function. This will append lines to the _end_ of a file, rather than totally rewriting the file (erasing the data that already exists in the file and only writing the new data)."
   ]
  }
 ],
 "metadata": {
  "kernelspec": {
   "display_name": "Python 3 (ipykernel)",
   "language": "python",
   "name": "python3"
  },
  "language_info": {
   "codemirror_mode": {
    "name": "ipython",
    "version": 3
   },
   "file_extension": ".py",
   "mimetype": "text/x-python",
   "name": "python",
   "nbconvert_exporter": "python",
   "pygments_lexer": "ipython3",
   "version": "3.10.5"
  }
 },
 "nbformat": 4,
 "nbformat_minor": 2
}
