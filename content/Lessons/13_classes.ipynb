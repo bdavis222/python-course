{
 "cells": [
  {
   "cell_type": "markdown",
   "metadata": {},
   "source": [
    "# Classes"
   ]
  },
  {
   "cell_type": "markdown",
   "metadata": {},
   "source": [
    "In our previous lesson, we organized employee data into a dictionary structure, so that it was very easy to look up information for a particular employee. We can also organize information using a `class`.\n",
    "\n",
    "Classes are just a group of attributes and functions associated with a particular _class of object_. For example, a dog is a particular _class_ of animal which is furry (attribute), four-legged (attribute), and can bark (function).\n",
    "\n",
    "Let's look at the syntax of a `class`, and then use that to make a `Dog` class:"
   ]
  },
  {
   "cell_type": "markdown",
   "metadata": {},
   "source": [
    "## Syntax"
   ]
  },
  {
   "cell_type": "markdown",
   "metadata": {},
   "source": [
    "The basic syntax is as follows:\n",
    "\n",
    "```\n",
    "class <ClassName>:\n",
    "    def __init__(self):\n",
    "        self.<attribute1>\n",
    "        self.<attribute2>\n",
    "    \n",
    "    def <method_name>(self):\n",
    "        <code>\n",
    "```\n",
    "\n",
    "Note the following:\n",
    "\n",
    "1. The use of the `class` keyword.\n",
    "2. The class name is in PascalCase (meaning the first letter of each word is capitalized).\n",
    "3. The colon after the class name.\n",
    "4. The `__init__` function (yes, it must have two underscores before and two after the word `init`).\n",
    "5. The `self` keyword used as a function argument and a prefix for attributes.\n",
    "6. Other functions (called methods) can be defined within the class.\n",
    "\n",
    "Let's use this to define our `Dog` class:"
   ]
  },
  {
   "cell_type": "code",
   "execution_count": null,
   "metadata": {},
   "outputs": [],
   "source": [
    "class Dog:\n",
    "    def __init__(self):\n",
    "        self.hair = \"furry\"\n",
    "        self.legs = 4\n",
    "    \n",
    "    def bark(self):\n",
    "        print(\"BARK!\")"
   ]
  },
  {
   "cell_type": "markdown",
   "metadata": {},
   "source": [
    "## Creating an instance"
   ]
  },
  {
   "cell_type": "markdown",
   "metadata": {},
   "source": [
    "So what can we do with this? Well, first we need to create a `Dog` object, and then we can use that to access information about it and perform its functions:"
   ]
  },
  {
   "cell_type": "code",
   "execution_count": null,
   "metadata": {},
   "outputs": [],
   "source": [
    "dog = Dog()"
   ]
  },
  {
   "cell_type": "markdown",
   "metadata": {},
   "source": [
    "We have just _instantiated_ our new dog. In other words, we have created a new _instance_ of the `Dog` class. When we do this, everything in the `Dog` class `__init__` function is run."
   ]
  },
  {
   "cell_type": "markdown",
   "metadata": {},
   "source": [
    "## Accessing attributes"
   ]
  },
  {
   "cell_type": "code",
   "execution_count": null,
   "metadata": {},
   "outputs": [],
   "source": [
    "dog.hair"
   ]
  },
  {
   "cell_type": "code",
   "execution_count": null,
   "metadata": {},
   "outputs": [],
   "source": [
    "dog.legs"
   ]
  },
  {
   "cell_type": "markdown",
   "metadata": {},
   "source": [
    "By the way, the reason that we can call `dog.legs` is because we defined `self.legs` as an attribute in the `__init__` method within our class.\n",
    "\n",
    "By instantiating an instance with `dog = Dog()`, we have basically told Python that our dog variable will take the place of the `self` keyword everywhere we've put it in our class definition (like in `__init__`, where it's used as a prefix for attribute access)."
   ]
  },
  {
   "cell_type": "markdown",
   "metadata": {},
   "source": [
    "## Calling methods"
   ]
  },
  {
   "cell_type": "markdown",
   "metadata": {},
   "source": [
    "Let's call our `bark` method. (Yes, `bark` is a function, but functions that are part of a class are usually called methods.)"
   ]
  },
  {
   "cell_type": "code",
   "execution_count": null,
   "metadata": {},
   "outputs": [],
   "source": [
    "dog.bark()"
   ]
  },
  {
   "cell_type": "markdown",
   "metadata": {},
   "source": [
    "And here we see how the `self` parameter is used in the `bark` method that we defined: by passing it as a parameter in our class, we can call the method with `self.bark()`, where `self` is `dog`, in this instance.\n",
    "\n",
    "If we wanted, we could create another instance with some other name, like `furball = Dog()`, and then we could call the `bark` method for that instance with `furball.bark()`.\n",
    "\n",
    "We could create as many of these instances as we like, just like we can create as many other variables of other types as we like. After all, our `Dog` class is a custom class of object, but it can be stored in a variable and used later, just like a string, an integer, a list, or any other object that holds data in our program."
   ]
  },
  {
   "cell_type": "markdown",
   "metadata": {},
   "source": [
    "## Using arguments"
   ]
  },
  {
   "cell_type": "markdown",
   "metadata": {},
   "source": [
    "### Required arguments"
   ]
  },
  {
   "cell_type": "markdown",
   "metadata": {},
   "source": [
    "But not every dog is alike! Every dog should have a name. Let's add a way to give our dog a name when we first create it.\n",
    "\n",
    "Remember that when we first create a new instance of `Dog`, everything in the `__init__` function gets run. So let's add the ability to pass a name when we create this instance:"
   ]
  },
  {
   "cell_type": "code",
   "execution_count": null,
   "metadata": {},
   "outputs": [],
   "source": [
    "class Dog:\n",
    "    def __init__(self, name):  # Note the new argument added here for name\n",
    "        self.hair = \"furry\"\n",
    "        self.legs = 4\n",
    "        self.name = name  # This line makes it so we can call dog.name to get the name\n",
    "    \n",
    "    def bark(self):\n",
    "        print(\"BARK!\")"
   ]
  },
  {
   "cell_type": "markdown",
   "metadata": {},
   "source": [
    "So now let's create a new dog with a name and verify that it actually has a name:"
   ]
  },
  {
   "cell_type": "code",
   "execution_count": null,
   "metadata": {},
   "outputs": [],
   "source": [
    "rex = Dog(\"Rex\")\n",
    "rex.name"
   ]
  },
  {
   "cell_type": "markdown",
   "metadata": {},
   "source": [
    "And now _every_ instance of `Dog` we create _must_ have a name, since we didn't give that argument a default value in the `__init__` function:"
   ]
  },
  {
   "cell_type": "markdown",
   "metadata": {},
   "source": [
    "### Optional arguments"
   ]
  },
  {
   "cell_type": "markdown",
   "metadata": {},
   "source": [
    "But not all dogs are the same, and not just because of their different names. Some are aggressive, and some are not. Let's add an `aggressive` attribute to our class (and since most dogs are not aggressive, let's set the default to `False`):"
   ]
  },
  {
   "cell_type": "code",
   "execution_count": null,
   "metadata": {},
   "outputs": [],
   "source": [
    "class Dog:\n",
    "    def __init__(self, name, aggressive=False):\n",
    "        self.hair = \"furry\"\n",
    "        self.legs = 4\n",
    "        self.name = name\n",
    "        self.aggressive = aggressive  # Again, this is needed to give us access to Dog.aggressive\n",
    "    \n",
    "    def bark(self):\n",
    "        print(\"BARK!\")"
   ]
  },
  {
   "cell_type": "markdown",
   "metadata": {},
   "source": [
    "Now let's create a couple of dogs with different attributes: "
   ]
  },
  {
   "cell_type": "code",
   "execution_count": null,
   "metadata": {},
   "outputs": [],
   "source": [
    "lassie = Dog(\"Lassie\")\n",
    "rex = Dog(\"Rex\", aggressive=True)"
   ]
  },
  {
   "cell_type": "code",
   "execution_count": null,
   "metadata": {},
   "outputs": [],
   "source": [
    "print(lassie.name)\n",
    "print(lassie.aggressive)  # The default value is False"
   ]
  },
  {
   "cell_type": "code",
   "execution_count": null,
   "metadata": {},
   "outputs": [],
   "source": [
    "print(rex.name)\n",
    "print(rex.aggressive)  # We overwrote the default value"
   ]
  },
  {
   "cell_type": "markdown",
   "metadata": {},
   "source": [
    "## Accessing attributes within a class"
   ]
  },
  {
   "cell_type": "markdown",
   "metadata": {},
   "source": [
    "Let's now use the `aggressive` attribute to update our `bark` method."
   ]
  },
  {
   "cell_type": "code",
   "execution_count": null,
   "metadata": {},
   "outputs": [],
   "source": [
    "class Dog:\n",
    "    def __init__(self, name, aggressive=False):\n",
    "        self.hair = \"furry\"\n",
    "        self.legs = 4\n",
    "        self.name = name\n",
    "        self.aggressive = aggressive\n",
    "    \n",
    "    def bark(self):\n",
    "        if self.aggressive:  # We can only access this because of the last line of the __init__ method\n",
    "            print(\"BARK!\")\n",
    "        else:\n",
    "            print(\"whimper...\")"
   ]
  },
  {
   "cell_type": "markdown",
   "metadata": {},
   "source": [
    "Notice how we were able to access the `aggressive` attribute within the `Dog` class by using the `self` keyword. It makes sense that we should use `self` here, as we are within the class and haven't yet created some `rex` or `lassie` variable yet to access attributes from. Whenever we need to use a class's own attributes or methods within that class, we use `self` in this way.\n",
    "\n",
    "Let's create our dogs again with this updated class, and then see how they behave:"
   ]
  },
  {
   "cell_type": "code",
   "execution_count": null,
   "metadata": {},
   "outputs": [],
   "source": [
    "lassie = Dog(\"Lassie\")\n",
    "rex = Dog(\"Rex\", aggressive=True)"
   ]
  },
  {
   "cell_type": "code",
   "execution_count": null,
   "metadata": {},
   "outputs": [],
   "source": [
    "lassie.bark()"
   ]
  },
  {
   "cell_type": "code",
   "execution_count": null,
   "metadata": {},
   "outputs": [],
   "source": [
    "rex.bark()"
   ]
  },
  {
   "cell_type": "markdown",
   "metadata": {},
   "source": [
    "Exactly as expected."
   ]
  },
  {
   "cell_type": "markdown",
   "metadata": {},
   "source": [
    "# Python's built-in classes"
   ]
  },
  {
   "cell_type": "markdown",
   "metadata": {},
   "source": [
    "Believe it or not, you've actually been working with Python's built-in classes for quite some time now.\n",
    "\n",
    "Note the syntax for calling class methods and accessing class attributes:\n",
    "\n",
    "`<instance_variable_name>.<method_name>()`\n",
    "\n",
    "and\n",
    "\n",
    "`<instance_variable_name>.<attribute_name>`\n",
    "\n",
    "What do you do when you want to add a new element to a `list`?"
   ]
  },
  {
   "cell_type": "code",
   "execution_count": null,
   "metadata": {},
   "outputs": [],
   "source": [
    "myList = []\n",
    "myList.append(1)\n",
    "print(myList)"
   ]
  },
  {
   "cell_type": "markdown",
   "metadata": {},
   "source": [
    "Yes, as it turns out, lists are also a class of object that you can call methods on! `append`, `remove`, and `pop` are among many of the methods defined within the `List` class."
   ]
  }
 ],
 "metadata": {
  "kernelspec": {
   "display_name": "Python 3",
   "language": "python",
   "name": "python3"
  },
  "language_info": {
   "codemirror_mode": {
    "name": "ipython",
    "version": 3
   },
   "file_extension": ".py",
   "mimetype": "text/x-python",
   "name": "python",
   "nbconvert_exporter": "python",
   "pygments_lexer": "ipython3",
   "version": "3.8.5"
  }
 },
 "nbformat": 4,
 "nbformat_minor": 5
}
