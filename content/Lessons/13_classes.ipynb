{
 "cells": [
  {
   "cell_type": "markdown",
   "id": "cbad0076",
   "metadata": {},
   "source": [
    "# Classes"
   ]
  },
  {
   "cell_type": "markdown",
   "id": "00bf006d",
   "metadata": {},
   "source": [
    "In our previous lesson, we organized employee data into a dictionary structure, so that it was very easy to look up information for a particular employee. We can also organize information using a `class`.\n",
    "\n",
    "Classes are just a group of attributes and functions associated with a particular _class of object_. For example, a dog is a particular _class_ of animal which is furry (attribute), four-legged (attribute), and can bark (function).\n",
    "\n",
    "Let's look at the syntax of a `class`, and then use that to make a `Dog` class:"
   ]
  },
  {
   "cell_type": "markdown",
   "id": "1de1e429",
   "metadata": {},
   "source": [
    "## Syntax"
   ]
  },
  {
   "cell_type": "markdown",
   "id": "f254df7b",
   "metadata": {},
   "source": [
    "The basic syntax is as follows:\n",
    "\n",
    "```\n",
    "class <ClassName>:\n",
    "    def __init__(self):\n",
    "        self.<attribute1>\n",
    "        self.<attribute2>\n",
    "    \n",
    "    def <method_name>(self):\n",
    "        <code>\n",
    "```\n",
    "\n",
    "Note the following:\n",
    "\n",
    "1. The use of the `class` keyword\n",
    "2. The class name is in PascalCase (meaning the first letter of each word is capitalized)\n",
    "3. The colon after the class name\n",
    "4. The `__init__` function (yes, it must have two underscores before and two after the word `init`)\n",
    "5. The `self` keyword used as a function argument and a prefix for attributes\n",
    "6. Other functions (called methods) can be defined within the class\n",
    "\n",
    "Let's use this to define our `Dog` class:"
   ]
  },
  {
   "cell_type": "code",
   "execution_count": null,
   "id": "d463ab10",
   "metadata": {},
   "outputs": [],
   "source": [
    "class Dog:\n",
    "    def __init__(self):\n",
    "        self.hair = \"furry\"\n",
    "        self.legs = 4\n",
    "    \n",
    "    def bark(self):\n",
    "        print(\"BARK!\")"
   ]
  },
  {
   "cell_type": "markdown",
   "id": "18f0ef02",
   "metadata": {},
   "source": [
    "## Creating an instance"
   ]
  },
  {
   "cell_type": "markdown",
   "id": "ef5bf77b",
   "metadata": {},
   "source": [
    "So what can we do with this? Well, first we need to create a `Dog` object, and then we can use that to access information about it and perform its functions:"
   ]
  },
  {
   "cell_type": "code",
   "execution_count": null,
   "id": "2faa62ab",
   "metadata": {},
   "outputs": [],
   "source": [
    "dog = Dog()"
   ]
  },
  {
   "cell_type": "markdown",
   "id": "896dc820",
   "metadata": {},
   "source": [
    "We have just _instantiated_ our new dog. In other words, we have created a new _instance_ of the `Dog` class. When we do this, everything in the `Dog` class `__init__` function is run."
   ]
  },
  {
   "cell_type": "markdown",
   "id": "2459a89b",
   "metadata": {},
   "source": [
    "## Accessing attributes"
   ]
  },
  {
   "cell_type": "code",
   "execution_count": null,
   "id": "a94a270e",
   "metadata": {},
   "outputs": [],
   "source": [
    "dog.hair"
   ]
  },
  {
   "cell_type": "code",
   "execution_count": null,
   "id": "8c87eef8",
   "metadata": {},
   "outputs": [],
   "source": [
    "dog.legs"
   ]
  },
  {
   "cell_type": "markdown",
   "id": "c3ce7ec6",
   "metadata": {},
   "source": [
    "## Calling methods"
   ]
  },
  {
   "cell_type": "markdown",
   "id": "605267de",
   "metadata": {},
   "source": [
    "Let's call our `bark` method. (Yes, `bark` is a function, but functions that are part of a class are usually called methods.)"
   ]
  },
  {
   "cell_type": "code",
   "execution_count": null,
   "id": "0d2134dd",
   "metadata": {},
   "outputs": [],
   "source": [
    "dog.bark()"
   ]
  },
  {
   "cell_type": "markdown",
   "id": "8820a5e9",
   "metadata": {},
   "source": [
    "## Using arguments"
   ]
  },
  {
   "cell_type": "markdown",
   "id": "ebf31b28",
   "metadata": {},
   "source": [
    "### Required arguments"
   ]
  },
  {
   "cell_type": "markdown",
   "id": "b4fa0a1f",
   "metadata": {},
   "source": [
    "But not every dog is alike! Every dog should have a name. Let's add a way to give our dog a name when we first create it.\n",
    "\n",
    "Remember that when we first create a new instance of `Dog`, everything in the `__init__` function gets run. So let's add the ability to pass a name when we create this instance:"
   ]
  },
  {
   "cell_type": "code",
   "execution_count": null,
   "id": "877e7895",
   "metadata": {},
   "outputs": [],
   "source": [
    "class Dog:\n",
    "    def __init__(self, name):  # Note the new argument added here for name\n",
    "        self.hair = \"furry\"\n",
    "        self.legs = 4\n",
    "        self.name = name  # This line makes it so we can call dog.name to get the name\n",
    "    \n",
    "    def bark(self):\n",
    "        print(\"BARK!\")"
   ]
  },
  {
   "cell_type": "markdown",
   "id": "38717d85",
   "metadata": {},
   "source": [
    "So now let's create a new dog with a name and verify that it actually has a name:"
   ]
  },
  {
   "cell_type": "code",
   "execution_count": null,
   "id": "855df344",
   "metadata": {},
   "outputs": [],
   "source": [
    "rex = Dog(\"Rex\")\n",
    "rex.name"
   ]
  },
  {
   "cell_type": "markdown",
   "id": "32db3c1b",
   "metadata": {},
   "source": [
    "And now _every_ instance of `Dog` we create _must_ have a name, since we didn't give that argument a default value in the `__init__` function:"
   ]
  },
  {
   "cell_type": "markdown",
   "id": "dbb21ea3",
   "metadata": {},
   "source": [
    "### Optional arguments"
   ]
  },
  {
   "cell_type": "markdown",
   "id": "460127f8",
   "metadata": {},
   "source": [
    "But not all dogs are the same, and not just because of their different names. Some are aggressive, and some are not. Let's add an `aggressive` attribute to our class (and since most dogs are not aggressive, let's set the default to `False`):"
   ]
  },
  {
   "cell_type": "code",
   "execution_count": null,
   "id": "ccc63c52",
   "metadata": {},
   "outputs": [],
   "source": [
    "class Dog:\n",
    "    def __init__(self, name, aggressive=False):\n",
    "        self.hair = \"furry\"\n",
    "        self.legs = 4\n",
    "        self.name = name\n",
    "        self.aggressive = aggressive  # Again, this is needed to give us access to Dog.aggressive\n",
    "    \n",
    "    def bark(self):\n",
    "        print(\"BARK!\")"
   ]
  },
  {
   "cell_type": "markdown",
   "id": "21945943",
   "metadata": {},
   "source": [
    "Now let's create a couple of dogs with different attributes: "
   ]
  },
  {
   "cell_type": "code",
   "execution_count": null,
   "id": "75e3e27f",
   "metadata": {},
   "outputs": [],
   "source": [
    "lassie = Dog(\"Lassie\")\n",
    "rex = Dog(\"Rex\", aggressive=True)"
   ]
  },
  {
   "cell_type": "code",
   "execution_count": null,
   "id": "022b69a8",
   "metadata": {},
   "outputs": [],
   "source": [
    "print(lassie.name)\n",
    "print(lassie.aggressive)  # The default value is False"
   ]
  },
  {
   "cell_type": "code",
   "execution_count": null,
   "id": "5ddeb24b",
   "metadata": {},
   "outputs": [],
   "source": [
    "print(rex.name)\n",
    "print(rex.aggressive)  # We overwrote the default value"
   ]
  },
  {
   "cell_type": "markdown",
   "id": "85a09bcb",
   "metadata": {},
   "source": [
    "## Accessing attributes within a class"
   ]
  },
  {
   "cell_type": "markdown",
   "id": "fedcea27",
   "metadata": {},
   "source": [
    "Let's now use the `aggressive` attribute to update our `bark` method."
   ]
  },
  {
   "cell_type": "code",
   "execution_count": null,
   "id": "6dc2c418",
   "metadata": {},
   "outputs": [],
   "source": [
    "class Dog:\n",
    "    def __init__(self, name, aggressive=False):\n",
    "        self.hair = \"furry\"\n",
    "        self.legs = 4\n",
    "        self.name = name\n",
    "        self.aggressive = aggressive\n",
    "    \n",
    "    def bark(self):\n",
    "        if self.aggressive:  # We can only access this because of the last line of the __init__ method\n",
    "            print(\"BARK!\")\n",
    "        else:\n",
    "            print(\"whimper...\")"
   ]
  },
  {
   "cell_type": "markdown",
   "id": "aec2f294",
   "metadata": {},
   "source": [
    "Notice how we were able to access the `aggressive` attribute within the `Dog` class by using the `self` keyword. It makes sense that we should use `self` here, as we are within the class and haven't yet created some `rex` or `lassie` variable yet to access attributes from. Whenever we need to use a class's own attributes or methods within that class, we use `self` in this way.\n",
    "\n",
    "Let's create our dogs again with this updated class, and then see how they behave:"
   ]
  },
  {
   "cell_type": "code",
   "execution_count": null,
   "id": "6232d750",
   "metadata": {},
   "outputs": [],
   "source": [
    "lassie = Dog(\"Lassie\")\n",
    "rex = Dog(\"Rex\", aggressive=True)"
   ]
  },
  {
   "cell_type": "code",
   "execution_count": null,
   "id": "dcf32152",
   "metadata": {},
   "outputs": [],
   "source": [
    "lassie.bark()"
   ]
  },
  {
   "cell_type": "code",
   "execution_count": null,
   "id": "da4f4bcf",
   "metadata": {},
   "outputs": [],
   "source": [
    "rex.bark()"
   ]
  },
  {
   "cell_type": "markdown",
   "id": "e3e77498",
   "metadata": {},
   "source": [
    "Exactly as expected."
   ]
  },
  {
   "cell_type": "markdown",
   "id": "0359b19a",
   "metadata": {},
   "source": [
    "# Python's built-in classes"
   ]
  },
  {
   "cell_type": "markdown",
   "id": "71d2a38f",
   "metadata": {},
   "source": [
    "Believe it or not, you've actually been working with Python's built-in classes for quite some time now.\n",
    "\n",
    "Note the syntax for calling class methods and accessing class attributes:\n",
    "\n",
    "`<instance_variable_name>.<method_name>()` and `<instance_variable_name>.<attribute_name>`\n",
    "\n",
    "What do you do when you want to add a new element to a `list`?"
   ]
  },
  {
   "cell_type": "code",
   "execution_count": null,
   "id": "bc98ea19",
   "metadata": {},
   "outputs": [],
   "source": [
    "myList = []\n",
    "myList.append(1)\n",
    "print(myList)"
   ]
  },
  {
   "cell_type": "markdown",
   "id": "047402e9",
   "metadata": {},
   "source": [
    "Yes, as it turns out, lists are also a class of object that you can call methods on! `append`, `remove`, and `pop` are among many of the methods defined within the `List` class."
   ]
  },
  {
   "cell_type": "markdown",
   "id": "6bcb4d1e",
   "metadata": {},
   "source": [
    "# Revisiting a previous example"
   ]
  },
  {
   "cell_type": "markdown",
   "id": "a16482da",
   "metadata": {},
   "source": [
    "In our lesson on dictionaries, we made an `employees` dictionary that held all of our data for our company's employees. Can we use a class for this instead? How would that look?\n",
    "\n",
    "Well, we know that each employee had some _data_ associated with them, which we could say are _attributes_ of those employees. Why don't we start by creating an `Employee` class that has those attributes?"
   ]
  },
  {
   "cell_type": "code",
   "execution_count": null,
   "id": "c9cc4bb2",
   "metadata": {},
   "outputs": [],
   "source": [
    "class Employee:\n",
    "    def __init__(self, idNumber, email, phoneNumber):\n",
    "        self.idNumber = idNumber  # Note that this value will be accessed with Employee.id, not Employee.idNumber\n",
    "        self.email = email\n",
    "        self.phoneNumber = phoneNumber"
   ]
  },
  {
   "cell_type": "markdown",
   "id": "67b18bb9",
   "metadata": {},
   "source": [
    "Let's create an instance for Alph and check that we can access those attributes:"
   ]
  },
  {
   "cell_type": "code",
   "execution_count": null,
   "id": "31f525b5",
   "metadata": {},
   "outputs": [],
   "source": [
    "alph = Employee(\"000001\", \"alph@company.com\", \"472-575-1534\")"
   ]
  },
  {
   "cell_type": "code",
   "execution_count": null,
   "id": "a959b7e1",
   "metadata": {},
   "outputs": [],
   "source": [
    "alph.idNumber"
   ]
  },
  {
   "cell_type": "code",
   "execution_count": null,
   "id": "b94560d6",
   "metadata": {},
   "outputs": [],
   "source": [
    "alph.email"
   ]
  },
  {
   "cell_type": "code",
   "execution_count": null,
   "id": "27524439",
   "metadata": {},
   "outputs": [],
   "source": [
    "alph.phoneNumber"
   ]
  },
  {
   "cell_type": "markdown",
   "id": "fbe15db9",
   "metadata": {},
   "source": [
    "By the way, the name of the attribute that we use to access the data doesn't have to be equivalent to the name of the argument that is passed in. Look at what happens when we change some attribute names:"
   ]
  },
  {
   "cell_type": "code",
   "execution_count": null,
   "id": "27141063",
   "metadata": {},
   "outputs": [],
   "source": [
    "class Employee:\n",
    "    def __init__(self, idNumber, email, phoneNumber):\n",
    "        self.id = idNumber  # This value will be accessed with employee.id, not employee.idNumber\n",
    "        self.email = email\n",
    "        self.phone = phoneNumber  # We are changing the name of this attribute also"
   ]
  },
  {
   "cell_type": "markdown",
   "id": "d6610b0a",
   "metadata": {},
   "source": [
    "Now we will create another instance for Alph using this updated class:"
   ]
  },
  {
   "cell_type": "code",
   "execution_count": null,
   "id": "e1c6d964",
   "metadata": {},
   "outputs": [],
   "source": [
    "alph = Employee(\"000001\", \"alph@company.com\", \"472-575-1534\")"
   ]
  },
  {
   "cell_type": "markdown",
   "id": "26a650c9",
   "metadata": {},
   "source": [
    "What happens when we try to access `idNumber`?"
   ]
  },
  {
   "cell_type": "code",
   "execution_count": null,
   "id": "8b7457c7",
   "metadata": {},
   "outputs": [],
   "source": [
    "alph.idNumber"
   ]
  },
  {
   "cell_type": "markdown",
   "id": "22b5529e",
   "metadata": {},
   "source": [
    "That isn't the name of the attribute anymore! We changed it to `id`:"
   ]
  },
  {
   "cell_type": "code",
   "execution_count": null,
   "id": "978396dc",
   "metadata": {},
   "outputs": [],
   "source": [
    "alph.id"
   ]
  },
  {
   "cell_type": "markdown",
   "id": "12a22b00",
   "metadata": {},
   "source": [
    "We did the same with the `phone` attribute as well:"
   ]
  },
  {
   "cell_type": "code",
   "execution_count": null,
   "id": "085b73ca",
   "metadata": {},
   "outputs": [],
   "source": [
    "alph.phone"
   ]
  },
  {
   "cell_type": "markdown",
   "id": "d2bccde5",
   "metadata": {},
   "source": [
    "Ok, so now we have a class to create each employee. Let's make a `Staff` class to house all of the data on our employees.\n",
    "\n",
    "We can have a single attribute for our employee dictionary (let's call that `workers`), but we also need a method to add employees to that dictionary and another to remove them:"
   ]
  },
  {
   "cell_type": "code",
   "execution_count": null,
   "id": "1fb4a2d3",
   "metadata": {},
   "outputs": [],
   "source": [
    "class Staff:\n",
    "    def __init__(self):\n",
    "        self.workers = {}  # We can get the data by accessing Staff.workers\n",
    "    \n",
    "    def addEmployee(self, employee):  # We will pass an instance of the Employee class here\n",
    "        self.workers[employee.id] = employee  # Note that id is an attribute of the Employee class\n",
    "    \n",
    "    def removeEmployee(self, employee):\n",
    "        del self.workers[employee.id]  # Deleting a key (and its value) from the dictionary"
   ]
  },
  {
   "cell_type": "markdown",
   "id": "4328567a",
   "metadata": {},
   "source": [
    "Let's instantiate this new class:"
   ]
  },
  {
   "cell_type": "code",
   "execution_count": null,
   "id": "8654a1ac",
   "metadata": {},
   "outputs": [],
   "source": [
    "staff = Staff()"
   ]
  },
  {
   "cell_type": "markdown",
   "id": "de6f4a7a",
   "metadata": {},
   "source": [
    "First, let's check that our `workers` dictionary is currently empty (as it should be on initialization):"
   ]
  },
  {
   "cell_type": "code",
   "execution_count": null,
   "id": "cbc91632",
   "metadata": {},
   "outputs": [],
   "source": [
    "staff.workers"
   ]
  },
  {
   "cell_type": "markdown",
   "id": "8cbe918e",
   "metadata": {},
   "source": [
    "And now let's add Alph to our `workers` dictionary in our `Staff` class. Remember, `alph` is an instance of the `Employee` class, which is exactly what we decided we wanted to pass to the `addEmployee` method in our `Staff` class:"
   ]
  },
  {
   "cell_type": "code",
   "execution_count": null,
   "id": "510b27ae",
   "metadata": {},
   "outputs": [],
   "source": [
    "staff.addEmployee(alph)"
   ]
  },
  {
   "cell_type": "markdown",
   "id": "0690d75e",
   "metadata": {},
   "source": [
    "Let's check that this employee was added:"
   ]
  },
  {
   "cell_type": "code",
   "execution_count": null,
   "id": "36328847",
   "metadata": {},
   "outputs": [],
   "source": [
    "staff.workers"
   ]
  },
  {
   "cell_type": "markdown",
   "id": "f3c77646",
   "metadata": {},
   "source": [
    "Since `staff.workers` is a dictionary whose keys are employee IDs (as that's what we decided to do in the `addEmployee` method in our `Staff` class), we can use Alph's employee ID to access his `Employee` class instance:"
   ]
  },
  {
   "cell_type": "code",
   "execution_count": null,
   "id": "99b3cdb5",
   "metadata": {},
   "outputs": [],
   "source": [
    "staff.workers[\"000001\"]"
   ]
  },
  {
   "cell_type": "markdown",
   "id": "c111e225",
   "metadata": {},
   "source": [
    "Indeed, this is an instance of `Employee`. So how do we get data from an employee instance? Well, we already know we can access three particular attributes from any class instance of `Employee`: `id`, `email`, and `phone`. Let's get Alph's email:"
   ]
  },
  {
   "cell_type": "code",
   "execution_count": null,
   "id": "7d58e515",
   "metadata": {},
   "outputs": [],
   "source": [
    "staff.workers[\"000001\"].email"
   ]
  },
  {
   "cell_type": "markdown",
   "id": "39ab0d9c",
   "metadata": {},
   "source": [
    "As you can see, classes can be extremely useful in cases where you want to be able to store data and perform actions on specific types of objects.\n",
    "\n",
    "There are some cases where it might make sense to use classes to organize your data, and others where it might make sense to use a dictionary or a list or something else. You will learn through experience which are best to use in what scenarios."
   ]
  }
 ],
 "metadata": {
  "kernelspec": {
   "display_name": "Python 3 (ipykernel)",
   "language": "python",
   "name": "python3"
  },
  "language_info": {
   "codemirror_mode": {
    "name": "ipython",
    "version": 3
   },
   "file_extension": ".py",
   "mimetype": "text/x-python",
   "name": "python",
   "nbconvert_exporter": "python",
   "pygments_lexer": "ipython3",
   "version": "3.10.5"
  }
 },
 "nbformat": 4,
 "nbformat_minor": 5
}
