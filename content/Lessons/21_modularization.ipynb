{
 "cells": [
  {
   "cell_type": "markdown",
   "metadata": {},
   "source": [
    "# Modularization"
   ]
  },
  {
   "cell_type": "markdown",
   "metadata": {},
   "source": [
    "Modularization is the process of separating out the functionality of our program into independent sections of code that each do simple and self-contained things. This is a very important part of writing code that every good programmer takes seriously.\n",
    "\n",
    "Imagine we want to write a program to take some user input for a customer's order and print an explanation of the meal they will receive.\n",
    "\n",
    "_(The `input` function, documented at https://docs.python.org/3/library/functions.html#input, can be used for this.)_"
   ]
  },
  {
   "cell_type": "markdown",
   "metadata": {},
   "source": [
    "## The naive approach"
   ]
  },
  {
   "cell_type": "markdown",
   "metadata": {},
   "source": [
    "One option is to write a single, complex function to do everything we need:"
   ]
  },
  {
   "cell_type": "code",
   "execution_count": null,
   "metadata": {},
   "outputs": [],
   "source": [
    "def prepareMeal():\n",
    "    dressingOptions = [\"balsamic\", \"Caesar\", \"ranch\"]\n",
    "    meatOptions = [\"chicken\", \"fish\"]\n",
    "\n",
    "    print(\"What dressing would you like on your salad?\")\n",
    "    for index, dressing in enumerate(dressingOptions):\n",
    "        print(f\"{index + 1}: {dressing}\")\n",
    "    dressingNumberString = input(\"Enter your selection: \")\n",
    "    dressingIndex = int(dressingNumberString) - 1\n",
    "    dressingChoice = dressingOptions[dressingIndex]\n",
    "    \n",
    "    print(\"\\nWhat meat would you like?\")\n",
    "    for index, meat in enumerate(meatOptions):\n",
    "        print(f\"{index + 1}: {meat}\")\n",
    "    meatNumberString = input(\"Enter your selection: \")\n",
    "    meatIndex = int(meatNumberString) - 1\n",
    "    meatChoice = meatOptions[meatIndex]\n",
    "\n",
    "    print(f\"\\nYou will be served a {meatChoice} filet with a side of wild rice.\")\n",
    "    print(f\"Your meal will come with a salad with {dressingChoice} dressing.\")"
   ]
  },
  {
   "cell_type": "markdown",
   "metadata": {},
   "source": [
    "Is there a better way to write this? What if we could break this huge, complex problem into smaller, more manageable problems, and then solve those? In other words, can we modularize this a bit?"
   ]
  },
  {
   "cell_type": "markdown",
   "metadata": {},
   "source": [
    "## The modular approach"
   ]
  },
  {
   "cell_type": "markdown",
   "metadata": {},
   "source": [
    "We can see that there are just a few main tasks performed by this function:\n",
    "\n",
    "1. Getting the user's salad dressing preference\n",
    "2. Getting the user's meat preference\n",
    "3. Printing an explanation of their order\n",
    "\n",
    "Let's rewrite it with that in mind:"
   ]
  },
  {
   "cell_type": "code",
   "execution_count": null,
   "metadata": {},
   "outputs": [],
   "source": [
    "def prepareMeal():\n",
    "    dressingChoice = getDressingChoice()\n",
    "    meatChoice = getMeatChoice()\n",
    "    printMealExplanation(dressingChoice, meatChoice)"
   ]
  },
  {
   "cell_type": "markdown",
   "metadata": {},
   "source": [
    "Notice how our main function is now fully written, and is very simple! We have just \"modularized\" our code, separating out functionality into small chunks that each do simple and self-contained things.\n",
    "\n",
    "Rather than making this main `prepareMeal` function contain _all_ of the logic required for the function, we \"abstract that out\" to other functions (meaning we leave that task to functions we haven't written yet).\n",
    "\n",
    "Because the code contained in this function is so simple, it's less likely that we will make mistakes in writing it, and it will be easier to clean up if we _do_ find mistakes with it later, since all of the pieces to clean up should each be very simple.\n",
    "\n",
    "So, all that is left now is to define the `getDressingChoice`, `getMeatChoice`, and `printMealExplanation` functions. Let's start with `getDressingChoice`:"
   ]
  },
  {
   "cell_type": "code",
   "execution_count": null,
   "metadata": {},
   "outputs": [],
   "source": [
    "def getDressingChoice():\n",
    "    dressingOptions = [\"balsamic\", \"Caesar\", \"ranch\"]\n",
    "    print(\"What dressing would you like on your salad?\")\n",
    "    dressingIndex = getDressingIndex(dressingOptions)\n",
    "    return dressingOptions[dressingIndex]"
   ]
  },
  {
   "cell_type": "markdown",
   "metadata": {},
   "source": [
    "Again, this function is very simple, and only contains the logic it needs to have to do what it is supposed to do (getting a dressing choice).\n",
    "\n",
    "Notice that we've abstracted out some of the logic here into a `getDressingIndex` function that we have yet to define. By doing so, we've made `getDressingChoice` a very simple function, and `getDressingIndex` will be very easy to write as well, since it will have even less logic to perform. \n",
    "\n",
    "Let's write that now:"
   ]
  },
  {
   "cell_type": "code",
   "execution_count": null,
   "metadata": {},
   "outputs": [],
   "source": [
    "def getDressingIndex(dressingOptions):\n",
    "    for index, dressingOption in enumerate(dressingOptions):\n",
    "        print(f\"{index + 1}: {dressingOption}\")  # Prints the list of options for the user\n",
    "    dressingNumberString = input(\"Enter your selection: \")  # Gets the user's selection\n",
    "    return int(dressingNumberString) - 1  # Returns the index in the list for that selection"
   ]
  },
  {
   "cell_type": "markdown",
   "metadata": {},
   "source": [
    "Yet again, this function is very simple, and only contains the logic it needs to have to do what it is supposed to do (getting the index of the dressing that was selected by the user).\n",
    "\n",
    "So we've now fully written all of the code for the first part of our main function:"
   ]
  },
  {
   "cell_type": "code",
   "execution_count": null,
   "metadata": {},
   "outputs": [],
   "source": [
    "def prepareMeal():\n",
    "    dressingChoice = getDressingChoice()  # This is now complete\n",
    "    meatChoice = getMeatChoice()\n",
    "    printMealExplanation(dressingChoice, meatChoice)"
   ]
  },
  {
   "cell_type": "markdown",
   "metadata": {},
   "source": [
    "So next up is the `getMeatChoice` function:"
   ]
  },
  {
   "cell_type": "code",
   "execution_count": null,
   "metadata": {},
   "outputs": [],
   "source": [
    "def getMeatChoice():\n",
    "    meatOptions = [\"chicken\", \"fish\"]\n",
    "    print(\"\\nWhat meat would you like?\")\n",
    "    meatIndex = getMeatIndex(meatOptions)\n",
    "    return meatOptions[meatIndex]"
   ]
  },
  {
   "cell_type": "markdown",
   "metadata": {},
   "source": [
    "This looks a lot like `getDressingChoice`. Perhaps we can write a more generalized function for getting a food choice and use that for both! For now, let's just continue, and we will come back to this.\n",
    "\n",
    "Let's define `getMeatIndex`:"
   ]
  },
  {
   "cell_type": "code",
   "execution_count": null,
   "metadata": {},
   "outputs": [],
   "source": [
    "def getMeatIndex(meatOptions):\n",
    "    for index, meatOption in enumerate(meatOptions):\n",
    "        print(f\"{index + 1}: {meatOption}\")\n",
    "    meatNumberString = input(\"Enter your selection: \")\n",
    "    return int(meatNumberString) - 1"
   ]
  },
  {
   "cell_type": "markdown",
   "metadata": {},
   "source": [
    "This also looks a lot like `getDressingIndex`, so we may be able to generalize this as well!\n",
    "\n",
    "Looking at our main function again, we are almost finished:"
   ]
  },
  {
   "cell_type": "code",
   "execution_count": null,
   "metadata": {},
   "outputs": [],
   "source": [
    "def prepareMeal():\n",
    "    dressingChoice = getDressingChoice()  # This is now complete\n",
    "    meatChoice = getMeatChoice()  # This is now complete\n",
    "    printMealExplanation(dressingChoice, meatChoice)"
   ]
  },
  {
   "cell_type": "markdown",
   "metadata": {},
   "source": [
    "`printMealExplanation` is very simple:"
   ]
  },
  {
   "cell_type": "code",
   "execution_count": null,
   "metadata": {},
   "outputs": [],
   "source": [
    "def printMealExplanation(dressingChoice, meatChoice):\n",
    "    print(f\"\\nYou will be served a {meatChoice} filet with a side of wild rice.\")\n",
    "    print(f\"Your meal will come with a salad with {dressingChoice} dressing.\")"
   ]
  },
  {
   "cell_type": "markdown",
   "metadata": {},
   "source": [
    "## Writing generalized functions"
   ]
  },
  {
   "cell_type": "markdown",
   "metadata": {},
   "source": [
    "We can definitely see that each of these functions are simple and easy to understand, and each does only what it has to. But what about the fact that we're repeating some work here? `getDressingChoice` and `getMeatChoice` are _very_ similar, and the same can be said for `getDressingIndex` and `getMeatIndex`.\n",
    "\n",
    "One of the best things about modularizing code is that similar functionality can be generalized and reused in code! Let's see how we would rewrite these functions for getting indices (`getDressingIndex` and `getMeatIndex`) to be a bit more general.\n",
    "\n",
    "The functions as they are currently written are as follows:"
   ]
  },
  {
   "cell_type": "code",
   "execution_count": null,
   "metadata": {},
   "outputs": [],
   "source": [
    "def getDressingIndex(dressingOptions):\n",
    "    for index, dressingOption in enumerate(dressingOptions):\n",
    "        print(f\"{index + 1}: {dressingOption}\")\n",
    "    dressingNumberString = input(\"Enter your selection: \")\n",
    "    return int(dressingNumberString) - 1\n",
    "\n",
    "def getMeatIndex(meatOptions):\n",
    "    for index, meatOption in enumerate(meatOptions):\n",
    "        print(f\"{index + 1}: {meatOption}\")\n",
    "    meatNumberString = input(\"Enter your selection: \")\n",
    "    return int(meatNumberString) - 1"
   ]
  },
  {
   "cell_type": "markdown",
   "metadata": {},
   "source": [
    "We can see that these functions are basically identical, other than the variable names used. So all we have to do here is give some more general names to things:"
   ]
  },
  {
   "cell_type": "code",
   "execution_count": null,
   "metadata": {},
   "outputs": [],
   "source": [
    "def getSelectionIndex(options):\n",
    "    for index, option in enumerate(options):\n",
    "        print(f\"{index + 1}: {option}\")\n",
    "    numberString = input(\"Enter your selection: \")\n",
    "    return int(numberString) - 1"
   ]
  },
  {
   "cell_type": "markdown",
   "metadata": {},
   "source": [
    "So, if we use this more generalized function, then `getDressingChoice` and `getMeatChoice` are as follows:"
   ]
  },
  {
   "cell_type": "code",
   "execution_count": null,
   "metadata": {},
   "outputs": [],
   "source": [
    "def getDressingChoice():\n",
    "    dressingOptions = [\"balsamic\", \"Caesar\", \"ranch\"]\n",
    "    print(\"What dressing would you like on your salad?\")\n",
    "    dressingIndex = getSelectionIndex(dressingOptions)  # Passing in dressingOptions\n",
    "    return dressingOptions[dressingIndex]\n",
    "\n",
    "def getMeatChoice():\n",
    "    meatOptions = [\"chicken\", \"fish\"]\n",
    "    print(\"\\nWhat meat would you like?\")\n",
    "    meatIndex = getSelectionIndex(meatOptions)  # Passing in meatOptions\n",
    "    return meatOptions[meatIndex]"
   ]
  },
  {
   "cell_type": "markdown",
   "metadata": {},
   "source": [
    "Notice that the only real difference between these are the words in the prompt and the options that are passed into `getSelectionIndex`. So, if we pass the prompt and the options as arguments, we could generalize these functions too:"
   ]
  },
  {
   "cell_type": "code",
   "execution_count": null,
   "metadata": {},
   "outputs": [],
   "source": [
    "def getChoice(prompt, options):\n",
    "    print(prompt)\n",
    "    index = getSelectionIndex(options)\n",
    "    return options[index]"
   ]
  },
  {
   "cell_type": "markdown",
   "metadata": {},
   "source": [
    "Let's incorporate these more generalized functions into our code and see how it looks:"
   ]
  },
  {
   "cell_type": "code",
   "execution_count": null,
   "metadata": {},
   "outputs": [],
   "source": [
    "def prepareMeal():\n",
    "    dressingChoice = getChoice(\"What dressing would you like on your salad?\", [\"balsamic\", \"Caesar\", \"ranch\"])\n",
    "    meatChoice = getChoice(\"\\nWhat meat would you like?\", [\"chicken\", \"fish\"])\n",
    "    printMealExplanation(dressingChoice, meatChoice)\n",
    "\n",
    "def getChoice(prompt, options):\n",
    "    print(prompt)\n",
    "    index = getSelectionIndex(options)\n",
    "    return options[index]\n",
    "    \n",
    "def getSelectionIndex(options):\n",
    "    for index, option in enumerate(options):\n",
    "        print(f\"{index + 1}: {option}\")\n",
    "    numberString = input(\"Enter your selection: \")\n",
    "    return int(numberString) - 1 \n",
    "    \n",
    "def printMealExplanation(dressingChoice, meatChoice):\n",
    "    print(f\"\\nYou will be served a {meatChoice} filet with a side of wild rice.\")\n",
    "    print(f\"Your meal will come with a salad with {dressingChoice} dressing.\")"
   ]
  },
  {
   "cell_type": "markdown",
   "metadata": {},
   "source": [
    "Wow, that's really succinct and organized! Also, since we are reusing common code, we have less to read, test, and maintain, which is always a good thing. But the real benefit to modularization is when we add to our code."
   ]
  },
  {
   "cell_type": "markdown",
   "metadata": {},
   "source": [
    "## Adding code to a modularized program"
   ]
  },
  {
   "cell_type": "markdown",
   "metadata": {},
   "source": [
    "Because we've modularized this code so well, we have these `getChoice` and `getSelectionIndex` functions to perform the intermediate steps now as well, in case we need to reuse those anywhere else in any future code we may write. \n",
    "\n",
    "We might later decide we want to include another choice for the user. Consider how easy it is to add a drink choice, for example. All we have to do is add one more line to `prepareMeal`, and another print statement to `printMealExplanation`:"
   ]
  },
  {
   "cell_type": "code",
   "execution_count": null,
   "metadata": {},
   "outputs": [],
   "source": [
    "def prepareMeal():\n",
    "    drinkChoice = getChoice(\"What would you like to drink?\", [\"coffee\", \"tea\"])  # Added\n",
    "    dressingChoice = getChoice(\"What dressing would you like on your salad?\", [\"balsamic\", \"Caesar\", \"ranch\"])\n",
    "    meatChoice = getChoice(\"\\nWhat meat would you like?\", [\"chicken\", \"fish\"])\n",
    "    printMealExplanation(drinkChoice, dressingChoice, meatChoice)\n",
    "\n",
    "def getChoice(prompt, options):\n",
    "    print(prompt)\n",
    "    index = getSelectionIndex(options)\n",
    "    return options[index]\n",
    "    \n",
    "def getSelectionIndex(options):\n",
    "    for index, option in enumerate(options):\n",
    "        print(f\"{index + 1}: {option}\")\n",
    "    numberString = input(\"Enter your selection: \")\n",
    "    return int(numberString) - 1 \n",
    "    \n",
    "def printMealExplanation(drinkChoice, dressingChoice, meatChoice):\n",
    "    print(f\"\\nYou will be served a {meatChoice} filet with a side of wild rice.\")\n",
    "    print(f\"Your meal will come with a salad with {dressingChoice} dressing.\")\n",
    "    print(f\"You will have {drinkChoice} to drink.\")  # Added"
   ]
  },
  {
   "cell_type": "markdown",
   "metadata": {},
   "source": [
    "The power of modular code shows itself! Our code is organized and reusable. Each function does nothing more than the logic it needs to do, and relies on other even simpler functions to do the rest. \n",
    "\n",
    "Notice that even without commenting any of the code above, it is obvious to any other programmer what these functions do (not only because this is incredibly modular, but also because of our good choice of variable and function names)."
   ]
  },
  {
   "cell_type": "markdown",
   "metadata": {},
   "source": [
    "## Recap: documentation"
   ]
  },
  {
   "cell_type": "markdown",
   "metadata": {},
   "source": [
    "Although very modular code generally needs less documentation to be understood, it is a good practice to document your code to keep track of what all your functions do! This is especially important as programs grow in size. Make sure you get in the habit of documenting your own software projects.\n",
    "\n",
    "If we want to add string annotations and docstrings to the functions above, here is how they would look:"
   ]
  },
  {
   "cell_type": "code",
   "execution_count": null,
   "metadata": {},
   "outputs": [],
   "source": [
    "def prepareMeal():\n",
    "    \"\"\"Gets food and beverage choices from the user and reads back the order.\"\"\"\n",
    "    dressingChoice = getChoice(\"What dressing would you like on your salad?\", [\"balsamic\", \"Caesar\", \"ranch\"])\n",
    "    meatChoice = getChoice(\"\\nWhat meat would you like?\", [\"chicken\", \"fish\"])\n",
    "    printMealExplanation(drinkChoice, dressingChoice, meatChoice)\n",
    "\n",
    "\n",
    "def getChoice(prompt: str, options: list[str]) -> str:\n",
    "    \"\"\"Gets a user food or beverage choice from a prompt.\n",
    "    \n",
    "    Args:\n",
    "        prompt: The prompt that is shown to the user.\n",
    "        options: The list of choices the user can select from.\n",
    "    \n",
    "    Returns:\n",
    "        The item that the user selected.\n",
    "    \"\"\"\n",
    "    print(prompt)\n",
    "    index = getSelectionIndex(options)\n",
    "    return options[index]\n",
    "\n",
    "\n",
    "def getSelectionIndex(options: list[str]) -> int:\n",
    "    \"\"\"Gets the index of the item in the list that the user selects.\n",
    "    \n",
    "    Args:\n",
    "        options: The list of choices the user can select from.\n",
    "    \n",
    "    Returns:\n",
    "        The index corresponding to the chosen item.\n",
    "    \"\"\"\n",
    "    for index, option in enumerate(options):\n",
    "        print(f\"{index + 1}: {option}\")\n",
    "    numberString = input(\"Enter your selection: \")\n",
    "    return int(numberString) - 1 \n",
    "\n",
    "\n",
    "def printMealExplanation(dressingChoice, meatChoice):\n",
    "    \"\"\"Displays to the user their chosen meal.\n",
    "    \n",
    "    Args:\n",
    "        dressingChoice: The dressing that the user chose.\n",
    "        meatChoice: The meat that the user chose.\n",
    "    \"\"\"\n",
    "    print(f\"\\nYou will be served a {meatChoice} filet with a side of wild rice.\")\n",
    "    print(f\"Your meal will come with a salad with {dressingChoice} dressing.\")"
   ]
  },
  {
   "cell_type": "markdown",
   "metadata": {},
   "source": [
    "Congratulations on finishing the course! Feel free to try the projects in the Projects folder now that all lessons are complete!"
   ]
  }
 ],
 "metadata": {
  "kernelspec": {
   "display_name": "Python 3 (ipykernel)",
   "language": "python",
   "name": "python3"
  },
  "language_info": {
   "codemirror_mode": {
    "name": "ipython",
    "version": 3
   },
   "file_extension": ".py",
   "mimetype": "text/x-python",
   "name": "python",
   "nbconvert_exporter": "python",
   "pygments_lexer": "ipython3",
   "version": "3.10.5"
  }
 },
 "nbformat": 4,
 "nbformat_minor": 1
}
