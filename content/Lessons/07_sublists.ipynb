{
 "cells": [
  {
   "cell_type": "markdown",
   "metadata": {},
   "source": [
    "# Sublists"
   ]
  },
  {
   "cell_type": "markdown",
   "metadata": {},
   "source": [
    "Lists can contain more than just data. In fact, they can contain other lists! To better understand this, let's first review a bit.\n",
    "\n",
    "What will the following cells return?"
   ]
  },
  {
   "cell_type": "code",
   "execution_count": null,
   "metadata": {},
   "outputs": [],
   "source": [
    "doda = range(1, 9, 2)\n",
    "print(list(doda))"
   ]
  },
  {
   "cell_type": "code",
   "execution_count": null,
   "metadata": {},
   "outputs": [],
   "source": [
    "tada = [num * 2 for num in doda]\n",
    "print(tada)"
   ]
  },
  {
   "cell_type": "code",
   "execution_count": null,
   "metadata": {},
   "outputs": [],
   "source": [
    "bubba = []\n",
    "for num in doda:\n",
    "    bubba.append(num * 2)\n",
    "    \n",
    "print(bubba)"
   ]
  },
  {
   "cell_type": "markdown",
   "metadata": {},
   "source": [
    "## Nested loops"
   ]
  },
  {
   "cell_type": "markdown",
   "metadata": {},
   "source": [
    "Think about a simple workout: 3 sets of 5 pushups, followed by 3 sets of 5 situps. Can we write a loop to print out all of the exercises performed?"
   ]
  },
  {
   "cell_type": "code",
   "execution_count": null,
   "metadata": {},
   "outputs": [],
   "source": [
    "# Create and assign variables\n",
    "sets         = 3\n",
    "repsPerSet   = 5\n",
    "exerciseList = [\"Pushups\", \"Situps\"]\n",
    "\n",
    "# Print a nice header\n",
    "print(\"| Exercise |  Set   |  Rep   |\")\n",
    "print(\"-\" * 32)\n",
    "\n",
    "for exercise in exerciseList:                   # The first loop  (exercises)\n",
    "    for mySet in range(sets):                   # The second loop (sets)\n",
    "        for rep in range(repsPerSet):           # The third loop  (reps)\n",
    "            print(f\"| {exercise:8} | {mySet + 1} of {sets} | {rep + 1} of {repsPerSet} |\")"
   ]
  },
  {
   "cell_type": "markdown",
   "metadata": {},
   "source": [
    "How would you change this to represent a circuit, meaning for every set you alternate doing pushups and situps?"
   ]
  },
  {
   "cell_type": "code",
   "execution_count": null,
   "metadata": {},
   "outputs": [],
   "source": [
    "# Create and assign variables\n",
    "sets         = 3\n",
    "repsPerSet   = 5\n",
    "exerciseList = ['Pushups', 'Situps']\n",
    "\n",
    "# Print a nice header\n",
    "print(\"| Exercise |  Set   |  Rep   |\")\n",
    "print(\"-\" * 32)\n",
    "\n",
    "\n",
    "for mySet in range(sets):                       # The first loop  (sets)\n",
    "    for exercise in exerciseList:               # The second loop (exercises)\n",
    "        for rep in range(repsPerSet):           # The third loop  (reps)\n",
    "            print(f\"| {exercise:8} | {mySet + 1} of {sets} | {rep + 1} of {repsPerSet} |\")"
   ]
  },
  {
   "cell_type": "markdown",
   "metadata": {},
   "source": [
    "# Nested Lists"
   ]
  },
  {
   "cell_type": "markdown",
   "metadata": {},
   "source": [
    "Nested list: a list where elements are themselves lists (\"sublists\").\n",
    "\n",
    "Example: A table of data represented as a list, where each\n",
    "element represents a row of data."
   ]
  },
  {
   "cell_type": "markdown",
   "metadata": {},
   "source": [
    "For this topic, we are now going to use Kepler's Third Law which relates the orbital period of a planet to its semimajor axis (average distance to the center of the Sun in this case). We will assume the mass of the planet is much less than the mass of the Sun.\n",
    "\n",
    "$P^2 = ka^3$\n",
    "\n",
    "$P$ is the period, $k$ is a constant, $a$ is the semimajor axis.\n",
    "\n",
    "So, \n",
    "\n",
    "$P = \\sqrt{k a^{3}}$\n",
    "\n",
    "$a = 1.5\\times 10^{11}$ m for the Earth (one astronomical unit [AU]).\n",
    "\n",
    "$k = \\frac{4\\pi^2}{GM}$ where $G$ is the gravitational constant and $M$ is the mass of the body being orbited in kilograms [kg] (the Sun in this case)."
   ]
  },
  {
   "cell_type": "code",
   "execution_count": null,
   "metadata": {},
   "outputs": [],
   "source": [
    "import math\n",
    "\n",
    "G          = 6.67e-11  # Units:  kg^-1 m s^-2\n",
    "mass       = 2.0e30    # Solar mass, kg\n",
    "secPerYear = 3.15e7    # Seconds in 1 Earth year\n",
    "\n",
    "print(\"Calculate the period for Earth\")\n",
    "\n",
    "k = 4 * math.pi ** 2 / (G * mass)\n",
    "print(f\"k = {k:.5e}\")\n",
    "\n",
    "aveDistEarth = 1.5e11\n",
    "P = math.sqrt(k * aveDistEarth**3)\n",
    "print(f\"P in seconds = {P:g}\")\n",
    "print(f\"P in years = {P / secPerYear:.2f}\")"
   ]
  },
  {
   "cell_type": "markdown",
   "metadata": {},
   "source": [
    "Now, to make a table with two lists (and use list comprehension!):"
   ]
  },
  {
   "cell_type": "code",
   "execution_count": null,
   "metadata": {},
   "outputs": [],
   "source": [
    "ratioList = list(range(1, 11, 1))  # ratios of (planet distance to Sun) / (Earth distance to Sun)\n",
    "periodList = [math.sqrt(k * (ratio * aveDistEarth)**3) / secPerYear for ratio in ratioList] "
   ]
  },
  {
   "cell_type": "markdown",
   "metadata": {},
   "source": [
    "Note that with list comprehension, the `periodList = ...` line is equivalent to:\n",
    "\n",
    "```\n",
    "periodList = []\n",
    "for ratio in ratioList:\n",
    "    periodList.append(math.sqrt(k * (ratio * aveDistEarth)**3) / secPerYear)\n",
    "```"
   ]
  },
  {
   "cell_type": "code",
   "execution_count": null,
   "metadata": {},
   "outputs": [],
   "source": [
    "table = [ratioList, periodList]"
   ]
  },
  {
   "cell_type": "markdown",
   "metadata": {},
   "source": [
    "Let's examine `table`:"
   ]
  },
  {
   "cell_type": "code",
   "execution_count": null,
   "metadata": {},
   "outputs": [],
   "source": [
    "list(table)"
   ]
  },
  {
   "cell_type": "markdown",
   "metadata": {},
   "source": [
    "Jupiter orbits at just over 5 AU and has a period of ~12 years, so this makes sense.\n",
    "\n",
    "We can now examine each of the sublists in our table:"
   ]
  },
  {
   "cell_type": "code",
   "execution_count": null,
   "metadata": {},
   "outputs": [],
   "source": [
    "table[0]"
   ]
  },
  {
   "cell_type": "code",
   "execution_count": null,
   "metadata": {},
   "outputs": [],
   "source": [
    "table[1]"
   ]
  },
  {
   "cell_type": "code",
   "execution_count": null,
   "metadata": {},
   "outputs": [],
   "source": [
    "table[2]"
   ]
  },
  {
   "cell_type": "markdown",
   "metadata": {},
   "source": [
    "It makes sense that the cell above should fail, as there are only two elements in the list: two sublists.\n",
    "\n",
    "To access the fourth element of the first sublist:"
   ]
  },
  {
   "cell_type": "code",
   "execution_count": null,
   "metadata": {},
   "outputs": [],
   "source": [
    "table[0][3]"
   ]
  },
  {
   "cell_type": "code",
   "execution_count": null,
   "metadata": {},
   "outputs": [],
   "source": [
    "table  # for reference"
   ]
  },
  {
   "cell_type": "markdown",
   "metadata": {},
   "source": [
    "What will this produce?"
   ]
  },
  {
   "cell_type": "code",
   "execution_count": null,
   "metadata": {},
   "outputs": [],
   "source": [
    "table[1][9]"
   ]
  },
  {
   "cell_type": "markdown",
   "metadata": {},
   "source": [
    "## Formatting Tables"
   ]
  },
  {
   "cell_type": "markdown",
   "metadata": {},
   "source": [
    "The ordering of the data is up to you: \n",
    "\n",
    "Above, we made a list containing 2 sublists, each with 10-elements.\n",
    "\n",
    "Instead, we could make a list with 10 sublists, each with 2-elements."
   ]
  },
  {
   "cell_type": "code",
   "execution_count": null,
   "metadata": {},
   "outputs": [],
   "source": [
    "table  # for reference (2 10-element sublists)"
   ]
  },
  {
   "cell_type": "code",
   "execution_count": null,
   "metadata": {},
   "outputs": [],
   "source": [
    "table = []\n",
    "for index in range(len(ratioList)):\n",
    "    table.append([ratioList[index], periodList[index]])\n",
    "table"
   ]
  },
  {
   "cell_type": "markdown",
   "metadata": {},
   "source": [
    "_(By the way, we could have performed the loop above by using the `zip` function. Do you remember how to use that?)_\n",
    "\n",
    "What will the following cells produce?"
   ]
  },
  {
   "cell_type": "code",
   "execution_count": null,
   "metadata": {},
   "outputs": [],
   "source": [
    "table[4]"
   ]
  },
  {
   "cell_type": "code",
   "execution_count": null,
   "metadata": {},
   "outputs": [],
   "source": [
    "table[5][1]"
   ]
  },
  {
   "cell_type": "code",
   "execution_count": null,
   "metadata": {},
   "outputs": [],
   "source": [
    "table[-1]"
   ]
  },
  {
   "cell_type": "markdown",
   "metadata": {},
   "source": [
    "Thus, the first index refers to a particular sublist (row), and the second index refers to elements within that sublist (column)."
   ]
  },
  {
   "cell_type": "markdown",
   "metadata": {},
   "source": [
    "### String formatting"
   ]
  },
  {
   "cell_type": "markdown",
   "metadata": {},
   "source": [
    "Note that printing the table produces ugly output:"
   ]
  },
  {
   "cell_type": "code",
   "execution_count": null,
   "metadata": {},
   "outputs": [],
   "source": [
    "print(table)"
   ]
  },
  {
   "cell_type": "markdown",
   "metadata": {},
   "source": [
    "However, for readable outputs, we can use a for-loop and specify the formatting explicitly ourselves."
   ]
  },
  {
   "cell_type": "code",
   "execution_count": null,
   "metadata": {},
   "outputs": [],
   "source": [
    "for index in range(len(ratioList)):\n",
    "    print(f\"{ratioList[index]:2}   {periodList[index]:.1f}\")"
   ]
  },
  {
   "cell_type": "markdown",
   "metadata": {},
   "source": [
    "Or, without referring to an index, we can unpack the values of each sublist at each iteration of the loop:"
   ]
  },
  {
   "cell_type": "code",
   "execution_count": null,
   "metadata": {},
   "outputs": [],
   "source": [
    "for ratio, period in table:\n",
    "    print(f\"{ratio:2}   {period:.1f}\")"
   ]
  },
  {
   "cell_type": "markdown",
   "metadata": {},
   "source": [
    "This is reminiscent of our enumerate examples, except rather than getting (index, value) pairs, we get (`ratio`, `period`) pairs, since that is what each sublist contains at each iteration within `table`."
   ]
  },
  {
   "cell_type": "markdown",
   "metadata": {},
   "source": [
    "## Slicing lists"
   ]
  },
  {
   "cell_type": "markdown",
   "metadata": {},
   "source": [
    "Sometimes we want to operate on only parts of lists. The syntax for this is particularly simple:"
   ]
  },
  {
   "cell_type": "code",
   "execution_count": null,
   "metadata": {},
   "outputs": [],
   "source": [
    "ratioList[5:]   # will extract from index 5 to end"
   ]
  },
  {
   "cell_type": "markdown",
   "metadata": {},
   "source": [
    "What will happen when we run this?"
   ]
  },
  {
   "cell_type": "code",
   "execution_count": null,
   "metadata": {},
   "outputs": [],
   "source": [
    "b = ratioList[6:]\n",
    "print(b)"
   ]
  },
  {
   "cell_type": "code",
   "execution_count": null,
   "metadata": {},
   "outputs": [],
   "source": [
    "periodList # for reference below"
   ]
  },
  {
   "cell_type": "markdown",
   "metadata": {},
   "source": [
    "To extract elements with indices 5 to 7 (exclusive of 7):"
   ]
  },
  {
   "cell_type": "code",
   "execution_count": null,
   "metadata": {},
   "outputs": [],
   "source": [
    "periodList[5:7]   "
   ]
  },
  {
   "cell_type": "markdown",
   "metadata": {},
   "source": [
    "To extract up to **but not including** index 5:"
   ]
  },
  {
   "cell_type": "code",
   "execution_count": null,
   "metadata": {},
   "outputs": [],
   "source": [
    "periodList[:5]  "
   ]
  },
  {
   "cell_type": "markdown",
   "metadata": {},
   "source": [
    "How could I extract all elements but the last one? (There is more than one way.)"
   ]
  },
  {
   "cell_type": "code",
   "execution_count": null,
   "metadata": {},
   "outputs": [],
   "source": [
    "periodList[:-1]"
   ]
  },
  {
   "cell_type": "markdown",
   "metadata": {},
   "source": [
    "And what might the following do?"
   ]
  },
  {
   "cell_type": "code",
   "execution_count": null,
   "metadata": {},
   "outputs": [],
   "source": [
    "periodList[:]"
   ]
  }
 ],
 "metadata": {
  "kernelspec": {
   "display_name": "Python 3",
   "language": "python",
   "name": "python3"
  },
  "language_info": {
   "codemirror_mode": {
    "name": "ipython",
    "version": 3
   },
   "file_extension": ".py",
   "mimetype": "text/x-python",
   "name": "python",
   "nbconvert_exporter": "python",
   "pygments_lexer": "ipython3",
   "version": "3.8.5"
  }
 },
 "nbformat": 4,
 "nbformat_minor": 1
}
