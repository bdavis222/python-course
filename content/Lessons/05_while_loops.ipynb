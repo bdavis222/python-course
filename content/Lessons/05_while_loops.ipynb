{
 "cells": [
  {
   "cell_type": "markdown",
   "metadata": {},
   "source": [
    "# While-loops"
   ]
  },
  {
   "cell_type": "markdown",
   "metadata": {},
   "source": [
    "Loops exist to perform repetitive tasks. These are an essential programming tool.\n",
    "\n",
    "Python supports two types of loops:\n",
    "\n",
    "1. While-loops\n",
    "2. For-loops\n",
    "\n",
    "While-loops are the topic of this lesson."
   ]
  },
  {
   "cell_type": "markdown",
   "metadata": {},
   "source": [
    "## Syntax"
   ]
  },
  {
   "cell_type": "markdown",
   "metadata": {},
   "source": [
    "The basic syntax is as follows:\n",
    "\n",
    "```\n",
    "while <condition>:\n",
    "    <code>\n",
    "```\n",
    "\n",
    "The reserved word \"while\" is used, followed by a true/false condition and a colon, and then **the code indented below that is run while that condition remains true.**\n",
    "\n",
    "So, a while-loop with a condition of \"5 is greater than 2\" would look like the following:\n",
    "\n",
    "```\n",
    "while 5 > 2:\n",
    "    <code>\n",
    "```\n",
    "\n",
    "However, note that 5 will _always_ be greater than 2, so the indented code will run infinitely! Don't do this!\n",
    "\n",
    "If you accidentally cause an infinite loop like this, make sure to press the stop button (to the right of the Run button) at the top of the screen, followed by the restart button. Then you can fix your code and re-run it."
   ]
  },
  {
   "cell_type": "markdown",
   "metadata": {},
   "source": [
    "## Examples"
   ]
  },
  {
   "cell_type": "markdown",
   "metadata": {},
   "source": [
    "So, how can we write a while-loop that runs properly? Consider the following:"
   ]
  },
  {
   "cell_type": "code",
   "execution_count": null,
   "metadata": {},
   "outputs": [],
   "source": [
    "x = 0\n",
    "while x < 5:\n",
    "    print(x)\n",
    "    x = x + 1"
   ]
  },
  {
   "cell_type": "markdown",
   "metadata": {},
   "source": [
    "Here, we've defined `x = 0`, and set our loop to repeat only while `x` is less than 5. Our code inside the loop prints the current value of `x`, and then increments the value of `x` by 1. By incrementing the value of `x`, we cause `x` to eventually be greater than 5, so our loop can stop! Note that the value of 5 is not printed, because when `x` equals 5, our condition is `False`, and the code within the loop doesn't run.\n",
    "\n",
    "By the way, there is a much more common shorthand for incrementing the value of a variable: the plus-equals operator:"
   ]
  },
  {
   "cell_type": "code",
   "execution_count": null,
   "metadata": {},
   "outputs": [],
   "source": [
    "x = 10\n",
    "print(x)\n",
    "\n",
    "x += 1\n",
    "print(x)"
   ]
  },
  {
   "cell_type": "markdown",
   "metadata": {},
   "source": [
    "We can also decrement the value of a variable by some amount:"
   ]
  },
  {
   "cell_type": "code",
   "execution_count": null,
   "metadata": {},
   "outputs": [],
   "source": [
    "myVariable = 5\n",
    "print(myVariable)\n",
    "\n",
    "myVariable -= 3\n",
    "print(myVariable)"
   ]
  },
  {
   "cell_type": "markdown",
   "metadata": {},
   "source": [
    "So the while-loop above can also be written as follows (and this is the more common way to write it):"
   ]
  },
  {
   "cell_type": "code",
   "execution_count": null,
   "metadata": {},
   "outputs": [],
   "source": [
    "x = 0\n",
    "while x < 5:\n",
    "    print(x)\n",
    "    x += 1"
   ]
  },
  {
   "cell_type": "markdown",
   "metadata": {},
   "source": [
    "### A more complex example"
   ]
  },
  {
   "cell_type": "markdown",
   "metadata": {},
   "source": [
    "Let's use a loop to perform a complex task many times. For example, let's say we want to calculate the gravitational forces on the surface of Earth for different masses of Earth (e.g., its current mass, twice that amount, three times that amount, etc.). Consider the following while-loop:"
   ]
  },
  {
   "cell_type": "code",
   "execution_count": null,
   "metadata": {},
   "outputs": [],
   "source": [
    "print(\"Table of Gravitational Forces for Multiple Planet Masses\\n\")\n",
    "\n",
    "G           = 6.67e-11  # Gravitational constant\n",
    "massEarth   = 5.97e24   # Earth mass\n",
    "massPerson  = 70        # Person mass \n",
    "radiusEarth = 6.37e6    # Earth radius\n",
    "\n",
    "mass1 = massEarth\n",
    "\n",
    "# Print a header\n",
    "print(\"Earth masses        Force\")\n",
    "\n",
    "# The loop ends when conditional mass1 <= (10.0 * massEarth) is no longer true\n",
    "while mass1 <= (10.0 * massEarth):                         # Note the colon!\n",
    "    force = G * mass1 * massPerson / radiusEarth ** 2      # All lines in the loop must be indented the same.\n",
    "    \n",
    "    print(str(mass1 / massEarth) + \" \" * 12 + str(force))  # Note the string multiplication to get 12 spaces.\n",
    "    mass1 += massEarth                                     # Increment by Earth's mass.\n",
    "\n",
    "# No indent! This line is executed after the loop is done\n",
    "print(\"\\nDone\")"
   ]
  },
  {
   "cell_type": "markdown",
   "metadata": {},
   "source": [
    "Can you tell what the value of `mass1` was when the loop stopped?\n",
    "\n",
    "Let's do it again, with some string formatting this time:"
   ]
  },
  {
   "cell_type": "code",
   "execution_count": null,
   "metadata": {},
   "outputs": [],
   "source": [
    "# Note that I have to reset mass1 here or the conditional will start out false!\n",
    "mass1 = massEarth\n",
    "\n",
    "print(\"Earth masses     Force\\n\")\n",
    "\n",
    "while(mass1 <= (10.0 * massEarth)):\n",
    "    force = G * mass1 * massPerson / radiusEarth ** 2\n",
    "    massRatio = mass1 / massEarth\n",
    "    print(f\"{massRatio:8.1f} {force:-14.2f}\")  # Column spacing is done here\n",
    "    mass1 += massEarth\n",
    "\n",
    "print(\"\\nDone\")"
   ]
  },
  {
   "cell_type": "markdown",
   "metadata": {},
   "source": [
    "## Infinite loops"
   ]
  },
  {
   "cell_type": "markdown",
   "metadata": {},
   "source": [
    "Infinite loops occur when your while condition remains true forever, so the loop doesn't ever stop. This is **bad**, and we want to avoid it at all costs. \n",
    "\n",
    "Consider the following examples. Can you see why these loops would never terminate?"
   ]
  },
  {
   "cell_type": "raw",
   "metadata": {},
   "source": [
    "# Example 1\n",
    "x = 0\n",
    "while(True):\n",
    "    x += 1\n",
    "\n",
    "\n",
    "# Example 2\n",
    "x = 0\n",
    "while(x >= -1):\n",
    "    x += 1"
   ]
  },
  {
   "cell_type": "markdown",
   "metadata": {},
   "source": [
    "If you do get stuck in an infinite loop, you will notice that the code you're trying to run isn't producing any output for a long time (and it never will, since the loop is infinite). When you notice this, use the stop button at the top of the screen, followed by the restart button next to it. Then you can fix your code and run everything again. *(Note that anything run in any previous cells may also need to be re-run, since you've clicked the restart button.)*\n",
    "\n",
    "There are a few ways to prevent infinite loops in your code:"
   ]
  },
  {
   "cell_type": "markdown",
   "metadata": {},
   "source": [
    "### Adding a counter condition"
   ]
  },
  {
   "cell_type": "code",
   "execution_count": null,
   "metadata": {},
   "outputs": [],
   "source": [
    "maxCount = 10      # A number that is more than your loop should ever do\n",
    "count = 0          # The current number your loop is on\n",
    "\n",
    "# Adding \"and count < maxCount\" to the end of your conditional prevents infinite loops\n",
    "while True and count < maxCount:\n",
    "    print(\"Loop count: \" + str(count))\n",
    "    count += 1  # Increment your current loop count"
   ]
  },
  {
   "cell_type": "markdown",
   "metadata": {},
   "source": [
    "How does this work? Remember the basic structure of a while-loop:\n",
    "\n",
    "```\n",
    "while <conditional>:\n",
    "    <commands indented by 1 tab (usually 4 spaces)>\n",
    "    <more commands>\n",
    "    <more commands>\n",
    "    <...>\n",
    "```\n",
    "\n",
    "`<eventually exit loop and return to no indent>`\n",
    "\n",
    "The `<conditional>` must evaluate to True or False.\n",
    "\n",
    "Note that the `and` reserved word requires that _both_ conditions are true for the loop to run. The first condition (`True`) is always true, but eventually the second condition (`count < maxCount`) is false, so the condition that condition 1 _and_ condition 2 are both true is `False` at that point.\n",
    "\n",
    "If we had used the reserved word `or` instead of `and`, this loop would still be infinite, as the first condition (`True`) is _always_ true, so the condition that either condition 1 _or_ condition 2 is true would remain `True`!"
   ]
  },
  {
   "cell_type": "markdown",
   "metadata": {},
   "source": [
    "### Using a `break`"
   ]
  },
  {
   "cell_type": "code",
   "execution_count": null,
   "metadata": {},
   "outputs": [],
   "source": [
    "maxCount = 10\n",
    "count = 0\n",
    "\n",
    "while True:\n",
    "    print(\"Loop count: \" + str(count))\n",
    "    count += 1\n",
    "    if count >= maxCount:  # Checking the value of count against our max\n",
    "        break  # The break keyword, which breaks the loop immediately"
   ]
  },
  {
   "cell_type": "markdown",
   "metadata": {},
   "source": [
    "## Skipping iterations"
   ]
  },
  {
   "cell_type": "markdown",
   "metadata": {},
   "source": [
    "Let's say we want to run the same loop as before, but we only want to print out the odd numbers of `count`. We can add a condition where we check if the remainder of `count / 2` is `1`, which is indicative of an odd number. Remember that we can do this with the modulo operator:\n",
    "\n",
    "`count % 2 == 1`\n",
    "\n",
    "This will be `True` for odd numbers, and `False` for even numbers."
   ]
  },
  {
   "cell_type": "code",
   "execution_count": null,
   "metadata": {},
   "outputs": [],
   "source": [
    "maxCount = 10\n",
    "count = 0\n",
    "\n",
    "while count < maxCount:\n",
    "    if count % 2 == 1:\n",
    "        print(\"Loop count: \" + str(count))\n",
    "    count += 1"
   ]
  },
  {
   "cell_type": "markdown",
   "metadata": {},
   "source": [
    "We can also use the `continue` keyword to skip certain iterations in our loops. Let's do the same thing, but by skipping the even iterations instead:"
   ]
  },
  {
   "cell_type": "code",
   "execution_count": null,
   "metadata": {},
   "outputs": [],
   "source": [
    "maxCount = 10\n",
    "count = 0\n",
    "\n",
    "while count < maxCount:\n",
    "    if count % 2 == 0:\n",
    "        count += 1  # Note that we also have to increment here!\n",
    "        continue\n",
    "    \n",
    "    print(\"Loop count: \" + str(count))\n",
    "    count += 1"
   ]
  },
  {
   "cell_type": "markdown",
   "metadata": {},
   "source": [
    "The `continue` keyword will instantly jump back to the while condition to check if another iteration should be started (without running the code below the `continue` statement). Because of this, we need to make sure we increment `count` _before_ we continue, or else we will get another infinte loop!"
   ]
  },
  {
   "cell_type": "markdown",
   "metadata": {},
   "source": [
    "## Creating lists with loops"
   ]
  },
  {
   "cell_type": "markdown",
   "metadata": {},
   "source": [
    "We can create lists using a while-loop:"
   ]
  },
  {
   "cell_type": "code",
   "execution_count": null,
   "metadata": {},
   "outputs": [],
   "source": [
    "numbersList = []\n",
    "count = 0\n",
    "while count < 10:  # Note that we must increment \"count\" to ensure this ends!\n",
    "    numbersList.append(count)\n",
    "    count += 1  # Incrementing our count"
   ]
  },
  {
   "cell_type": "code",
   "execution_count": null,
   "metadata": {},
   "outputs": [],
   "source": [
    "print(numbersList)"
   ]
  },
  {
   "cell_type": "markdown",
   "metadata": {},
   "source": [
    "This is especially useful when you don't know how many elements are going to be put in the list."
   ]
  }
 ],
 "metadata": {
  "kernelspec": {
   "display_name": "Python 3",
   "language": "python",
   "name": "python3"
  },
  "language_info": {
   "codemirror_mode": {
    "name": "ipython",
    "version": 3
   },
   "file_extension": ".py",
   "mimetype": "text/x-python",
   "name": "python",
   "nbconvert_exporter": "python",
   "pygments_lexer": "ipython3",
   "version": "3.8.5"
  }
 },
 "nbformat": 4,
 "nbformat_minor": 1
}
