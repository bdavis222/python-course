{
 "cells": [
  {
   "cell_type": "markdown",
   "metadata": {},
   "source": [
    "# For-loops"
   ]
  },
  {
   "cell_type": "markdown",
   "metadata": {},
   "source": [
    "For-loops operate on elements in a collection, like a list or tuple."
   ]
  },
  {
   "cell_type": "markdown",
   "metadata": {},
   "source": [
    "## Syntax"
   ]
  },
  {
   "cell_type": "markdown",
   "metadata": {},
   "source": [
    "The basic syntax is as follows:\n",
    "\n",
    "```\n",
    "for <element> in <list>:\n",
    "    <code>\n",
    "```\n",
    "\n",
    "`<element>` will be a variable name assigned to individual elements in `<list>`. Note that we get to decide what we want to name this variable; its name doesn't actually matter.\n",
    "    \n",
    "This is different from while-loops:\n",
    "\n",
    "```\n",
    "while <condition>:\n",
    "    <code>\n",
    "```"
   ]
  },
  {
   "cell_type": "markdown",
   "metadata": {},
   "source": [
    "## Examples"
   ]
  },
  {
   "cell_type": "markdown",
   "metadata": {},
   "source": [
    "From the lesson on while-loops, we know that, rather than manually populating long lists, we can use while-loops to populate them for us:"
   ]
  },
  {
   "cell_type": "code",
   "execution_count": null,
   "metadata": {},
   "outputs": [],
   "source": [
    "# Initializations first\n",
    "floatList = []         # Creates an empty list\n",
    "floatValue = 1.0       # For the conditional\n",
    "floatMax = 15.0        # Also for the conditional\n",
    "\n",
    "# And the while-loop:\n",
    "while floatValue <= floatMax:      # Note the colon!\n",
    "    floatList.append(floatValue)   # Note the indentation!\n",
    "    floatValue += 1.0"
   ]
  },
  {
   "cell_type": "code",
   "execution_count": null,
   "metadata": {},
   "outputs": [],
   "source": [
    "print(floatList)"
   ]
  },
  {
   "cell_type": "markdown",
   "metadata": {},
   "source": [
    "And we now know how to iterate over the elements in a list using a for-loop:"
   ]
  },
  {
   "cell_type": "code",
   "execution_count": null,
   "metadata": {},
   "outputs": [],
   "source": [
    "for value in floatList:  # Note the colon!\n",
    "    print(f\"floatList element = {value}\") # Note the indent!\n",
    "\n",
    "print(\"\\nfloatList has\", len(floatList), \"elements!\")"
   ]
  },
  {
   "cell_type": "markdown",
   "metadata": {},
   "source": [
    "Note that we do not have to know the length of the list to iterate through it fully.\n",
    "\n",
    "Let's use a for-loop to make a table for some $x$ and $y$ values for the function $y = \\frac{x^2 + 70}{2}$:"
   ]
  },
  {
   "cell_type": "code",
   "execution_count": null,
   "metadata": {},
   "outputs": [],
   "source": [
    "# First, initialize variables\n",
    "xList  = []        # Creates an empty list\n",
    "integerValue = 1   # First x value\n",
    "integerMax   = 15  # Last x value\n",
    "\n",
    "# Create a list of x floats\n",
    "for integerValue in range(integerValue, integerMax + 1):  # Note the \"+ 1\". We will talk about this soon.\n",
    "    xList.append(float(integerValue))\n",
    "\n",
    "# Make a header for the table\n",
    "print(\"     x             y   \")\n",
    "\n",
    "# Calculate the y for each x\n",
    "for x in xList:\n",
    "    y = (x ** 2 + 70 ) / 2\n",
    "\n",
    "    # print contents of table line-by-line\n",
    "    print(f\"{x:7.1f} {y:14.2f}\")"
   ]
  },
  {
   "cell_type": "markdown",
   "metadata": {},
   "source": [
    "Can we use a while-loop to do the same thing that a for-loop does? Here is a simple for-loop:"
   ]
  },
  {
   "cell_type": "code",
   "execution_count": null,
   "metadata": {},
   "outputs": [],
   "source": [
    "for x in xList:\n",
    "    print(x)"
   ]
  },
  {
   "cell_type": "markdown",
   "metadata": {},
   "source": [
    "And now we implement it as a while-loop:"
   ]
  },
  {
   "cell_type": "code",
   "execution_count": null,
   "metadata": {},
   "outputs": [],
   "source": [
    "index = 0   # Remember that the index starts with zero!\n",
    "while index < len(xList):\n",
    "    print(xList[index])\n",
    "    index += 1"
   ]
  },
  {
   "cell_type": "markdown",
   "metadata": {},
   "source": [
    "This is still intuitive, but a for-loop makes more sense here; it requires less code, and the extra `index` variable is not needed. Sometimes a while-loop makes more sense to use, and other times a for-loop makes more sense."
   ]
  },
  {
   "cell_type": "markdown",
   "metadata": {},
   "source": [
    "## The `range` function"
   ]
  },
  {
   "cell_type": "markdown",
   "metadata": {},
   "source": [
    "The range function is an easy way to populate lists. (In case you haven't noticed, there are already Python functions to do lots of things!)"
   ]
  },
  {
   "cell_type": "markdown",
   "metadata": {},
   "source": [
    "### Syntax"
   ]
  },
  {
   "cell_type": "markdown",
   "metadata": {},
   "source": [
    "`range(<number>)`\n",
    "\n",
    "generates integers 0, 1, 2, ... n-1\n",
    "\n",
    "`range (<start>, <stop>, <step>)`\n",
    "\n",
    "generates from `<start>` to `<stop>`-1 with step size = `<step>`. If `<step>` is not specified, it is assumed to be 1."
   ]
  },
  {
   "cell_type": "markdown",
   "metadata": {},
   "source": [
    "### Examples"
   ]
  },
  {
   "cell_type": "markdown",
   "metadata": {},
   "source": [
    "What does the following generate?"
   ]
  },
  {
   "cell_type": "code",
   "execution_count": null,
   "metadata": {},
   "outputs": [],
   "source": [
    "range(-10, 2, 2)"
   ]
  },
  {
   "cell_type": "markdown",
   "metadata": {},
   "source": [
    "In Python 3, the `range` function doesn't automatically create a list, in order to save memory.\n",
    "\n",
    "We have to use the `list` function explicitly to make the output from this range function input into a list.\n",
    "\n",
    "(But don't worry about this `list` function for now. It will just be here as a reference if you need it!)\n",
    "\n",
    "Now, let's see what `range(-10, 2, 2)` is doing behind the scenes:"
   ]
  },
  {
   "cell_type": "code",
   "execution_count": null,
   "metadata": {},
   "outputs": [],
   "source": [
    "list(range(-10, 2, 2))"
   ]
  },
  {
   "cell_type": "markdown",
   "metadata": {},
   "source": [
    "Even so, `range` still creates an iterable object. That is, we can iterate over the values it contains without turning it into a list. Let's use it to create our x list again:"
   ]
  },
  {
   "cell_type": "code",
   "execution_count": null,
   "metadata": {},
   "outputs": [],
   "source": [
    "xList = []\n",
    "for x in range(1, 11): # what is the step size here?\n",
    "    xList.append(float(x))  \n",
    "print(xList)"
   ]
  },
  {
   "cell_type": "markdown",
   "metadata": {},
   "source": [
    "## The `enumerate` function"
   ]
  },
  {
   "cell_type": "markdown",
   "metadata": {},
   "source": [
    "Often, you'll want access to both the indices `and` the list element values while inside a for-loop.\n",
    "\n",
    "One way to do this is to iterate over the indices and define the element in each iteration, like so:"
   ]
  },
  {
   "cell_type": "raw",
   "metadata": {},
   "source": [
    "for index in range(len(collection)):\n",
    "    element = collection[index]\n",
    "    # Use both \"index\" and \"element\" here"
   ]
  },
  {
   "cell_type": "markdown",
   "metadata": {},
   "source": [
    "More simply, Python has a short-cut function for this sort of thing: `enumerate`. This function will turn the list of elements into a list of tuples containing the indices and elements within the collection, so they can be easily unpacked in the for-loop declaration:"
   ]
  },
  {
   "cell_type": "code",
   "execution_count": null,
   "metadata": {},
   "outputs": [],
   "source": [
    "# Enumerate returns the index and element\n",
    "for index, x in enumerate(xList):  # Notice how we can unpack \"index\" and \"x\" right in the loop\n",
    "    print(index, x)"
   ]
  },
  {
   "cell_type": "code",
   "execution_count": null,
   "metadata": {},
   "outputs": [],
   "source": [
    "# Equivalently (but not exactly the same):\n",
    "for stuff in enumerate(xList):\n",
    "    print(stuff[0], stuff[1])"
   ]
  },
  {
   "cell_type": "code",
   "execution_count": null,
   "metadata": {},
   "outputs": [],
   "source": [
    "# Notice the parentheses.\n",
    "# What kind of variable type is stuff?\n",
    "\n",
    "type(stuff)"
   ]
  },
  {
   "cell_type": "markdown",
   "metadata": {},
   "source": [
    "## The `zip` function"
   ]
  },
  {
   "cell_type": "markdown",
   "metadata": {},
   "source": [
    "What if we want to use elements from two lists simultaneously in a loop? We can use the `zip` function to access elements at the same index for multiple lists:"
   ]
  },
  {
   "cell_type": "code",
   "execution_count": null,
   "metadata": {},
   "outputs": [],
   "source": [
    "numList = [1, 2, 3, 4, 5]\n",
    "strList = [\"one\", \"two\", \"three\", \"four\", \"five\"]\n",
    "\n",
    "for number, string in zip(numList, strList):  # Notice how we can unpack \"number\" and \"string\" right in the loop\n",
    "    print(number, string)"
   ]
  },
  {
   "cell_type": "markdown",
   "metadata": {},
   "source": [
    "So what is `zip` actually doing in the background? Think of two lists side-by-side that are being zipped up so that each element of one is attached to that corresponding element of the other, like how a zipper works on your pants. Here is a visualization:"
   ]
  },
  {
   "cell_type": "code",
   "execution_count": null,
   "metadata": {},
   "outputs": [],
   "source": [
    "list(zip(numList, strList))"
   ]
  },
  {
   "cell_type": "markdown",
   "metadata": {},
   "source": [
    "So each element is a tuple consisting of the pair of elements being zipped to each other at each index."
   ]
  },
  {
   "cell_type": "markdown",
   "metadata": {},
   "source": [
    "## Iterating without a variable"
   ]
  },
  {
   "cell_type": "markdown",
   "metadata": {},
   "source": [
    "We can also perform for-loops without declaring a variable in our loop. For example, let's say we want to print something 10 times. We could do the following:"
   ]
  },
  {
   "cell_type": "code",
   "execution_count": null,
   "metadata": {},
   "outputs": [],
   "source": [
    "for _ in range(10):\n",
    "    print(\"Hello\")"
   ]
  },
  {
   "cell_type": "markdown",
   "metadata": {},
   "source": [
    "Note that the underscore took the place of the variable, since we didn't need one (as it wouldn't have ever been used in our loop anyway). This is similar to how underscores are used when unpacking values from a tuple or list when we don't need all of the unpacked values to be stored in variables."
   ]
  },
  {
   "cell_type": "markdown",
   "metadata": {},
   "source": [
    "## List comprehension"
   ]
  },
  {
   "cell_type": "markdown",
   "metadata": {},
   "source": [
    "This is a really, really compact way of populating lists. The syntax is as follows:\n",
    "\n",
    "`[<expression> for <element> in <collection>]`\n",
    "\n",
    "The expression can be calculated using each element in the collection, if needed. We could, for example, do the following:"
   ]
  },
  {
   "cell_type": "code",
   "execution_count": null,
   "metadata": {},
   "outputs": [],
   "source": [
    "xList = [1.0 + index for index in range(10)]\n",
    "yList = [(x ** 2 + 70 ) / 2 for x in xList]"
   ]
  },
  {
   "cell_type": "markdown",
   "metadata": {},
   "source": [
    "Wow, that is compact!  Two lines!  Did it work?"
   ]
  },
  {
   "cell_type": "code",
   "execution_count": null,
   "metadata": {},
   "outputs": [],
   "source": [
    "print(\"     x            y\")\n",
    "\n",
    "for index in range(len(xList)):\n",
    "    print(f\"{xList[index]:7.1f} {yList[index]:13.2f}\")"
   ]
  },
  {
   "cell_type": "markdown",
   "metadata": {},
   "source": [
    "### Conditionals in list comprehensions"
   ]
  },
  {
   "cell_type": "markdown",
   "metadata": {},
   "source": [
    "We can add an `if` condition to a list comprehension.  We would do this when we wanted to limit or filter the values that are put into the resulting list:"
   ]
  },
  {
   "cell_type": "code",
   "execution_count": null,
   "metadata": {},
   "outputs": [],
   "source": [
    "divisor = 3.25  # Number to divide by\n",
    "\n",
    "# Create a list of numbers between 1 and 100 that are divisible by \"divisor\"\n",
    "numList = [num for num in range(1, 101) if num % divisor == 0]\n",
    "\n",
    "print(numList)"
   ]
  },
  {
   "cell_type": "code",
   "execution_count": null,
   "metadata": {},
   "outputs": [],
   "source": [
    "nameList = ['Samual', 'Charlie', 'Robert', 'Liangyu', 'Jeffery', 'Brian', 'Aidan', 'Melissa', 'Gerardo', \\\n",
    "            'Emily', 'Parker', 'Amanda', 'Kristine', 'Tarek', 'Christian', 'Ian', 'Alex', 'Nathaniel', \\\n",
    "            'Samantha', 'Pengqi']\n",
    "\n",
    "text = 'ar'\n",
    "\n",
    "filterList = [name for name in nameList if text in name]\n",
    "\n",
    "print(filterList)"
   ]
  }
 ],
 "metadata": {
  "kernelspec": {
   "display_name": "Python 3",
   "language": "python",
   "name": "python3"
  },
  "language_info": {
   "codemirror_mode": {
    "name": "ipython",
    "version": 3
   },
   "file_extension": ".py",
   "mimetype": "text/x-python",
   "name": "python",
   "nbconvert_exporter": "python",
   "pygments_lexer": "ipython3",
   "version": "3.8.5"
  }
 },
 "nbformat": 4,
 "nbformat_minor": 1
}
