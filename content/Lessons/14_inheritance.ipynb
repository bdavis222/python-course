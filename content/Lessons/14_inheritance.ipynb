{
 "cells": [
  {
   "cell_type": "markdown",
   "metadata": {},
   "source": [
    "# Inheritance"
   ]
  },
  {
   "cell_type": "markdown",
   "metadata": {},
   "source": [
    "In our last lesson, we learned that classes are good for packing data (attributes) and functionality (methods) together for a specific class of objects. Sometimes, there are classes of objects that are also _subclasses_ of other objects. This means they may have something specific that's different from their parent class, but are also very similar, and will reuse certain attributes or methods from the parent class.\n",
    "\n",
    "Consider the first example that we started with when we learned about classes: the `Dog` class. A dog is a type of animal. Like other animals, it breathes (common method) and has a name and some number of legs (common attribute). \n",
    "\n",
    "So, if we had already created an `Animal` class, it would be really convenient to copy over a lot of that functionality into the `Dog` class when we make it. This is exactly what inheritance gives us."
   ]
  },
  {
   "cell_type": "markdown",
   "metadata": {},
   "source": [
    "## Syntax"
   ]
  },
  {
   "cell_type": "markdown",
   "metadata": {},
   "source": [
    "The basic syntax is as follows:\n",
    "\n",
    "```\n",
    "class <ClassName>(<ParentClassName>):\n",
    "    def __init__(self, <arguments>):\n",
    "        super().__init__(self, <arguments>)\n",
    "```\n",
    "\n",
    "Note the following:\n",
    "\n",
    "1. The use of the `class` keyword.\n",
    "2. The class name is in PascalCase (meaning the first letter of each word is capitalized).\n",
    "3. The parent class is in parentheses.\n",
    "4. The colon after the parent class.\n",
    "5. The `__init__` function calls a `super().__init__` function.\n",
    "6. There may be some arguments passed to the class's `__init__` function and/or the `super().__init__` function.\n",
    "\n",
    "First, let's create a generic `Animal` class:"
   ]
  },
  {
   "cell_type": "code",
   "execution_count": null,
   "metadata": {},
   "outputs": [],
   "source": [
    "class Animal:\n",
    "    def __init__(self, name, numberOfLegs, hairy=True):\n",
    "        self.name = name\n",
    "        self.legs = numberOfLegs\n",
    "        self.hairy = hairy\n",
    "    \n",
    "    def breathe(self):\n",
    "        print(\"Breathing...\")"
   ]
  },
  {
   "cell_type": "markdown",
   "metadata": {},
   "source": [
    "Now let's create a `Dog` class which inherits from the `Animal` class:"
   ]
  },
  {
   "cell_type": "code",
   "execution_count": null,
   "metadata": {},
   "outputs": [],
   "source": [
    "class Dog(Animal):\n",
    "    def __init__(self, name):  # name is a required argument\n",
    "        super().__init__(name, 4)  # name and numberOfLegs=4 are passed to Animal()"
   ]
  },
  {
   "cell_type": "markdown",
   "metadata": {},
   "source": [
    "Note that the `Dog` class only takes a name as an argument, as dogs will by default have four legs and will use the default value of `True` for hairy.\n",
    "\n",
    "Let's create an instance of `Dog` and check that all of the attributes and methods of `Animal` are working as expected for it:"
   ]
  },
  {
   "cell_type": "code",
   "execution_count": null,
   "metadata": {},
   "outputs": [],
   "source": [
    "rex = Dog(\"Rex\")"
   ]
  },
  {
   "cell_type": "code",
   "execution_count": null,
   "metadata": {},
   "outputs": [],
   "source": [
    "rex.name"
   ]
  },
  {
   "cell_type": "code",
   "execution_count": null,
   "metadata": {},
   "outputs": [],
   "source": [
    "rex.legs"
   ]
  },
  {
   "cell_type": "code",
   "execution_count": null,
   "metadata": {},
   "outputs": [],
   "source": [
    "rex.hairy"
   ]
  },
  {
   "cell_type": "code",
   "execution_count": null,
   "metadata": {},
   "outputs": [],
   "source": [
    "rex.breathe()"
   ]
  },
  {
   "cell_type": "markdown",
   "metadata": {},
   "source": [
    "## Overwriting"
   ]
  },
  {
   "cell_type": "markdown",
   "metadata": {},
   "source": [
    "So, we can see that we've basically copied all of the functionality of `Animal`. But let's make the `Dog` class a little more specific to dogs.\n",
    "\n",
    "We know that dogs kind of pant when they breathe, so can we overwrite the `breathe` method for the `Dog` class?"
   ]
  },
  {
   "cell_type": "code",
   "execution_count": null,
   "metadata": {},
   "outputs": [],
   "source": [
    "class Dog(Animal):\n",
    "    def __init__(self, name):\n",
    "        super().__init__(name, 4)\n",
    "    \n",
    "    def breathe(self):\n",
    "        print(\"Panting...\")"
   ]
  },
  {
   "cell_type": "code",
   "execution_count": null,
   "metadata": {},
   "outputs": [],
   "source": [
    "rex = Dog(\"Rex\")\n",
    "rex.breathe()"
   ]
  },
  {
   "cell_type": "markdown",
   "metadata": {},
   "source": [
    "Ok! So we can just redefine any method we wish to overwrite in a subclass."
   ]
  },
  {
   "cell_type": "markdown",
   "metadata": {},
   "source": [
    "## Adding attributes and methods"
   ]
  },
  {
   "cell_type": "markdown",
   "metadata": {},
   "source": [
    "Let's extend the `Animal` class to another type of animal with a `Fish` class.\n",
    "\n",
    "A fish should still have a name, but it has zero legs and is not hairy. It also doesn't exactly breathe or pant, so let's have it blow bubbles:"
   ]
  },
  {
   "cell_type": "code",
   "execution_count": null,
   "metadata": {},
   "outputs": [],
   "source": [
    "class Fish(Animal):\n",
    "    def __init__(self, name):\n",
    "        super().__init__(name, 0, hairy=False)\n",
    "    \n",
    "    def breathe(self):\n",
    "        print(\"Blowing bubbles...\")"
   ]
  },
  {
   "cell_type": "code",
   "execution_count": null,
   "metadata": {},
   "outputs": [],
   "source": [
    "nemo = Fish(\"Nemo\")\n",
    "nemo.breathe()"
   ]
  },
  {
   "cell_type": "markdown",
   "metadata": {},
   "source": [
    "Let's give this fish the ability to sink or rise in the water, something the other animals don't have.\n",
    "\n",
    "Let's say we want the rise method to make the fish rise 1 unit of distance in the water (unless it is at the surface), and sink will have it sink 1 unit of distance (unless it is at the sea floor). These are obviously methods we will need to add.\n",
    "\n",
    "For these methods, we will need to keep track of the position of the fish in the water relative to the surface (10) and sea floor (0). That sounds like an attribute we need to add."
   ]
  },
  {
   "cell_type": "code",
   "execution_count": null,
   "metadata": {},
   "outputs": [],
   "source": [
    "class Fish(Animal):\n",
    "    def __init__(self, name):\n",
    "        super().__init__(name, 0, hairy=False)\n",
    "        self.position = 5  # Start the fish in the middle of the water\n",
    "    \n",
    "    def breathe(self):\n",
    "        print(\"Blowing bubbles...\")\n",
    "    \n",
    "    def rise(self):\n",
    "        if self.position < 10:\n",
    "            self.position += 1\n",
    "    \n",
    "    def sink(self):\n",
    "        if self.position > 0:\n",
    "            self.position -= 1"
   ]
  },
  {
   "cell_type": "markdown",
   "metadata": {},
   "source": [
    "Let's now instantiate a new fish using this updated `Fish` class and check its position:"
   ]
  },
  {
   "cell_type": "code",
   "execution_count": null,
   "metadata": {},
   "outputs": [],
   "source": [
    "nemo = Fish(\"Nemo\")\n",
    "nemo.position"
   ]
  },
  {
   "cell_type": "markdown",
   "metadata": {},
   "source": [
    "Now let's try moving it up and down, and verify that the position attribute accurately keeps track of the fish's position:"
   ]
  },
  {
   "cell_type": "code",
   "execution_count": null,
   "metadata": {},
   "outputs": [],
   "source": [
    "nemo.rise()\n",
    "nemo.position"
   ]
  },
  {
   "cell_type": "code",
   "execution_count": null,
   "metadata": {},
   "outputs": [],
   "source": [
    "nemo.rise()\n",
    "nemo.rise()\n",
    "nemo.position"
   ]
  },
  {
   "cell_type": "code",
   "execution_count": null,
   "metadata": {},
   "outputs": [],
   "source": [
    "nemo.sink()\n",
    "nemo.position"
   ]
  },
  {
   "cell_type": "markdown",
   "metadata": {},
   "source": [
    "Let's set the position manually to zero (sometimes a bad idea, which I will explain!) and then try to sink, and make sure the position stays at zero:"
   ]
  },
  {
   "cell_type": "code",
   "execution_count": null,
   "metadata": {},
   "outputs": [],
   "source": [
    "nemo.position = 0\n",
    "print(nemo.position)\n",
    "nemo.sink()\n",
    "print(nemo.position)"
   ]
  },
  {
   "cell_type": "markdown",
   "metadata": {},
   "source": [
    "So why is it sometimes a bad idea to manually set attributes in this way? Well, imagine we had set the position to 50. That shouldn't be possible. Instead, we could define some `setPosition` method that checks whether the position we're setting it to is a valid position or not.\n",
    "\n",
    "But then again, what if the position we try to set is indeed invalid? How should we handle such an error? We will discuss that in the next lesson."
   ]
  },
  {
   "cell_type": "markdown",
   "metadata": {},
   "source": [
    "## Another example: Pokémon"
   ]
  },
  {
   "cell_type": "markdown",
   "metadata": {},
   "source": [
    "If you're still having some trouble understanding why classes are useful, a great example of their usage is demonstrated in [this video](https://www.youtube.com/watch?v=2AK7j8pIh-0). The video gives a step-by-step walkthrough of designing a Pokémon-style game using classes in Python.\n",
    "\n",
    "In a video game like Pokémon, it is important to continually track attributes of the player's and opponent's characters as they change (health, experience points, whether they are currently asleep or poisoned, etc.). Remember how we tracked the position of the fish in our example above? By using classes, we can very easily change and track attributes for any given object, whether that object is an employee in a company's records, or a Pokémon in a video game."
   ]
  }
 ],
 "metadata": {
  "kernelspec": {
   "display_name": "Python 3",
   "language": "python",
   "name": "python3"
  },
  "language_info": {
   "codemirror_mode": {
    "name": "ipython",
    "version": 3
   },
   "file_extension": ".py",
   "mimetype": "text/x-python",
   "name": "python",
   "nbconvert_exporter": "python",
   "pygments_lexer": "ipython3",
   "version": "3.8.5"
  }
 },
 "nbformat": 4,
 "nbformat_minor": 5
}
