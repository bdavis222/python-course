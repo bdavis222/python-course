{
 "cells": [
  {
   "cell_type": "markdown",
   "metadata": {},
   "source": [
    "# Plotting"
   ]
  },
  {
   "cell_type": "markdown",
   "metadata": {},
   "source": [
    "For inline plotting, rather than displaying in new windows, the following needs to be run:"
   ]
  },
  {
   "cell_type": "code",
   "execution_count": null,
   "metadata": {},
   "outputs": [],
   "source": [
    "%matplotlib inline"
   ]
  },
  {
   "cell_type": "code",
   "execution_count": null,
   "metadata": {},
   "outputs": [],
   "source": [
    "import numpy as np\n",
    "import matplotlib.pyplot as pl  # import this for plotting functionality"
   ]
  },
  {
   "cell_type": "markdown",
   "metadata": {},
   "source": [
    "Let's use the gravitational free-fall distance function from the last lesson:"
   ]
  },
  {
   "cell_type": "code",
   "execution_count": null,
   "metadata": {},
   "outputs": [],
   "source": [
    "def distance(t, a=9.8):\n",
    "    '''Calculate the distance given a time and acceleration.\n",
    "    \n",
    "    Args:\n",
    "        t: time in seconds (int, float).\n",
    "        a: acceleration in m/s^2 (int, float).\n",
    "        \n",
    "    Returns:\n",
    "        Distance in meters (float).\n",
    "    '''\n",
    "    return 0.5 * a * t ** 2"
   ]
  },
  {
   "cell_type": "code",
   "execution_count": null,
   "metadata": {},
   "outputs": [],
   "source": [
    "a = 9.8       # Acceleration m s^{-2}\n",
    "count = 101   # Number of numbers\n",
    "\n",
    "timeArray = np.linspace(0, 10, count)  # Create an array of 101 times between 0 and 10 (inclusive)\n",
    "distArray = distance(timeArray)        # Create an array of distances calculate from the times"
   ]
  },
  {
   "cell_type": "code",
   "execution_count": null,
   "metadata": {},
   "outputs": [],
   "source": [
    "print(timeArray)\n",
    "print()\n",
    "print(distArray)"
   ]
  },
  {
   "cell_type": "markdown",
   "metadata": {},
   "source": [
    "## Scatter plots"
   ]
  },
  {
   "cell_type": "code",
   "execution_count": null,
   "metadata": {},
   "outputs": [],
   "source": [
    "pl.scatter(timeArray, distArray, color = \"k\")\n",
    "pl.show()"
   ]
  },
  {
   "cell_type": "markdown",
   "metadata": {},
   "source": [
    "Zooming in a bit, we can see the discrete nature (and let's also add some labels):"
   ]
  },
  {
   "cell_type": "code",
   "execution_count": null,
   "metadata": {},
   "outputs": [],
   "source": [
    "pl.scatter(timeArray, distArray, color = \"k\")\n",
    "\n",
    "pl.xlim(4, 6)      # Limiting the horizontal range of the plot\n",
    "pl.ylim(50, 200)   # Limiting the vertical range of the plot\n",
    "\n",
    "pl.xlabel(\"time (s)\")\n",
    "pl.ylabel(\"distance (m)\")\n",
    "\n",
    "pl.show()"
   ]
  },
  {
   "cell_type": "markdown",
   "metadata": {},
   "source": [
    "## Line plotting "
   ]
  },
  {
   "cell_type": "code",
   "execution_count": null,
   "metadata": {},
   "outputs": [],
   "source": [
    "pl.plot(timeArray, distArray, color=\"b\", ls=\"-\")\n",
    "pl.xlabel(\"time (s)\")\n",
    "pl.ylabel(\"distance (m)\")\n",
    "pl.show()"
   ]
  },
  {
   "cell_type": "markdown",
   "metadata": {},
   "source": [
    "To save the figure, use `savefig(\"filename\")` and the .pdf, or .eps, or .png, or ... extension (which Python interprets for you!):"
   ]
  },
  {
   "cell_type": "code",
   "execution_count": null,
   "metadata": {},
   "outputs": [],
   "source": [
    "pl.plot(timeArray, distArray, color=\"b\", ls=\"-\")\n",
    "pl.xlabel(\"time (s)\")\n",
    "pl.ylabel(\"distance (m)\")\n",
    "pl.title(\"Position vs. Time\")\n",
    "\n",
    "# Uncomment any of the following lines one at a time to try saving a figure.\n",
    "# (They should be run in the same cell as pl.plot)\n",
    "\n",
    "# pl.savefig(\"data/plots/position_v_time.pdf\")\n",
    "# pl.savefig(\"data/plots/position_v_time.eps\")\n",
    "# pl.savefig(\"data/plots/position_v_time.png\")"
   ]
  },
  {
   "cell_type": "markdown",
   "metadata": {},
   "source": [
    "Where will these files be saved on our computer? Check the path passed into the `savefig` method."
   ]
  }
 ],
 "metadata": {
  "kernelspec": {
   "display_name": "Python 3 (ipykernel)",
   "language": "python",
   "name": "python3"
  },
  "language_info": {
   "codemirror_mode": {
    "name": "ipython",
    "version": 3
   },
   "file_extension": ".py",
   "mimetype": "text/x-python",
   "name": "python",
   "nbconvert_exporter": "python",
   "pygments_lexer": "ipython3",
   "version": "3.10.5"
  }
 },
 "nbformat": 4,
 "nbformat_minor": 1
}
