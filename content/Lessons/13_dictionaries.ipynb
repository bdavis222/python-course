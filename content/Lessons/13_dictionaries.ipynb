{
 "cells": [
  {
   "cell_type": "markdown",
   "id": "ca3494f7",
   "metadata": {},
   "source": [
    "# Dictionaries"
   ]
  },
  {
   "cell_type": "markdown",
   "id": "908d7e43",
   "metadata": {},
   "source": [
    "To this point, we have learned about a few main types of data containers, or collections, like `lists`, `tuples`, and `sets`, which all contain values. There is another very powerful type of collection called a `dictionary` that we can use that contains _key-value pairs_. We will discuss what this means in just a minute.\n",
    "\n",
    "Let's say we have a list of employees of a company, and each of those employees has a unique ID number, email address, and phone number. One way we could store all of that could be the following:"
   ]
  },
  {
   "cell_type": "code",
   "execution_count": null,
   "id": "75ded448",
   "metadata": {},
   "outputs": [],
   "source": [
    "alph = [\"000001\", \"alph@company.com\", \"472-575-1534\"]\n",
    "brittany = [\"000002\", \"brittany@company.com\", \"472-665-1224\"]\n",
    "charlie = [\"000003\", \"charlie@company.com\", \"472-500-1234\"]"
   ]
  },
  {
   "cell_type": "markdown",
   "id": "cfc91c1a",
   "metadata": {},
   "source": [
    "So, everytime we want to access Alph's email address, we just need the second element from the list we assigned to the `alph` variable:"
   ]
  },
  {
   "cell_type": "code",
   "execution_count": null,
   "id": "4bdcf437",
   "metadata": {},
   "outputs": [],
   "source": [
    "alph[1]"
   ]
  },
  {
   "cell_type": "markdown",
   "id": "2e1df3d9",
   "metadata": {},
   "source": [
    "But are we really going to keep adding new variables _every time a new employee joins the company_? This will get hard to manage. In addition, we also need to remember which index to use for which information, which is challenging if we are storing lots of information.\n",
    "\n",
    "Instead, let's organize this in a dictionary (and we'll see why this is so powerful soon):"
   ]
  },
  {
   "cell_type": "markdown",
   "id": "10b5180a",
   "metadata": {},
   "source": [
    "## Syntax"
   ]
  },
  {
   "cell_type": "markdown",
   "id": "0705c03c",
   "metadata": {},
   "source": [
    "The basic syntax is as follows:\n",
    "\n",
    "`{<key1>: <value1>, <key2>: <value2>, ...}`\n",
    "\n",
    "Note the following:\n",
    "\n",
    "1. Curly braces enclose the dictionary\n",
    "2. Each key-value pair is separated by a comma\n",
    "3. Each key is followed by a colon and then its corresponding value\n",
    "\n",
    "So the syntax is similar to that of sets, but dictionaries contain _pairs_. The colon maps each key to a value, and Python knows to interpret this as a dictionary, rather than a set.\n",
    "\n",
    "Let's create a dictionary:"
   ]
  },
  {
   "cell_type": "code",
   "execution_count": null,
   "id": "6f8ca802",
   "metadata": {},
   "outputs": [],
   "source": [
    "employees = {\n",
    "    \"alph\": [\"000001\", \"alph@company.com\", \"472-575-1534\"],\n",
    "    \"brittany\": [\"000002\", \"brittany@company.com\", \"472-665-1224\"],\n",
    "    \"charlie\": [\"000003\", \"charlie@company.com\", \"472-500-1234\"]\n",
    "}"
   ]
  },
  {
   "cell_type": "markdown",
   "id": "7b57e25e",
   "metadata": {},
   "source": [
    "Note that the amount of data we need to put in our dictionary is too long for one line, so we've broken up the curly braces onto separate lines with the data inside the dictionary indented. This is common."
   ]
  },
  {
   "cell_type": "markdown",
   "id": "72e3d0c6",
   "metadata": {},
   "source": [
    "## Accessing data"
   ]
  },
  {
   "cell_type": "markdown",
   "id": "c85b4c79",
   "metadata": {},
   "source": [
    "Ok, so this dictionary looks somewhat similar to the variables we were defining before. What has changed? How do we now access Alph's email address? Do we just try to access the first index of the `employees` dictionary?"
   ]
  },
  {
   "cell_type": "code",
   "execution_count": null,
   "id": "20a0341f",
   "metadata": {},
   "outputs": [],
   "source": [
    "employees[0]"
   ]
  },
  {
   "cell_type": "markdown",
   "id": "d30df08c",
   "metadata": {},
   "source": [
    "No, just like sets, that is **not** how dictionaries work! In fact, just like dictionaries containing word definitions, they are used to _look things up_.\n",
    "\n",
    "In a dictionary of word definitions, we look up a particular word (a key), and that will tell us its definition (value).\n",
    "\n",
    "We want Alph's information list, which we can see is the `value` associated with his key (`\"alph\"`). Let's use that key to look up his information:"
   ]
  },
  {
   "cell_type": "code",
   "execution_count": null,
   "id": "70a56e45",
   "metadata": {},
   "outputs": [],
   "source": [
    "employees[\"alph\"]"
   ]
  },
  {
   "cell_type": "markdown",
   "id": "c656f379",
   "metadata": {},
   "source": [
    "This is actually one of the best things about dictionaries: we don't actually need to know an index to access the information we want. We can decide what `keys` map to what `values` in a dictionary!\n",
    "\n",
    "It is important to note that because we access values by using a unique key, **we can't add another employee with the same \"alph\" key.** If we tried, the previous key-value pair would be overwritten, meaning we would lose the first Alph's data! _(In other words, it is very important to make sure we are using unique keys in our dictionaries.)_\n",
    "\n",
    "We can use this to our advantage to organize our employee data even further. As we noted before, the data stored for each employee are their ID, email, and phone number. Why don't we map each employee's name to a dictionary of their data instead of a list? Let's see why that would be useful, using just Alph as an example:"
   ]
  },
  {
   "cell_type": "code",
   "execution_count": null,
   "id": "1502f198",
   "metadata": {},
   "outputs": [],
   "source": [
    "employees = {\n",
    "    \"alph\": {\"id\": \"000001\", \"email\": \"alph@company.com\", \"phone_number\": \"472-575-1534\"}\n",
    "}"
   ]
  },
  {
   "cell_type": "markdown",
   "id": "7c63ecf6",
   "metadata": {},
   "source": [
    "Now we can access Alph's email as follows:"
   ]
  },
  {
   "cell_type": "code",
   "execution_count": null,
   "id": "a7ea75f5",
   "metadata": {},
   "outputs": [],
   "source": [
    "employees[\"alph\"][\"email\"]"
   ]
  },
  {
   "cell_type": "markdown",
   "id": "d118129e",
   "metadata": {},
   "source": [
    "Why does this work? Well, the `employees[\"alph\"]` part gets Alph's information dictionary (`{\"id\": \"000001\", \"email\": \"alph@company.com\", \"phone_number\": \"472-575-1534\"}`), and the `[\"email\"]` part uses the `email` key on Alph's information dictionary to access the value stored for his email.\n",
    "\n",
    "We can also make it a little more readable, by putting each key-value pair for Alph's information dictionary on its own line:"
   ]
  },
  {
   "cell_type": "code",
   "execution_count": null,
   "id": "d01fe97d",
   "metadata": {},
   "outputs": [],
   "source": [
    "employees = {\n",
    "    \"alph\": {\n",
    "        \"id\": \"000001\",\n",
    "        \"email\": \"alph@company.com\",\n",
    "        \"phone_number\": \"472-575-1534\"\n",
    "    }\n",
    "}"
   ]
  },
  {
   "cell_type": "markdown",
   "id": "581849b2",
   "metadata": {},
   "source": [
    "And we can add the other employees back in:"
   ]
  },
  {
   "cell_type": "code",
   "execution_count": null,
   "id": "64d00bab",
   "metadata": {},
   "outputs": [],
   "source": [
    "employees = {\n",
    "    \"alph\": {\n",
    "        \"id\": \"000001\",\n",
    "        \"email\": \"alph@company.com\",\n",
    "        \"phone_number\": \"472-575-1534\"\n",
    "    },\n",
    "    \"brittany\": {\n",
    "        \"id\": \"000002\",\n",
    "        \"email\": \"brittany@company.com\",\n",
    "        \"phone_number\": \"472-665-1224\"\n",
    "    },\n",
    "    \"charlie\": {\n",
    "        \"id\": \"000003\",\n",
    "        \"email\": \"charlie@company.com\",\n",
    "        \"phone_number\": \"472-500-1234\"\n",
    "    }\n",
    "}"
   ]
  },
  {
   "cell_type": "markdown",
   "id": "760908cb",
   "metadata": {},
   "source": [
    "## Adding data"
   ]
  },
  {
   "cell_type": "markdown",
   "id": "ce28dcc3",
   "metadata": {},
   "source": [
    "So what if a new employee joins the company? Do we need to go to where our `employees` dictionary is defined and keep updating it there?\n",
    "\n",
    "Well, we _could_ do that, but we can add data directly to a dictionary using the variable it is stored in. \n",
    "\n",
    "The basic syntax is as follows:\n",
    "\n",
    "```\n",
    "<dictionary_name>[<new_key>] = <new_value>\n",
    "```\n",
    "\n",
    "Note that this syntax is unique to dictionaries. If we had an empty list, for example, we wouldn't be able to use `emptyList[0] = \"new value\"`, as this would try to reassign a value of `\"new value\"` to the first index in the list, which doesn't exist yet (since the list is empty). So this syntax is a little awkward for dictionaries, as they are the only type of collection where this syntax would even work at all. We will just have to remember this quirk of Python dictionaries.\n",
    "\n",
    "Let's add a new employee:"
   ]
  },
  {
   "cell_type": "code",
   "execution_count": null,
   "id": "b9cfb05d",
   "metadata": {},
   "outputs": [],
   "source": [
    "employees[\"david\"] = {\n",
    "    \"id\": \"000004\",\n",
    "    \"email\": \"david@company.com\",\n",
    "    \"phone_number\": \"472-133-7992\"\n",
    "}"
   ]
  },
  {
   "cell_type": "markdown",
   "id": "2571a851",
   "metadata": {},
   "source": [
    "Again, `\"david\"` is not a key in our dictionary, but this doesn't given an error, because we are using this is a unique assignment syntax for dictionaries. So, did it work?"
   ]
  },
  {
   "cell_type": "code",
   "execution_count": null,
   "id": "265e5d5a",
   "metadata": {},
   "outputs": [],
   "source": [
    "employees"
   ]
  },
  {
   "cell_type": "markdown",
   "id": "a178a588",
   "metadata": {},
   "source": [
    "Yes, he was successfully added! Let's look up his phone number:"
   ]
  },
  {
   "cell_type": "code",
   "execution_count": null,
   "id": "cc223e73",
   "metadata": {},
   "outputs": [],
   "source": [
    "employees[\"david\"][\"phone_number\"]"
   ]
  },
  {
   "cell_type": "markdown",
   "id": "d175baa4",
   "metadata": {},
   "source": [
    "## Removing data"
   ]
  },
  {
   "cell_type": "markdown",
   "id": "11001fd9",
   "metadata": {},
   "source": [
    "To delete an entry from a dictionary (the key-value pair), one can simply delete the key from the dictionary using the `del` keyword:"
   ]
  },
  {
   "cell_type": "code",
   "execution_count": null,
   "id": "8999d2f0",
   "metadata": {},
   "outputs": [],
   "source": [
    "del employees[\"david\"]"
   ]
  },
  {
   "cell_type": "code",
   "execution_count": null,
   "id": "c8ff954a",
   "metadata": {},
   "outputs": [],
   "source": [
    "employees"
   ]
  },
  {
   "cell_type": "markdown",
   "id": "dffc0d83",
   "metadata": {},
   "source": [
    "And how would we delete, for example, Brittany's phone number?"
   ]
  },
  {
   "cell_type": "code",
   "execution_count": null,
   "id": "ed3d46f9",
   "metadata": {},
   "outputs": [],
   "source": [
    "del employees[\"brittany\"][\"phone_number\"]\n",
    "\n",
    "print(employees[\"brittany\"])"
   ]
  },
  {
   "cell_type": "markdown",
   "id": "19ea6516",
   "metadata": {},
   "source": [
    "Note that running the above cell again would throw an error, as the `\"phone_number\"` key no longer exists in Brittany's information dictionary, so we can't delete it."
   ]
  },
  {
   "cell_type": "markdown",
   "id": "94b05f1a",
   "metadata": {},
   "source": [
    "## Getting keys and values"
   ]
  },
  {
   "cell_type": "markdown",
   "id": "3e00e62e",
   "metadata": {},
   "source": [
    "There are special methods for getting the keys and values from a dictionary:"
   ]
  },
  {
   "cell_type": "code",
   "execution_count": null,
   "id": "a7a050ec",
   "metadata": {},
   "outputs": [],
   "source": [
    "employees.keys()"
   ]
  },
  {
   "cell_type": "code",
   "execution_count": null,
   "id": "47aa6eaf",
   "metadata": {},
   "outputs": [],
   "source": [
    "employees.values()"
   ]
  },
  {
   "cell_type": "markdown",
   "id": "70f94727",
   "metadata": {},
   "source": [
    "We can also get the keys and values zipped up for us:"
   ]
  },
  {
   "cell_type": "code",
   "execution_count": null,
   "id": "e9763ecd",
   "metadata": {},
   "outputs": [],
   "source": [
    "employees.items()"
   ]
  },
  {
   "cell_type": "markdown",
   "id": "4f61727c",
   "metadata": {},
   "source": [
    "This can be very convenient for looping over the keys and values in a dictionary:"
   ]
  },
  {
   "cell_type": "code",
   "execution_count": null,
   "id": "4e3cd0a2",
   "metadata": {},
   "outputs": [],
   "source": [
    "for key, value in employees.items():\n",
    "    print(f\"Key: {key:8}     Value: {value}\")"
   ]
  },
  {
   "cell_type": "markdown",
   "id": "69112c6e",
   "metadata": {},
   "source": [
    "Dictionaries can be very useful for adding, storing, and looking up lots of data that might otherwise be difficult to organize! Dictionaries also benefit from very fast key look-up times (similar to sets)."
   ]
  }
 ],
 "metadata": {
  "kernelspec": {
   "display_name": "Python 3 (ipykernel)",
   "language": "python",
   "name": "python3"
  },
  "language_info": {
   "codemirror_mode": {
    "name": "ipython",
    "version": 3
   },
   "file_extension": ".py",
   "mimetype": "text/x-python",
   "name": "python",
   "nbconvert_exporter": "python",
   "pygments_lexer": "ipython3",
   "version": "3.10.5"
  }
 },
 "nbformat": 4,
 "nbformat_minor": 5
}
