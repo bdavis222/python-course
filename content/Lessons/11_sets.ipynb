{
 "cells": [
  {
   "cell_type": "markdown",
   "id": "95999cc2",
   "metadata": {},
   "source": [
    "# Sets"
   ]
  },
  {
   "cell_type": "markdown",
   "id": "7126f845",
   "metadata": {},
   "source": [
    "Sets are a type of collection that are a lot like lists, except that the elements are not in any particular order, and they are guaranteed to be unique. We will see why this is useful."
   ]
  },
  {
   "cell_type": "markdown",
   "id": "3840f032",
   "metadata": {},
   "source": [
    "## Syntax"
   ]
  },
  {
   "cell_type": "markdown",
   "id": "1ff3423e",
   "metadata": {},
   "source": [
    "The basic syntax is as follows:\n",
    "\n",
    "`{<element1>, <element2>, ...}`\n",
    "\n",
    "Note the following:\n",
    "\n",
    "1. Curly braces enclose the set\n",
    "2. Each item is separated by a comma\n",
    "3. The items in the set don't all have to be the same type\n",
    "\n",
    "Let's create a set:"
   ]
  },
  {
   "cell_type": "code",
   "execution_count": null,
   "id": "11091794",
   "metadata": {},
   "outputs": [],
   "source": [
    "shoppingSet = {\"eggs\", \"bacon\", \"onions\", \"cheese\", \"milk\"}"
   ]
  },
  {
   "cell_type": "markdown",
   "id": "6fad73ca",
   "metadata": {},
   "source": [
    "But, unlike with a list, we can't pull out a value at a specific index:"
   ]
  },
  {
   "cell_type": "code",
   "execution_count": null,
   "id": "72bc1295",
   "metadata": {},
   "outputs": [],
   "source": [
    "shoppingSet[3]"
   ]
  },
  {
   "cell_type": "markdown",
   "id": "fe013fa0",
   "metadata": {},
   "source": [
    "So then what are sets good for? They are mainly used to store unique values and then check whether those values are stored in the set. They are _very_ efficient at doing this. Let's look at an example:"
   ]
  },
  {
   "cell_type": "markdown",
   "id": "0dc77da9",
   "metadata": {},
   "source": [
    "## Adding data"
   ]
  },
  {
   "cell_type": "markdown",
   "id": "ba22b3ff",
   "metadata": {},
   "source": [
    "To add a new value to a set, use the `add` method:"
   ]
  },
  {
   "cell_type": "code",
   "execution_count": null,
   "id": "03f4afa3",
   "metadata": {},
   "outputs": [],
   "source": [
    "shoppingSet.add(\"bread\")\n",
    "\n",
    "print(shoppingSet)"
   ]
  },
  {
   "cell_type": "markdown",
   "id": "6dc1444a",
   "metadata": {},
   "source": [
    "Notice that adding something that already exists in the set will do nothing:"
   ]
  },
  {
   "cell_type": "code",
   "execution_count": null,
   "id": "80f8176a",
   "metadata": {},
   "outputs": [],
   "source": [
    "shoppingSet.add(\"eggs\")\n",
    "\n",
    "print(shoppingSet)"
   ]
  },
  {
   "cell_type": "markdown",
   "id": "bf4941ad",
   "metadata": {},
   "source": [
    "This is because the values in set _must be unique_, so adding an existing value _should_ do nothing."
   ]
  },
  {
   "cell_type": "markdown",
   "id": "4e6e7dc0",
   "metadata": {},
   "source": [
    "## Removing data"
   ]
  },
  {
   "cell_type": "markdown",
   "id": "ef005924",
   "metadata": {},
   "source": [
    "To remove a value from a set, use the `remove` method:"
   ]
  },
  {
   "cell_type": "code",
   "execution_count": null,
   "id": "af87a7d2",
   "metadata": {},
   "outputs": [],
   "source": [
    "shoppingSet.remove(\"onions\")\n",
    "\n",
    "print(shoppingSet)"
   ]
  },
  {
   "cell_type": "markdown",
   "id": "7e0906c0",
   "metadata": {},
   "source": [
    "## Empty sets"
   ]
  },
  {
   "cell_type": "markdown",
   "id": "0f61a86f",
   "metadata": {},
   "source": [
    "We can also initialize an empty set and add values later. Let's see an example of this:"
   ]
  },
  {
   "cell_type": "code",
   "execution_count": null,
   "id": "e1e24ad8",
   "metadata": {},
   "outputs": [],
   "source": [
    "emptySet = set()\n",
    "\n",
    "print(emptySet)\n",
    "print(type(emptySet))"
   ]
  },
  {
   "cell_type": "markdown",
   "id": "ab9997d5",
   "metadata": {},
   "source": [
    "And we can add values:"
   ]
  },
  {
   "cell_type": "code",
   "execution_count": null,
   "id": "387d7988",
   "metadata": {},
   "outputs": [],
   "source": [
    "emptySet.add(\"test\")\n",
    "\n",
    "print(emptySet)"
   ]
  },
  {
   "cell_type": "markdown",
   "id": "bc30b174",
   "metadata": {},
   "source": [
    "But why can't we use the syntax we use for empty lists? We can initialize an empty list with `emptyList = []`, so can't we just use `{}` instead of `set()`? The answer is no, because Python actually reserves this syntax for a different type of collection that we will discuss in the next lesson."
   ]
  },
  {
   "cell_type": "markdown",
   "id": "3c93034a",
   "metadata": {},
   "source": [
    "## Built for speed"
   ]
  },
  {
   "cell_type": "markdown",
   "id": "20eca0cc",
   "metadata": {},
   "source": [
    "Sets are great if we want to **quickly** verify if something exists in a collection. Consider the following example:"
   ]
  },
  {
   "cell_type": "code",
   "execution_count": null,
   "id": "9acad747",
   "metadata": {},
   "outputs": [],
   "source": [
    "mySet = {1, 2, 3, 4, 5, 6, 7, 8, 9}\n",
    "print(5 in mySet)"
   ]
  },
  {
   "cell_type": "markdown",
   "id": "45273f81",
   "metadata": {},
   "source": [
    "This is just like how we would do this check with a list:"
   ]
  },
  {
   "cell_type": "code",
   "execution_count": null,
   "id": "4d571462",
   "metadata": {},
   "outputs": [],
   "source": [
    "myList = [1, 2, 3, 4, 5, 6, 7, 8, 9]\n",
    "print(5 in myList)"
   ]
  },
  {
   "cell_type": "markdown",
   "id": "5dde37bc",
   "metadata": {},
   "source": [
    "So what's the difference?\n",
    "\n",
    "In the list example above, each of the elements in the list are checked one by one behind the scenes to see if that element is equal to 5. So, 5 iterations had to run before `True` was returned. And what if we're looking for an element _not_ in the list?"
   ]
  },
  {
   "cell_type": "code",
   "execution_count": null,
   "id": "da02a28b",
   "metadata": {},
   "outputs": [],
   "source": [
    "print(11 in myList)"
   ]
  },
  {
   "cell_type": "markdown",
   "id": "61a7e65d",
   "metadata": {},
   "source": [
    "In this case, 11 is never found, so the _whole_ list had to be traversed to never find the value of 11 and return `False`. \n",
    "\n",
    "Sets can do this much more efficiently, because they don't have to iterate through the whole set to check for a value. Sets benefit from blazing fast look-up times, so it's good to use them when we know we will be needing to look up unique elements from a collection! This is especially true for large datasets, so it's important to consider when we write code where datasets of different sizes might be passed in."
   ]
  }
 ],
 "metadata": {
  "kernelspec": {
   "display_name": "Python 3 (ipykernel)",
   "language": "python",
   "name": "python3"
  },
  "language_info": {
   "codemirror_mode": {
    "name": "ipython",
    "version": 3
   },
   "file_extension": ".py",
   "mimetype": "text/x-python",
   "name": "python",
   "nbconvert_exporter": "python",
   "pygments_lexer": "ipython3",
   "version": "3.10.5"
  }
 },
 "nbformat": 4,
 "nbformat_minor": 5
}
