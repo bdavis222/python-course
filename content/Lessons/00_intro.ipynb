{
 "cells": [
  {
   "cell_type": "markdown",
   "metadata": {},
   "source": [
    "# Introduction to Python"
   ]
  },
  {
   "cell_type": "markdown",
   "metadata": {},
   "source": [
    "Of the most widely used programming languages, Python is arguably the easiest to learn, which makes it a great starting point. This course will teach Python, along with general concepts that apply to many other languages."
   ]
  },
  {
   "cell_type": "markdown",
   "metadata": {},
   "source": [
    "## Computers require exact instructions"
   ]
  },
  {
   "cell_type": "markdown",
   "metadata": {},
   "source": [
    "Before we dive in, we should recognize that computers will do _exactly_ what you tell them to do. What does that mean?\n",
    "\n",
    "Watch [this video](https://www.youtube.com/watch?v=FN2RM-CHkuI) as an example of following instructions literally.\n",
    "\n",
    "A computer will do exactly what you tell it to do, **even if it's wrong!**"
   ]
  },
  {
   "cell_type": "markdown",
   "metadata": {},
   "source": [
    "## Running code"
   ]
  },
  {
   "cell_type": "markdown",
   "metadata": {},
   "source": [
    "### Python files"
   ]
  },
  {
   "cell_type": "markdown",
   "metadata": {},
   "source": [
    "There are a few different ways to execute Python code. Probably the most common is to write code in a Python file (a plain text file with a `.py` extension), and then run that code from the command line. This will be discussed in a later lesson.\n",
    "\n",
    "The vast majority of this course (including the interactive tutorials and projects) will use Jupyter Notebooks."
   ]
  },
  {
   "cell_type": "markdown",
   "metadata": {},
   "source": [
    "### Jupyter Notebooks"
   ]
  },
  {
   "cell_type": "markdown",
   "metadata": {},
   "source": [
    "Much of the content of this page comes from something called a Jupyter Notebook. These notebooks can contain regular titles and text, like you've seen so far, but also cells of Python code that can be run as part of a program!\n",
    "\n",
    "The ability to run Python code one cell at a time makes this a convenient instructional and learning tool. Below is an example of an empty code cell:"
   ]
  },
  {
   "cell_type": "code",
   "execution_count": null,
   "metadata": {},
   "outputs": [],
   "source": []
  },
  {
   "cell_type": "markdown",
   "metadata": {},
   "source": [
    "To run a code cell, click the cell to select it, and then press **Shift + Return** on your keyboard. You can also select a cell and click the \"run\" button near the top of the window (it looks like a right-facing triangle, or a standard \"play\" icon)."
   ]
  },
  {
   "cell_type": "markdown",
   "metadata": {},
   "source": [
    "#### Running cells"
   ]
  },
  {
   "cell_type": "markdown",
   "metadata": {},
   "source": [
    "When a cell is busy running, it will indicate that with a `*` symbol displayed to the left of the cell. When the cell finishes running, this symbol will turn into a number, which represents the order in which the cells have been run (first, second, third, etc.).\n",
    "\n",
    "The first cell that is run in a notebook generally takes a little longer to run than the ones after it (due to Jupyter setting everything up to run cells when that first one is run). If a cell remains busy running (with the `*` symbol displayed) for a _long_ time, it is probably stuck."
   ]
  },
  {
   "cell_type": "markdown",
   "metadata": {},
   "source": [
    "#### Fixing a cell that is stuck"
   ]
  },
  {
   "cell_type": "markdown",
   "metadata": {},
   "source": [
    "To the right of the run button are the stop and restart buttons. These are used if something is wrong and you need to interrupt your program from running and start things over again.\n",
    "\n",
    "You will understand more about this later, but keep this in mind: *Stopping and restarting like this is totally fine to do, but anything that was run in any previous cells may need to be re-run after the restart.*\n",
    "\n",
    "**In this course, you are encouraged to run _all_ of the cells that you are given**, so that you can see what is outputted when running the code. This course is designed to be interactive!"
   ]
  },
  {
   "cell_type": "markdown",
   "metadata": {},
   "source": [
    "## Comments"
   ]
  },
  {
   "cell_type": "markdown",
   "metadata": {},
   "source": [
    "Comments are useful for documenting your code, i.e., making it easier for yourself or others to understand why something was written the way it was written. Comments are ignored by Python, so you don't have to worry about them actually changing any of the code you write. There are two main types of comments:"
   ]
  },
  {
   "cell_type": "markdown",
   "metadata": {},
   "source": [
    "### Single-line comments"
   ]
  },
  {
   "cell_type": "markdown",
   "metadata": {},
   "source": [
    "Below is an example of a single-line comment. _(Note: cells with overflowing content can be scrolled horizontally to see the content that runs past the right edge of the cell.)_"
   ]
  },
  {
   "cell_type": "code",
   "execution_count": null,
   "metadata": {
    "scrolled": true
   },
   "outputs": [],
   "source": [
    "# This is a single-line comment."
   ]
  },
  {
   "cell_type": "markdown",
   "metadata": {},
   "source": [
    "Running the single-line comment cell above doesn't do anything (i.e., nothing is outputted). That is exactly how comments should behave."
   ]
  },
  {
   "cell_type": "code",
   "execution_count": null,
   "metadata": {
    "scrolled": true
   },
   "outputs": [],
   "source": [
    "# The '#' character at the beginning of the line\n",
    "# tells Python to ignore what comes after,\n",
    "# since it is not code that should be run.\n",
    "# So, each line needs a '#' at the beginning\n",
    "# to make a comment span multiple lines."
   ]
  },
  {
   "cell_type": "markdown",
   "metadata": {},
   "source": [
    "Running this cell does nothing either."
   ]
  },
  {
   "cell_type": "markdown",
   "metadata": {},
   "source": [
    "### Docstrings"
   ]
  },
  {
   "cell_type": "markdown",
   "metadata": {},
   "source": [
    "Below is an example of a docstring, which can be used as a multi-line comment."
   ]
  },
  {
   "cell_type": "code",
   "execution_count": null,
   "metadata": {
    "scrolled": true
   },
   "outputs": [],
   "source": [
    "\"\"\"This is a multi-line comment.\n",
    "Notice how three sets of quotation marks set \n",
    "the beginning and end of the comment, without\n",
    "the need for a '#' on every single line.\n",
    "\n",
    "All of this will be ignored and not run as code.\n",
    "\n",
    "Notice, however, that this is outputted below the\n",
    "cell if you run it. That is just something \n",
    "specific to Jupyter notebooks (as I will explain later).\n",
    "Python is not running any of this as code.\n",
    "\n",
    "Because I don't want to litter the screen with \n",
    "unnecessary output, I will mostly use single-line \n",
    "comments in these lessons.\n",
    "\"\"\""
   ]
  },
  {
   "cell_type": "markdown",
   "metadata": {},
   "source": [
    "We will learn about these in more detail in the lesson about documentation. I will stick to using single-line comments for now."
   ]
  },
  {
   "cell_type": "markdown",
   "metadata": {},
   "source": [
    "## Printing text"
   ]
  },
  {
   "cell_type": "markdown",
   "metadata": {},
   "source": [
    "In these examples, we will print strings (a string is a series of characters) to the screen. Strings must be between quotation marks for Python to realize that they are to be interpreted as strings."
   ]
  },
  {
   "cell_type": "code",
   "execution_count": null,
   "metadata": {
    "scrolled": true
   },
   "outputs": [],
   "source": [
    "# Below is how to print a string to the screen\n",
    "print(\"Hello world!\")"
   ]
  },
  {
   "cell_type": "markdown",
   "metadata": {},
   "source": [
    "Did you notice how Python ignored the comment, but ran the code?\n",
    "\n",
    "_(Note: Jupyter Notebooks don't put printed results in an output block; instead, they print results in a monospace font directly below the input block, as seen just below the cell above.)_"
   ]
  },
  {
   "cell_type": "code",
   "execution_count": null,
   "metadata": {
    "scrolled": true
   },
   "outputs": [],
   "source": [
    "print('Hello world!')  # Single quotes also work"
   ]
  },
  {
   "cell_type": "markdown",
   "metadata": {},
   "source": [
    "It even ignores comments on the same line as code, as everything to the right of the `#` character is ignored. (Because of this, comments on the same line as code must come _after_ the code, not before it, or the code itself will be commented out too!)\n",
    "\n",
    "Notice that running without quotes below will cause an error (and you will see some weird-looking output associated with it). This is because Python doesn't understand what you want it to print without the quotes to signify that it is a **string** of text (remember the PB&J sandwich video I linked above: computers do exactly what you tell them to do, even if it causes an error)."
   ]
  },
  {
   "cell_type": "code",
   "execution_count": null,
   "metadata": {
    "scrolled": true
   },
   "outputs": [],
   "source": [
    "print(Hello world!)  # Without quotes causes an error!"
   ]
  },
  {
   "cell_type": "markdown",
   "metadata": {},
   "source": [
    "## Basic types"
   ]
  },
  {
   "cell_type": "markdown",
   "metadata": {},
   "source": [
    "Speaking of strings, strings are just one type of \"primitive\" (a basic building block of the programming language). There are only a few of these in Python:"
   ]
  },
  {
   "cell_type": "markdown",
   "metadata": {},
   "source": [
    "#### Strings"
   ]
  },
  {
   "cell_type": "markdown",
   "metadata": {},
   "source": [
    "Sequences of characters with values like `\"Hello\"`, `\"this is a string\"`, and `\"2357\"` (notice the quotes around each)."
   ]
  },
  {
   "cell_type": "markdown",
   "metadata": {},
   "source": [
    "#### Integers"
   ]
  },
  {
   "cell_type": "markdown",
   "metadata": {},
   "source": [
    "Integer numbers with values like `1` and `9842` (notice the lack of quotes around these)."
   ]
  },
  {
   "cell_type": "markdown",
   "metadata": {},
   "source": [
    "#### Floats"
   ]
  },
  {
   "cell_type": "markdown",
   "metadata": {},
   "source": [
    "Decimal numbers with values like `0.0119`, `664.2`, and `2.5e10` (a Python representation of $2.5 \\times 10^{10}$)."
   ]
  },
  {
   "cell_type": "markdown",
   "metadata": {},
   "source": [
    "#### Booleans"
   ]
  },
  {
   "cell_type": "markdown",
   "metadata": {},
   "source": [
    "Only two values: `True` or `False`."
   ]
  },
  {
   "cell_type": "markdown",
   "metadata": {},
   "source": [
    " #### None"
   ]
  },
  {
   "cell_type": "markdown",
   "metadata": {},
   "source": [
    "A single value of `None`, which actually signifies a _lack_ of a value."
   ]
  },
  {
   "cell_type": "markdown",
   "metadata": {},
   "source": [
    "## Simple math"
   ]
  },
  {
   "cell_type": "markdown",
   "metadata": {},
   "source": [
    "### Addition: $4 + 2$"
   ]
  },
  {
   "cell_type": "code",
   "execution_count": null,
   "metadata": {
    "scrolled": true
   },
   "outputs": [],
   "source": [
    "4+2"
   ]
  },
  {
   "cell_type": "code",
   "execution_count": null,
   "metadata": {
    "scrolled": true
   },
   "outputs": [],
   "source": [
    "4 + 2"
   ]
  },
  {
   "cell_type": "markdown",
   "metadata": {},
   "source": [
    "Notice that the amount of spacing we add is up to us. It is usually easier to read code that uses good spacing like this, so I will tend to space things out like this.\n",
    "\n",
    "Also, one convenience of Jupyter notebooks is that they output the value of the last variable or expression at the bottom of a cell, which is why we are seeing the result of the addition we are performing in these two cells without explicitly telling Python to print the result."
   ]
  },
  {
   "cell_type": "markdown",
   "metadata": {},
   "source": [
    "### Subtraction: $4 - 2$"
   ]
  },
  {
   "cell_type": "code",
   "execution_count": null,
   "metadata": {
    "scrolled": true
   },
   "outputs": [],
   "source": [
    "4 - 2"
   ]
  },
  {
   "cell_type": "markdown",
   "metadata": {},
   "source": [
    "### Division: $\\frac{4}{2}$"
   ]
  },
  {
   "cell_type": "code",
   "execution_count": null,
   "metadata": {
    "scrolled": true
   },
   "outputs": [],
   "source": [
    "4 / 2"
   ]
  },
  {
   "cell_type": "markdown",
   "metadata": {},
   "source": [
    "Note that the result of the division here is a float."
   ]
  },
  {
   "cell_type": "code",
   "execution_count": null,
   "metadata": {
    "scrolled": true
   },
   "outputs": [],
   "source": [
    "4 // 2"
   ]
  },
  {
   "cell_type": "markdown",
   "metadata": {},
   "source": [
    "Note that the result here is an integer. This is because the `//` operator divides and then chops off any decimal. Consider another example:"
   ]
  },
  {
   "cell_type": "code",
   "execution_count": null,
   "metadata": {
    "scrolled": true
   },
   "outputs": [],
   "source": [
    "5 // 2"
   ]
  },
  {
   "cell_type": "markdown",
   "metadata": {},
   "source": [
    "### Multiplication: $4 \\times 2$"
   ]
  },
  {
   "cell_type": "code",
   "execution_count": null,
   "metadata": {
    "scrolled": true
   },
   "outputs": [],
   "source": [
    "4 * 2"
   ]
  },
  {
   "cell_type": "markdown",
   "metadata": {},
   "source": [
    "### Exponents: $4^2$"
   ]
  },
  {
   "cell_type": "code",
   "execution_count": null,
   "metadata": {
    "scrolled": true
   },
   "outputs": [],
   "source": [
    "4 ** 2"
   ]
  },
  {
   "cell_type": "markdown",
   "metadata": {},
   "source": [
    "### Modulo (the remainder of division): $4 \\ \\rm{mod} \\ 2$"
   ]
  },
  {
   "cell_type": "code",
   "execution_count": null,
   "metadata": {
    "scrolled": true
   },
   "outputs": [],
   "source": [
    "4 % 2  # The remainder of 4 / 2 is 0"
   ]
  },
  {
   "cell_type": "code",
   "execution_count": null,
   "metadata": {
    "scrolled": true
   },
   "outputs": [],
   "source": [
    "5 % 2  # The remainder of 5 / 2 is 1\n",
    "# In other words, 5 / 2 is 2, with a remainder of 1.\n",
    "# so 5 % 2 is equal to 1."
   ]
  },
  {
   "cell_type": "markdown",
   "metadata": {},
   "source": [
    "## Variable assignments"
   ]
  },
  {
   "cell_type": "code",
   "execution_count": null,
   "metadata": {
    "scrolled": true
   },
   "outputs": [],
   "source": [
    "x = 3  # x is now a variable"
   ]
  },
  {
   "cell_type": "code",
   "execution_count": null,
   "metadata": {
    "scrolled": true
   },
   "outputs": [],
   "source": [
    "print(x)  # Print the variable x to the screen"
   ]
  },
  {
   "cell_type": "markdown",
   "metadata": {},
   "source": [
    "Note that Jupyter Notebook remembers the value of this variable since `x = 3` was run before `print(x)` was run. It doesn't matter that `x = 3` was in a different cell, as long as it was run before the cell printing the value.\n",
    "\n",
    "Variables can also be reassigned:"
   ]
  },
  {
   "cell_type": "code",
   "execution_count": null,
   "metadata": {
    "scrolled": true
   },
   "outputs": [],
   "source": [
    "x = None\n",
    "print(x)\n",
    "\n",
    "x = 4\n",
    "print(x)"
   ]
  },
  {
   "cell_type": "code",
   "execution_count": null,
   "metadata": {
    "scrolled": true
   },
   "outputs": [],
   "source": [
    "x ** 2  # What will this print?"
   ]
  },
  {
   "cell_type": "markdown",
   "metadata": {},
   "source": [
    "Has the value of x changed? What will the following print?"
   ]
  },
  {
   "cell_type": "code",
   "execution_count": null,
   "metadata": {
    "scrolled": true
   },
   "outputs": [],
   "source": [
    "print(x)"
   ]
  },
  {
   "cell_type": "markdown",
   "metadata": {},
   "source": [
    "### A note on variable names"
   ]
  },
  {
   "cell_type": "markdown",
   "metadata": {},
   "source": [
    "Variable names should be descriptive for what the variable stands for. In the above example, I am using a variable named x, but this isn't very descriptive unless it stands for an x coordinate or something."
   ]
  },
  {
   "cell_type": "markdown",
   "metadata": {},
   "source": [
    "#### Snake case"
   ]
  },
  {
   "cell_type": "markdown",
   "metadata": {},
   "source": [
    "Because your variable names should be descriptive, they will sometimes be more than one word long. In this case, the standard in Python is to use \"snake case,\" which, for a variable named \"my variable\" would look like `my_variable`. In other words, each word should be separated by an underscore."
   ]
  },
  {
   "cell_type": "markdown",
   "metadata": {},
   "source": [
    "#### Camel case"
   ]
  },
  {
   "cell_type": "markdown",
   "metadata": {},
   "source": [
    "I will tend to use a lot of \"camel case\" in this course (a personal preference, even though it is not the Python standard). Camel case looks like the following: `myVariable`. In other words, the first word is lowercase, and the first letter of each subsequent word is capitalized.\n",
    "\n",
    "You can choose whichever convention you like, but you should know that the standard in Python is to write in `snake_case`, while other languages like Java, Kotlin, C++, etc. use `camelCase` by convention."
   ]
  },
  {
   "cell_type": "markdown",
   "metadata": {},
   "source": [
    "## String operations"
   ]
  },
  {
   "cell_type": "code",
   "execution_count": null,
   "metadata": {
    "scrolled": true
   },
   "outputs": [],
   "source": [
    "name = \"John\"  # You can use single or double quotes"
   ]
  },
  {
   "cell_type": "code",
   "execution_count": null,
   "metadata": {
    "scrolled": true
   },
   "outputs": [],
   "source": [
    "name + \" \" + \"Doe\"  # Adding strings"
   ]
  },
  {
   "cell_type": "code",
   "execution_count": null,
   "metadata": {},
   "outputs": [],
   "source": [
    "name = name + '2000'"
   ]
  },
  {
   "cell_type": "markdown",
   "metadata": {},
   "source": [
    "What is the value of `name`?"
   ]
  },
  {
   "cell_type": "code",
   "execution_count": null,
   "metadata": {
    "scrolled": true
   },
   "outputs": [],
   "source": [
    "print(name)"
   ]
  },
  {
   "cell_type": "markdown",
   "metadata": {},
   "source": [
    "What happens when we multiply strings?"
   ]
  },
  {
   "cell_type": "code",
   "execution_count": null,
   "metadata": {
    "scrolled": true
   },
   "outputs": [],
   "source": [
    "print(name * 2)"
   ]
  },
  {
   "cell_type": "markdown",
   "metadata": {},
   "source": [
    "We can also print multiple things at a time:"
   ]
  },
  {
   "cell_type": "code",
   "execution_count": null,
   "metadata": {
    "scrolled": true
   },
   "outputs": [],
   "source": [
    "print(\"hello\", name, 5)"
   ]
  },
  {
   "cell_type": "markdown",
   "metadata": {},
   "source": [
    "## Tutorials"
   ]
  },
  {
   "cell_type": "markdown",
   "metadata": {},
   "source": [
    "You have just finished the intro lesson! After each lesson, there is a tutorial for you to do to test your knowledge. Look in the \"Tutorials\" folder and find the one named the same as this lesson file. (Remember that the Tutorials folder is one of the main three folders for the course, so to access it, you'll have to click the folder icon to the left of where it says \"/ Lessons /\" near the top left of the window.)\n",
    "\n",
    "_Don't look at the solutions for the tutorial until you've given it a shot! That is the best way to learn._"
   ]
  }
 ],
 "metadata": {
  "kernelspec": {
   "display_name": "Python 3",
   "language": "python",
   "name": "python3"
  },
  "language_info": {
   "codemirror_mode": {
    "name": "ipython",
    "version": 3
   },
   "file_extension": ".py",
   "mimetype": "text/x-python",
   "name": "python",
   "nbconvert_exporter": "python",
   "pygments_lexer": "ipython3",
   "version": "3.8.5"
  }
 },
 "nbformat": 4,
 "nbformat_minor": 1
}
