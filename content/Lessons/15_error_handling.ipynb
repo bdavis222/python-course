{
 "cells": [
  {
   "cell_type": "markdown",
   "metadata": {},
   "source": [
    "# Error Handling"
   ]
  },
  {
   "cell_type": "markdown",
   "metadata": {},
   "source": [
    "Let's imagine a scenario where we've written a program that has a function expecting a numerical string as input so it can do math on it. What if a letter is provided instead? What should we do?\n",
    "\n",
    "Here is what happens if we do nothing to handle such an error:"
   ]
  },
  {
   "cell_type": "code",
   "execution_count": null,
   "metadata": {},
   "outputs": [],
   "source": [
    "def divideByNumber(numberString):\n",
    "    return 10 / float(numberString)\n",
    "\n",
    "divideByNumber(\"g\")"
   ]
  },
  {
   "cell_type": "markdown",
   "metadata": {},
   "source": [
    "Notice how Python conveniently tells us not just where the error occurred, but also tries to give us a description of what the error is (the `ValueError`, signifying that it could not convert a string to a float).\n",
    "\n",
    "We can also create useful error messages like this for our own programs. In addition, we can tell Python to _try_ to run the code, and do something different if it can't:"
   ]
  },
  {
   "cell_type": "code",
   "execution_count": null,
   "metadata": {},
   "outputs": [],
   "source": [
    "def divideByNumber(numberString):\n",
    "    try:\n",
    "        return 10 / float(numberString)\n",
    "    except:\n",
    "        print(\"A numerical string must be provided.\")\n",
    "\n",
    "divideByNumber(\"g\")"
   ]
  },
  {
   "cell_type": "markdown",
   "metadata": {},
   "source": [
    "This is nice, but what if we still want the stack trace (the thing Python prints to tell us what lines the error happened on)? One option is to raise a generic exception:"
   ]
  },
  {
   "cell_type": "code",
   "execution_count": null,
   "metadata": {},
   "outputs": [],
   "source": [
    "def divideByNumber(numberString):\n",
    "    try:\n",
    "        return 10 / float(numberString)\n",
    "    except:\n",
    "        raise(Exception(\"A numerical string must be provided.\"))"
   ]
  },
  {
   "cell_type": "markdown",
   "metadata": {},
   "source": [
    "Now we will get the stack trace, and we will also get our custom messaging.\n",
    "\n",
    "However, in this example, there are actually _two different ways_ we can get an error:\n",
    "\n",
    "1. The function isn't provided a numerical string\n",
    "2. The function is provided a numberical string of zero, cause a divide-by-zero error\n",
    "\n",
    "So how do we send the messaging we want in either scenario?"
   ]
  },
  {
   "cell_type": "code",
   "execution_count": null,
   "metadata": {},
   "outputs": [],
   "source": [
    "def divideByNumber(numberString):\n",
    "    try:\n",
    "        return 10 / float(numberString)\n",
    "    except ValueError:\n",
    "        raise(Exception(\"A numerical string must be provided to divideByNumber.\"))\n",
    "    except ZeroDivisionError:\n",
    "        raise(Exception(\"A numerical string of zero cannot be provided to divideByNumber.\"))"
   ]
  },
  {
   "cell_type": "markdown",
   "metadata": {},
   "source": [
    "Here we have specified which kinds of errors should trigger which messages."
   ]
  },
  {
   "cell_type": "code",
   "execution_count": null,
   "metadata": {},
   "outputs": [],
   "source": [
    "divideByNumber(\"g\")"
   ]
  },
  {
   "cell_type": "code",
   "execution_count": null,
   "metadata": {},
   "outputs": [],
   "source": [
    "divideByNumber(\"0\")"
   ]
  },
  {
   "cell_type": "markdown",
   "metadata": {},
   "source": [
    "Notice that in both cases we get the correct error messaging on the bottom line `Exception`.\n",
    "\n",
    "More about error handling can be read [here](https://docs.python.org/3/tutorial/errors.html)."
   ]
  }
 ],
 "metadata": {
  "kernelspec": {
   "display_name": "Python 3",
   "language": "python",
   "name": "python3"
  },
  "language_info": {
   "codemirror_mode": {
    "name": "ipython",
    "version": 3
   },
   "file_extension": ".py",
   "mimetype": "text/x-python",
   "name": "python",
   "nbconvert_exporter": "python",
   "pygments_lexer": "ipython3",
   "version": "3.8.5"
  }
 },
 "nbformat": 4,
 "nbformat_minor": 5
}
