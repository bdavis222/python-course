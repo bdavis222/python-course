{
 "cells": [
  {
   "cell_type": "markdown",
   "id": "f3acf8d8",
   "metadata": {},
   "source": [
    "# Tutorial: Inheritance (Solution)"
   ]
  },
  {
   "cell_type": "markdown",
   "id": "d0fbb041",
   "metadata": {},
   "source": [
    "Consider the following class:"
   ]
  },
  {
   "cell_type": "code",
   "execution_count": 31,
   "id": "c3d1aa10",
   "metadata": {},
   "outputs": [],
   "source": [
    "class Vehicle:\n",
    "    def __init__(self, speed, travelDirections={0, 1}):\n",
    "        self.speed = speed\n",
    "        self.position = [0, 0, 0]  # x, y, and z coordinates\n",
    "        self.travelDirections = travelDirections  # Coordinate indices: x=0, y=1, z=2\n",
    "    \n",
    "    def move(self, direction, duration):\n",
    "        for index, coordinate in enumerate(direction):\n",
    "            if index in self.travelDirections:\n",
    "                self.position[index] += coordinate * self.speed * duration"
   ]
  },
  {
   "cell_type": "markdown",
   "id": "72e9c27c",
   "metadata": {},
   "source": [
    "Each vehicle will have a `speed` attribute that must be set on initialization, as well as a `travelDirections` attribute that defaults to only traveling along the ground (i.e., only the `0` and `1` indices corresponding to `x` and `y` coordinate directions are in the `travelDirections` set).\n",
    "\n",
    "Create an `Airplane` subclass that has a speed of `500` and can travel in all directions."
   ]
  },
  {
   "cell_type": "code",
   "execution_count": 32,
   "id": "da88bf1d",
   "metadata": {},
   "outputs": [],
   "source": [
    "class Airplane(Vehicle):\n",
    "    def __init__(self):\n",
    "        super().__init__(500, travelDirections={0, 1, 2})"
   ]
  },
  {
   "cell_type": "markdown",
   "id": "b1997d1c",
   "metadata": {},
   "source": [
    "Create a `Car` subclass that has a speed of `80` and can only move along the ground."
   ]
  },
  {
   "cell_type": "code",
   "execution_count": 33,
   "id": "cf83cc33",
   "metadata": {},
   "outputs": [],
   "source": [
    "class Car(Vehicle):\n",
    "    def __init__(self):\n",
    "        super().__init__(80)"
   ]
  },
  {
   "cell_type": "markdown",
   "id": "6577ecd9",
   "metadata": {},
   "source": [
    "Create a `Train` subclass that has a speed of `20` and can only move along the `y` direction."
   ]
  },
  {
   "cell_type": "code",
   "execution_count": 34,
   "id": "c8e8bb9b",
   "metadata": {},
   "outputs": [],
   "source": [
    "class Train(Vehicle):\n",
    "    def __init__(self):\n",
    "        super().__init__(20, travelDirections={1})"
   ]
  },
  {
   "cell_type": "markdown",
   "id": "b13d89ca",
   "metadata": {},
   "source": [
    "If your subclasses are written correctly, the following cell will run without any errors:"
   ]
  },
  {
   "cell_type": "code",
   "execution_count": 36,
   "id": "e47a3cb2",
   "metadata": {},
   "outputs": [],
   "source": [
    "airplane = Airplane()\n",
    "assert airplane.position == [0, 0, 0]\n",
    "airplane.move((1, 0, 1), 2)\n",
    "assert airplane.position == [1000, 0, 1000]\n",
    "airplane.move((0.5, 3, -2), 3)\n",
    "assert airplane.position == [1750, 4500, -2000]\n",
    "car = Car()\n",
    "assert car.position == [0, 0, 0]\n",
    "car.move((1, 0, 1), 2)\n",
    "assert car.position == [160, 0, 0]\n",
    "car.move((0.5, 3, -2), 3)\n",
    "assert car.position == [280, 720, 0]\n",
    "train = Train()\n",
    "assert train.position == [0, 0, 0]\n",
    "train.move((1, 1, 1), 2)\n",
    "assert train.position == [0, 40, 0]\n",
    "train.move((0.5, -3, -2), 3)\n",
    "assert train.position == [0, -140, 0]"
   ]
  }
 ],
 "metadata": {
  "kernelspec": {
   "display_name": "Python 3 (ipykernel)",
   "language": "python",
   "name": "python3"
  },
  "language_info": {
   "codemirror_mode": {
    "name": "ipython",
    "version": 3
   },
   "file_extension": ".py",
   "mimetype": "text/x-python",
   "name": "python",
   "nbconvert_exporter": "python",
   "pygments_lexer": "ipython3",
   "version": "3.10.5"
  }
 },
 "nbformat": 4,
 "nbformat_minor": 5
}
