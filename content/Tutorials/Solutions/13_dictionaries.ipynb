{
 "cells": [
  {
   "cell_type": "markdown",
   "metadata": {},
   "source": [
    "# Tutorial: Dictionaries (Solution)"
   ]
  },
  {
   "cell_type": "markdown",
   "metadata": {},
   "source": [
    "Create an empty dictionary called `myDict`"
   ]
  },
  {
   "cell_type": "code",
   "execution_count": 1,
   "metadata": {},
   "outputs": [],
   "source": [
    "myDict = {}"
   ]
  },
  {
   "cell_type": "markdown",
   "metadata": {},
   "source": [
    "Add a key-value pair to the dictionary mapping the string \"age\" to an integer of your age."
   ]
  },
  {
   "cell_type": "code",
   "execution_count": 2,
   "metadata": {},
   "outputs": [],
   "source": [
    "myDict[\"age\"] = 30"
   ]
  },
  {
   "cell_type": "markdown",
   "metadata": {},
   "source": [
    "Look up your age from this dictionary."
   ]
  },
  {
   "cell_type": "code",
   "execution_count": 3,
   "metadata": {},
   "outputs": [
    {
     "data": {
      "text/plain": [
       "30"
      ]
     },
     "execution_count": 3,
     "metadata": {},
     "output_type": "execute_result"
    }
   ],
   "source": [
    "myDict[\"age\"]"
   ]
  },
  {
   "cell_type": "markdown",
   "metadata": {},
   "source": [
    "Consider the following list:"
   ]
  },
  {
   "cell_type": "code",
   "execution_count": 4,
   "metadata": {},
   "outputs": [],
   "source": [
    "names = [\"Joe\", \"Dave\", \"Richard\", \"Sally\", \"Bill\", \"Dave\", \"Dave\", \"Sally\", \"John\", \"Sue\"]"
   ]
  },
  {
   "cell_type": "markdown",
   "metadata": {},
   "source": [
    "Loop over this `names` list to build a dictionary called `nameFrequencies` that maps each name to the number of times that name is found in the list, and then print out the value of `nameFrequencies`."
   ]
  },
  {
   "cell_type": "code",
   "execution_count": 5,
   "metadata": {},
   "outputs": [
    {
     "name": "stdout",
     "output_type": "stream",
     "text": [
      "{'Joe': 1, 'Dave': 3, 'Richard': 1, 'Sally': 2, 'Bill': 1, 'John': 1, 'Sue': 1}\n"
     ]
    }
   ],
   "source": [
    "nameFrequencies = {}\n",
    "for name in names:\n",
    "    if name not in nameFrequencies:\n",
    "        nameFrequencies[name] = 0\n",
    "    nameFrequencies[name] += 1\n",
    "\n",
    "print(nameFrequencies)"
   ]
  },
  {
   "cell_type": "markdown",
   "metadata": {},
   "source": [
    "Complete the following code to find the most common name in `nameFrequencies`:"
   ]
  },
  {
   "cell_type": "code",
   "execution_count": 6,
   "metadata": {},
   "outputs": [
    {
     "name": "stdout",
     "output_type": "stream",
     "text": [
      "Dave\n"
     ]
    }
   ],
   "source": [
    "def getMostFrequentName(nameFrequencies):\n",
    "    mostFrequentName = \"\"\n",
    "    highestFrequency = -1\n",
    "    for name, frequency in nameFrequencies.items():\n",
    "        if frequency > highestFrequency:\n",
    "            highestFrequency = frequency\n",
    "            mostFrequentName = name\n",
    "    return mostFrequentName\n",
    "\n",
    "print(getMostFrequentName(nameFrequencies))"
   ]
  }
 ],
 "metadata": {
  "kernelspec": {
   "display_name": "Python 3 (ipykernel)",
   "language": "python",
   "name": "python3"
  },
  "language_info": {
   "codemirror_mode": {
    "name": "ipython",
    "version": 3
   },
   "file_extension": ".py",
   "mimetype": "text/x-python",
   "name": "python",
   "nbconvert_exporter": "python",
   "pygments_lexer": "ipython3",
   "version": "3.10.5"
  }
 },
 "nbformat": 4,
 "nbformat_minor": 2
}
