{
 "cells": [
  {
   "cell_type": "markdown",
   "metadata": {},
   "source": [
    "# Tutorial: Documentation (Solution)"
   ]
  },
  {
   "cell_type": "markdown",
   "metadata": {},
   "source": [
    "Add a docstring to the following function that gives a description as well as a list of arguments and what the function returns:"
   ]
  },
  {
   "cell_type": "code",
   "execution_count": 1,
   "metadata": {},
   "outputs": [],
   "source": [
    "def addTwoNumbers(numberOne, numberTwo):\n",
    "    \"\"\"Gets the sum of two numbers.\n",
    "\n",
    "    Args:\n",
    "        numberOne: The first number to sum (int, float).\n",
    "        numberTwo: The second number to sum (int, float).\n",
    "    \n",
    "    Returns:\n",
    "        The sum of the two numbers (int, float)\n",
    "    \"\"\"\n",
    "    return numberOne + numberTwo"
   ]
  },
  {
   "cell_type": "markdown",
   "metadata": {},
   "source": [
    "Copy your newly documented function into the cell below and add type annotations."
   ]
  },
  {
   "cell_type": "code",
   "execution_count": 2,
   "metadata": {},
   "outputs": [],
   "source": [
    "def addTwoNumbers(numberOne: int | float, numberTwo: int | float) -> int | float:\n",
    "    \"\"\"Gets the sum of two numbers.\n",
    "\n",
    "    Args:\n",
    "        numberOne: The first number to sum (int, float).\n",
    "        numberTwo: The second number to sum (int, float).\n",
    "    \n",
    "    Returns:\n",
    "        The sum of the two numbers (int, float)\n",
    "    \"\"\"\n",
    "    return numberOne + numberTwo"
   ]
  }
 ],
 "metadata": {
  "kernelspec": {
   "display_name": "Python 3 (ipykernel)",
   "language": "python",
   "name": "python3"
  },
  "language_info": {
   "codemirror_mode": {
    "name": "ipython",
    "version": 3
   },
   "file_extension": ".py",
   "mimetype": "text/x-python",
   "name": "python",
   "nbconvert_exporter": "python",
   "pygments_lexer": "ipython3",
   "version": "3.10.5"
  }
 },
 "nbformat": 4,
 "nbformat_minor": 2
}
