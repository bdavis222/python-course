{
 "cells": [
  {
   "cell_type": "markdown",
   "metadata": {},
   "source": [
    "# Tutorial: For-loops (Solution)"
   ]
  },
  {
   "cell_type": "markdown",
   "metadata": {},
   "source": [
    "Create a loop that will iterate over all of the integers between 1 and 10, only printing out the integers that are divisible by 3. (Hint: see the modulo function in lecture 01.)"
   ]
  },
  {
   "cell_type": "code",
   "execution_count": 1,
   "metadata": {},
   "outputs": [
    {
     "name": "stdout",
     "output_type": "stream",
     "text": [
      "3\n",
      "6\n",
      "9\n"
     ]
    }
   ],
   "source": [
    "for i in range(1, 11):\n",
    "    if i % 3 == 0:\n",
    "        print(i)"
   ]
  },
  {
   "cell_type": "markdown",
   "metadata": {},
   "source": [
    "Run the following cell to create a new list:"
   ]
  },
  {
   "cell_type": "code",
   "execution_count": 2,
   "metadata": {},
   "outputs": [],
   "source": [
    "a_list = [57.9, 108.2, 149.6, 227.9, 778.6, 1433.5, 2872.5, 4495.1]"
   ]
  },
  {
   "cell_type": "markdown",
   "metadata": {},
   "source": [
    "Those are the semi-major axes of the planets in millions of km. Write a for-loop that will create a new list of these distances in units of AU. For reference, 1 AU = 1.496e8 km. Print out this new list."
   ]
  },
  {
   "cell_type": "code",
   "execution_count": 3,
   "metadata": {},
   "outputs": [
    {
     "name": "stdout",
     "output_type": "stream",
     "text": [
      "[0.3870320855614973, 0.7232620320855615, 1.0, 1.5233957219251337, 5.204545454545454, 9.582219251336898, 19.20120320855615, 30.047459893048128]\n"
     ]
    }
   ],
   "source": [
    "a_au = []\n",
    "for a in a_list:\n",
    "    a_au.append(a * 1e6 / 1.496e8)\n",
    "print(a_au)"
   ]
  },
  {
   "cell_type": "markdown",
   "metadata": {},
   "source": [
    "Create a new list of the periods of these planets. Print this new list as well. For reference, Kepler's law states that $P^2 = a^3$, where $P$ is the period in years, and $a$ is the semi-major axis in AU."
   ]
  },
  {
   "cell_type": "code",
   "execution_count": 4,
   "metadata": {},
   "outputs": [
    {
     "name": "stdout",
     "output_type": "stream",
     "text": [
      "[0.2407800250490949, 0.6150968470521183, 1.0, 1.880265153639832, 11.873375664935864, 29.661912923019912, 84.13809325030076, 164.70684423502536]\n"
     ]
    }
   ],
   "source": [
    "p_list = []\n",
    "for a in a_au:\n",
    "    p_list.append(a ** (3 / 2))\n",
    "print(p_list)"
   ]
  },
  {
   "cell_type": "markdown",
   "metadata": {},
   "source": [
    "Venus is the 2nd planet from the Sun. Use indexing to calculate Venus' period in days. Now, write in a formatted print statement for the period of Venus in days. Give the value to two decimal places of precision. (Remember: one year is 365.25 days.)"
   ]
  },
  {
   "cell_type": "code",
   "execution_count": 5,
   "metadata": {},
   "outputs": [
    {
     "name": "stdout",
     "output_type": "stream",
     "text": [
      "The period of Venus is 224.66 days.\n"
     ]
    }
   ],
   "source": [
    "p_venus_days = p_list[1] * 365.25\n",
    "print(f\"The period of Venus is {p_venus_days:.2f} days.\")"
   ]
  },
  {
   "cell_type": "markdown",
   "metadata": {},
   "source": [
    "Print a table of the periods of each planet in years (formatted to two decimal places), numbered from `1` to `8`. Use the `enumerate` function to help with this. Your table should have two columns: one for the number of the planet (1-8), and one for its period in years."
   ]
  },
  {
   "cell_type": "code",
   "execution_count": 6,
   "metadata": {},
   "outputs": [
    {
     "name": "stdout",
     "output_type": "stream",
     "text": [
      "1 87.94\n",
      "2 224.66\n",
      "3 365.25\n",
      "4 686.77\n",
      "5 4336.75\n",
      "6 10834.01\n",
      "7 30731.44\n",
      "8 60159.17\n"
     ]
    }
   ],
   "source": [
    "for index, period in enumerate(p_list):\n",
    "    print(f\"{index + 1} {period * 365.25:.2f}\")"
   ]
  }
 ],
 "metadata": {
  "kernelspec": {
   "display_name": "Python 3 (ipykernel)",
   "language": "python",
   "name": "python3"
  },
  "language_info": {
   "codemirror_mode": {
    "name": "ipython",
    "version": 3
   },
   "file_extension": ".py",
   "mimetype": "text/x-python",
   "name": "python",
   "nbconvert_exporter": "python",
   "pygments_lexer": "ipython3",
   "version": "3.10.5"
  }
 },
 "nbformat": 4,
 "nbformat_minor": 2
}
