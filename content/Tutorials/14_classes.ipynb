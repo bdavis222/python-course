{
 "cells": [
  {
   "cell_type": "markdown",
   "id": "de21994c",
   "metadata": {},
   "source": [
    "# Tutorial: Classes"
   ]
  },
  {
   "cell_type": "markdown",
   "id": "008fad07",
   "metadata": {},
   "source": [
    "Create a `Character` class that contains the following attributes and methods for a character in a video game:\n",
    "\n",
    "Attributes:\n",
    "* `health: int`, starting value = `100`\n",
    "* `maxHealth: int`, starting value = `100`\n",
    "* `stamina: int`, starting value = `100`\n",
    "* `hasKey: boolean`, starting value = `False`\n",
    "* `isAlive: boolean`, starting value = `True`\n",
    "\n",
    "Methods:\n",
    "* `heal(amount: int)`\n",
    "* `takeDamage(amount: int)`\n",
    "\n",
    "Your character should be able to be instantiated as follows:\n",
    "\n",
    "`character = Character()`\n",
    "\n",
    "The `heal` method should increase the characters health by the amount given, but shouldn't go beyond the value of `maxHealth`. The `takeDamage` method is similar, but shouldn't dip below zero, and should change the value of `isAlive` when reaching zero."
   ]
  },
  {
   "cell_type": "code",
   "execution_count": null,
   "id": "15cf0e53",
   "metadata": {},
   "outputs": [],
   "source": []
  },
  {
   "cell_type": "markdown",
   "id": "fb8ac429",
   "metadata": {},
   "source": [
    "If your class is written correctly, the following cell will run without any errors:"
   ]
  },
  {
   "cell_type": "code",
   "execution_count": null,
   "id": "a039cd43",
   "metadata": {},
   "outputs": [],
   "source": [
    "character = Character()\n",
    "assert character.health == 100\n",
    "assert character.maxHealth == 100\n",
    "assert character.stamina == 100\n",
    "assert character.hasKey == False\n",
    "assert character.isAlive == True\n",
    "character.takeDamage(30)\n",
    "assert character.health == 70\n",
    "assert character.maxHealth == 100\n",
    "character.heal(10)\n",
    "assert character.health == 80\n",
    "assert character.maxHealth == 100\n",
    "character.heal(50)\n",
    "assert character.health == 100\n",
    "assert character.maxHealth == 100\n",
    "character.takeDamage(110)\n",
    "assert character.health == 0\n",
    "assert character.maxHealth == 100\n",
    "assert character.isAlive == False"
   ]
  }
 ],
 "metadata": {
  "kernelspec": {
   "display_name": "Python 3 (ipykernel)",
   "language": "python",
   "name": "python3"
  },
  "language_info": {
   "codemirror_mode": {
    "name": "ipython",
    "version": 3
   },
   "file_extension": ".py",
   "mimetype": "text/x-python",
   "name": "python",
   "nbconvert_exporter": "python",
   "pygments_lexer": "ipython3",
   "version": "3.10.5"
  }
 },
 "nbformat": 4,
 "nbformat_minor": 5
}
