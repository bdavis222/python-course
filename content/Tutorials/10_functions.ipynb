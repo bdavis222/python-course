{
 "cells": [
  {
   "cell_type": "markdown",
   "metadata": {},
   "source": [
    "# Tutorial: Functions"
   ]
  },
  {
   "cell_type": "markdown",
   "metadata": {},
   "source": [
    "Create a function that checks what data type it is fed. If it is fed a float or an integer, multiply this value by 2 and return it. If it is fed a list, create a formatted print statement to tell the user the first value in the list (as a string) and the length of the list. If it is anything else, return a print statement that notifies the user that an error has occurred, and that the input must be a number or a list."
   ]
  },
  {
   "cell_type": "code",
   "execution_count": null,
   "metadata": {},
   "outputs": [],
   "source": []
  },
  {
   "cell_type": "markdown",
   "metadata": {},
   "source": [
    "Pass a list into your function."
   ]
  },
  {
   "cell_type": "code",
   "execution_count": null,
   "metadata": {},
   "outputs": [],
   "source": []
  },
  {
   "cell_type": "markdown",
   "metadata": {},
   "source": [
    "Pass a number into your function."
   ]
  },
  {
   "cell_type": "code",
   "execution_count": null,
   "metadata": {},
   "outputs": [],
   "source": []
  },
  {
   "cell_type": "markdown",
   "metadata": {},
   "source": [
    "Pass a tuple into your function."
   ]
  },
  {
   "cell_type": "code",
   "execution_count": null,
   "metadata": {},
   "outputs": [],
   "source": []
  },
  {
   "cell_type": "markdown",
   "metadata": {},
   "source": [
    "Create a function that will perform the following calculation on a given input value: $y = 5 \\sin\\left(\\frac{x-6\\pi}{12}\\right)$. (The input value here is $x$, and $\\pi = 3.14159...$ is a constant.)"
   ]
  },
  {
   "cell_type": "code",
   "execution_count": null,
   "metadata": {},
   "outputs": [],
   "source": []
  },
  {
   "cell_type": "markdown",
   "metadata": {},
   "source": [
    "Complete the loop below to create a list named `x_list` that contains values ranging from 0 to 100, incremented by 0.25 (i.e.; 0, 0.25, 0.5, ... 99.5, 99.75, 100). Print out the list after creating it."
   ]
  },
  {
   "cell_type": "code",
   "execution_count": null,
   "metadata": {},
   "outputs": [],
   "source": [
    "'''BLANK'''\n",
    "count = 0\n",
    "while count '''BLANK''' 100:\n",
    "    '''BLANK'''\n",
    "    count '''BLANK'''\n",
    "    \n",
    "print(x_list)"
   ]
  },
  {
   "cell_type": "markdown",
   "metadata": {},
   "source": [
    "Now create `y_list`, which contains the value $y$ as defined in your function, given the $x$ values from `x_list`. Then, print the first value of `y_list`."
   ]
  },
  {
   "cell_type": "code",
   "execution_count": null,
   "metadata": {},
   "outputs": [],
   "source": []
  },
  {
   "cell_type": "markdown",
   "metadata": {},
   "source": [
    "Run the cell below to plot `x_list` against `y_list`. Don't worry about understanding what that code is doing just yet. We will get to plotting later."
   ]
  },
  {
   "cell_type": "code",
   "execution_count": null,
   "metadata": {},
   "outputs": [],
   "source": [
    "%pylab inline\n",
    "import matplotlib.pyplot as pl\n",
    "\n",
    "pl.plot(x_list, y_list)\n",
    "pl.xlabel(\"x\")\n",
    "pl.ylabel(\"y\")\n",
    "pl.show()"
   ]
  },
  {
   "cell_type": "markdown",
   "metadata": {},
   "source": [
    "Create a new function called `y_from_list` that takes in an entire list of $x$ values as input, and then calculates all of the corresponding $y$ values and returns a list of those $y$ values."
   ]
  },
  {
   "cell_type": "code",
   "execution_count": null,
   "metadata": {},
   "outputs": [],
   "source": [
    "def y_from_list(input_list):\n",
    "    output_list = []\n",
    "    for '''BLANK''':\n",
    "        '''BLANK'''\n",
    "    return output_list"
   ]
  },
  {
   "cell_type": "markdown",
   "metadata": {},
   "source": [
    "If the function you just wrote is working properly, the following cell should run properly:"
   ]
  },
  {
   "cell_type": "code",
   "execution_count": null,
   "metadata": {},
   "outputs": [],
   "source": [
    "y_list2 = y_from_list(x_list)\n",
    "\n",
    "pl.plot(x_list, y_list, ls=\":\", linewidth=3, label=\"y_list\")\n",
    "pl.plot(x_list, y_list2, linewidth=1, label=\"y_list2\")\n",
    "pl.xlabel(\"x\")\n",
    "pl.ylabel(\"y\")\n",
    "pl.legend()\n",
    "pl.show()"
   ]
  }
 ],
 "metadata": {
  "kernelspec": {
   "display_name": "Python 3 (ipykernel)",
   "language": "python",
   "name": "python3"
  },
  "language_info": {
   "codemirror_mode": {
    "name": "ipython",
    "version": 3
   },
   "file_extension": ".py",
   "mimetype": "text/x-python",
   "name": "python",
   "nbconvert_exporter": "python",
   "pygments_lexer": "ipython3",
   "version": "3.10.5"
  }
 },
 "nbformat": 4,
 "nbformat_minor": 2
}
