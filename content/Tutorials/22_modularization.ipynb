{
 "cells": [
  {
   "cell_type": "markdown",
   "metadata": {},
   "source": [
    "# Tutorial: Modularization"
   ]
  },
  {
   "cell_type": "markdown",
   "metadata": {},
   "source": [
    "Let's say we want to write a function that takes in a list of integers that also contains a string at a random index. For example, consider the following two possible inputs:\n",
    "\n",
    "```\n",
    "inputList = [1, 6, 3, 9, 25, 94, 2, -36, \"three\", 7, 33, -7, 27]\n",
    "inputList = [61, \"two\", 6, 93, -9, 21, 94, 266, -36, 7, 39, -7, 20]\n",
    "```\n",
    "\n",
    "We want our function to return a sum of some subset of the list depending on the value of this string. If the string is `\"two\"`, then we want to return the sum of all indices divisible by two _with the string removed_. If the string is `\"three\"`, then we want the same, but with the indices divisble by three, and so on. The possible values for the string are `\"two\"`, `\"three\"`, `\"four\"`, and `\"five\"`. There will always be a string, and each list will contain at least 10 numbers.\n",
    "\n",
    "Write a function called `getDivisibleSum` that will accomplish this, and focus on modularizing as best you can.\n",
    "\n",
    "_Hint: some things that might help you are the pop method (from the lists lesson) and the enumerate function (from the for-loops lesson)._"
   ]
  },
  {
   "cell_type": "code",
   "execution_count": null,
   "metadata": {},
   "outputs": [],
   "source": []
  },
  {
   "cell_type": "markdown",
   "metadata": {},
   "source": [
    "If your function is written correctly, the following cell will run without any errors:"
   ]
  },
  {
   "cell_type": "code",
   "execution_count": 8,
   "metadata": {},
   "outputs": [],
   "source": [
    "assert getDivisibleSum([1, 2, 3, 4, 5, \"two\", 6, 7, 8, 9, 10]) == 25\n",
    "assert getDivisibleSum([\"three\", 1, 2, 3, 4, 5, 6, 7, 8, 9, 10]) == 22\n",
    "assert getDivisibleSum([1, 2, 3, 4, 5, 6, 7, 8, 9, 10, \"five\"]) == 7"
   ]
  },
  {
   "cell_type": "code",
   "execution_count": null,
   "metadata": {},
   "outputs": [],
   "source": []
  }
 ],
 "metadata": {
  "kernelspec": {
   "display_name": "Python 3 (ipykernel)",
   "language": "python",
   "name": "python3"
  },
  "language_info": {
   "codemirror_mode": {
    "name": "ipython",
    "version": 3
   },
   "file_extension": ".py",
   "mimetype": "text/x-python",
   "name": "python",
   "nbconvert_exporter": "python",
   "pygments_lexer": "ipython3",
   "version": "3.10.5"
  }
 },
 "nbformat": 4,
 "nbformat_minor": 2
}
