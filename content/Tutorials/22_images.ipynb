{
 "cells": [
  {
   "cell_type": "markdown",
   "metadata": {},
   "source": [
    "# Tutorial: Images"
   ]
  },
  {
   "cell_type": "markdown",
   "metadata": {},
   "source": [
    "Open the image located at `\"../../Lessons/data/HelixNebula.jpg\"`, convert the image to a `numpy` array and store that as a variable called `imageArray`."
   ]
  },
  {
   "cell_type": "code",
   "execution_count": null,
   "metadata": {},
   "outputs": [],
   "source": []
  },
  {
   "cell_type": "markdown",
   "metadata": {},
   "source": [
    "Plot `imageArray`."
   ]
  },
  {
   "cell_type": "code",
   "execution_count": null,
   "metadata": {},
   "outputs": [],
   "source": []
  },
  {
   "cell_type": "markdown",
   "metadata": {},
   "source": [
    "Crop the image to just the center 250x250 pixels of the image array and save it to a new variable called `croppedImageArray`. Plot `croppedImageArray`."
   ]
  },
  {
   "cell_type": "code",
   "execution_count": null,
   "metadata": {},
   "outputs": [],
   "source": []
  },
  {
   "cell_type": "markdown",
   "metadata": {},
   "source": [
    "There is a very bright blue star at the right-hand side of the cropped image. Let's see if we can find the horizontal ($x$) coordinate for the center of that star using the following process:\n",
    "\n",
    "1. Plot the cropped image again, but only the blue channel of the image this time, and only the $y$ pixels from 300 to 400 (since we can clearly see it's between that range). Save this to a new variable called `blueCroppedImageArray` and plot it. You will see that the star is visually the brightest object in `blueCroppedImageArray`.\n"
   ]
  },
  {
   "cell_type": "code",
   "execution_count": null,
   "metadata": {},
   "outputs": [],
   "source": []
  },
  {
   "cell_type": "markdown",
   "metadata": {},
   "source": [
    "2. Add all of the rows in `blueCroppedImageArray` together, resulting in a 1D array called `columnBrightnesses` with length 500 (the width of the cropped image) that has elements representing the total brightness of each column in the cropped image."
   ]
  },
  {
   "cell_type": "code",
   "execution_count": null,
   "metadata": {},
   "outputs": [],
   "source": []
  },
  {
   "cell_type": "markdown",
   "metadata": {},
   "source": [
    "3. Display a line plot of `columnBrightnesses` and see that it peaks at the star's $x$ coordinate in the cropped image."
   ]
  },
  {
   "cell_type": "code",
   "execution_count": null,
   "metadata": {},
   "outputs": [],
   "source": []
  },
  {
   "cell_type": "markdown",
   "metadata": {},
   "source": [
    "4. Use a for loop over `columnBrightnesses` to identify the pixel corresponding to that peak. What is the location of this peak? Print it."
   ]
  },
  {
   "cell_type": "code",
   "execution_count": null,
   "metadata": {},
   "outputs": [],
   "source": []
  },
  {
   "cell_type": "markdown",
   "metadata": {},
   "source": [
    "Is that value correct? Plot `croppedImageArray` again with a white vertical line plotted over it at that pixel (the line should span from 0 to 500 pixels to fully cross the image). We can use `matplotlib`'s `imshow` and `plot` together on successive lines to do this."
   ]
  },
  {
   "cell_type": "code",
   "execution_count": null,
   "metadata": {},
   "outputs": [],
   "source": []
  },
  {
   "cell_type": "markdown",
   "metadata": {},
   "source": [
    "Use the same basic procedure to find the $y$ value for the center of the star, and plot the image with two white lines (one vertical and one horizontal) that cross at the center of the star. (Remember that `numpy` arrays can be transposed to easily rotate them. This may or may not make the process easier for you, depending on how you solve this.)"
   ]
  },
  {
   "cell_type": "code",
   "execution_count": null,
   "metadata": {},
   "outputs": [],
   "source": []
  },
  {
   "cell_type": "markdown",
   "metadata": {},
   "source": [
    "Now get the central coordinates ($x$, $y$) of the star in `imageArray` (the original one you plotted without any cropping). Plot this full image with the white lines crossing over the center of the star."
   ]
  },
  {
   "cell_type": "code",
   "execution_count": null,
   "metadata": {},
   "outputs": [],
   "source": []
  },
  {
   "cell_type": "markdown",
   "metadata": {},
   "source": [
    "Print a formatted string statement of `\"The star is located at (x, y) = (X_POSITION, Y_POSITION).\"`, where `X_POSITION` and `Y_POSITION` are the values you found for the star's coordinates."
   ]
  },
  {
   "cell_type": "code",
   "execution_count": null,
   "metadata": {},
   "outputs": [],
   "source": []
  }
 ],
 "metadata": {
  "kernelspec": {
   "display_name": "Python 3 (ipykernel)",
   "language": "python",
   "name": "python3"
  },
  "language_info": {
   "codemirror_mode": {
    "name": "ipython",
    "version": 3
   },
   "file_extension": ".py",
   "mimetype": "text/x-python",
   "name": "python",
   "nbconvert_exporter": "python",
   "pygments_lexer": "ipython3",
   "version": "3.10.5"
  }
 },
 "nbformat": 4,
 "nbformat_minor": 2
}
