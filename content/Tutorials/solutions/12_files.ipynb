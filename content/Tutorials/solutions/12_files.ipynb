{
 "cells": [
  {
   "cell_type": "markdown",
   "metadata": {},
   "source": [
    "# Tutorial: Files (Solution)"
   ]
  },
  {
   "cell_type": "markdown",
   "metadata": {},
   "source": [
    "Use the `with open` technique to open a file and print each of the lines in that file. The path to the file is `\"../../Lessons/data/data_2col.txt\"`."
   ]
  },
  {
   "cell_type": "code",
   "execution_count": 1,
   "metadata": {},
   "outputs": [
    {
     "name": "stdout",
     "output_type": "stream",
     "text": [
      "# x           y\n",
      "\n",
      "0          0.5284    \n",
      "\n",
      "0.1        0.4856    \n",
      "\n",
      "0.2        0.5076    \n",
      "\n",
      "0.3        0.5574    \n",
      "\n",
      "0.4        0.4381    \n",
      "\n",
      "0.5        0.3629    \n",
      "\n",
      "0.6        0.9157    \n",
      "\n",
      "0.7        0.3669    \n",
      "\n",
      "0.8        0.9357    \n",
      "\n",
      "0.9        0.05708   \n",
      "\n",
      "1          0.8412    \n",
      "\n"
     ]
    }
   ],
   "source": [
    "with open(\"../../Lessons/data/data_2col.txt\", \"r\") as file:\n",
    "    for line in file:\n",
    "        print(line)"
   ]
  },
  {
   "cell_type": "markdown",
   "metadata": {},
   "source": [
    "Use `startswith` method to not print the header this time. (This method is used like `string.startswith()` on a string. Play around with it a bit if you're not sure how it works.)"
   ]
  },
  {
   "cell_type": "code",
   "execution_count": 4,
   "metadata": {},
   "outputs": [
    {
     "name": "stdout",
     "output_type": "stream",
     "text": [
      "0          0.5284    \n",
      "\n",
      "0.1        0.4856    \n",
      "\n",
      "0.2        0.5076    \n",
      "\n",
      "0.3        0.5574    \n",
      "\n",
      "0.4        0.4381    \n",
      "\n",
      "0.5        0.3629    \n",
      "\n",
      "0.6        0.9157    \n",
      "\n",
      "0.7        0.3669    \n",
      "\n",
      "0.8        0.9357    \n",
      "\n",
      "0.9        0.05708   \n",
      "\n",
      "1          0.8412    \n",
      "\n"
     ]
    }
   ],
   "source": [
    "with open(\"../../Lessons/data/data_2col.txt\", \"r\") as file:\n",
    "    for line in file:\n",
    "        if line.startswith(\"#\"):\n",
    "            continue\n",
    "        \n",
    "        print(line)"
   ]
  },
  {
   "cell_type": "markdown",
   "metadata": {},
   "source": [
    "The `split` method can be used to split each line and get the data values on each line. Use `split` with everything else you've done so far to print a formatted table of the data with the second column to three decimal places of precision."
   ]
  },
  {
   "cell_type": "code",
   "execution_count": 6,
   "metadata": {},
   "outputs": [
    {
     "name": "stdout",
     "output_type": "stream",
     "text": [
      "0.0   0.528\n",
      "0.1   0.486\n",
      "0.2   0.508\n",
      "0.3   0.557\n",
      "0.4   0.438\n",
      "0.5   0.363\n",
      "0.6   0.916\n",
      "0.7   0.367\n",
      "0.8   0.936\n",
      "0.9   0.057\n",
      "1.0   0.841\n"
     ]
    }
   ],
   "source": [
    "with open(\"../../Lessons/data/data_2col.txt\", \"r\") as file:\n",
    "    for line in file:\n",
    "        if line.startswith(\"#\"):\n",
    "            continue\n",
    "        \n",
    "        value1, value2 = line.split()\n",
    "        print(f\"{float(value1)}   {float(value2):.3f}\")"
   ]
  },
  {
   "cell_type": "markdown",
   "metadata": {},
   "source": [
    "Write a function that takes in a path to a file as an argument to read in a two-column dataset of floats (ignoring header lines) and returns two float lists, corresponding to the two columns that were read. Test this on `\"../../Lessons/data/data_2col.txt\"`."
   ]
  },
  {
   "cell_type": "code",
   "execution_count": 3,
   "metadata": {},
   "outputs": [
    {
     "name": "stdout",
     "output_type": "stream",
     "text": [
      "[0.0, 0.1, 0.2, 0.3, 0.4, 0.5, 0.6, 0.7, 0.8, 0.9, 1.0]\n",
      "[0.5284, 0.4856, 0.5076, 0.5574, 0.4381, 0.3629, 0.9157, 0.3669, 0.9357, 0.05708, 0.8412]\n"
     ]
    }
   ],
   "source": [
    "def getDataLists(path):\n",
    "    list1, list2 = [], []\n",
    "    with open(path, \"r\") as file:\n",
    "        for line in file:\n",
    "            if line.startswith(\"#\"):\n",
    "                continue\n",
    "            \n",
    "            value1, value2 = line.split()\n",
    "            list1.append(float(value1))\n",
    "            list2.append(float(value2))\n",
    "    return list1, list2\n",
    "\n",
    "x, y = getDataLists(\"../../Lessons/data/data_2col.txt\")\n",
    "print(x)\n",
    "print(y)"
   ]
  }
 ],
 "metadata": {
  "kernelspec": {
   "display_name": "Python 3 (ipykernel)",
   "language": "python",
   "name": "python3"
  },
  "language_info": {
   "codemirror_mode": {
    "name": "ipython",
    "version": 3
   },
   "file_extension": ".py",
   "mimetype": "text/x-python",
   "name": "python",
   "nbconvert_exporter": "python",
   "pygments_lexer": "ipython3",
   "version": "3.10.5"
  }
 },
 "nbformat": 4,
 "nbformat_minor": 2
}
