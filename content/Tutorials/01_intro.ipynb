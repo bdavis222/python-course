{
 "cells": [
  {
   "cell_type": "markdown",
   "metadata": {},
   "source": [
    "# Tutorial: Introduction"
   ]
  },
  {
   "cell_type": "markdown",
   "metadata": {},
   "source": [
    "Tutorials consist of instructional text followed by cells that you will run to complete the assignment. Make sure you always print out what the tutorial asks you to print out! \n",
    "\n",
    "The next cell contains an example of a prompt you might see in an assignment about print statements.\n",
    "Note that it is followed by a runnable code cell, which is where you will perform the task asked by the prompt."
   ]
  },
  {
   "cell_type": "raw",
   "metadata": {},
   "source": [
    "Print the word \"hello\" to the screen."
   ]
  },
  {
   "cell_type": "code",
   "execution_count": null,
   "metadata": {},
   "outputs": [],
   "source": []
  },
  {
   "cell_type": "markdown",
   "metadata": {},
   "source": [
    "In order to get this part correct, you would run the code that prints \"hello\" to the screen. (Go ahead and try it!)\n",
    "\n",
    "Some sections of some tutorials may ask you to complete code that is already partially written. \n",
    "Do this by replacing the `'''BLANK'''` portions with code. \n",
    "If an entire line of code is a `'''BLANK'''`, then you are free to use as many lines as you'd like there. \n",
    "An example of this might be the following (note that you have not yet learned the concepts required to answer it):"
   ]
  },
  {
   "cell_type": "raw",
   "metadata": {},
   "source": [
    "Complete the following code to print out the integers from 0 to 10 (including both 0 and 10), with a blank line printed between each number:"
   ]
  },
  {
   "cell_type": "code",
   "execution_count": null,
   "metadata": {},
   "outputs": [],
   "source": [
    "for '''BLANK''' in range('''BLANK'''):\n",
    "    '''BLANK'''"
   ]
  },
  {
   "cell_type": "markdown",
   "metadata": {},
   "source": [
    "Running the above cell will trigger an error. \n",
    "This is because you have not yet filled in the blanks with working code! \n",
    "Below is an example of what that cell should look like after you've filled in the blanks (again, we haven't learned this yet):"
   ]
  },
  {
   "cell_type": "code",
   "execution_count": null,
   "metadata": {},
   "outputs": [],
   "source": [
    "for number in range(11):\n",
    "    print(number)\n",
    "    print()"
   ]
  },
  {
   "cell_type": "markdown",
   "metadata": {},
   "source": [
    "You will see that running the above cell will do what the question asked.\n",
    "\n",
    "After finishing tutorials, you can check your work against the solutions in the \"solutions\" folder. \n",
    "There are no solutions for this first tutorial (since it is just meant to explain how tutorials work).\n",
    "However, the rest of the tutorials in this course have corresponding solutions."
   ]
  }
 ],
 "metadata": {
  "kernelspec": {
   "display_name": "Python 3 (ipykernel)",
   "language": "python",
   "name": "python3"
  },
  "language_info": {
   "codemirror_mode": {
    "name": "ipython",
    "version": 3
   },
   "file_extension": ".py",
   "mimetype": "text/x-python",
   "name": "python",
   "nbconvert_exporter": "python",
   "pygments_lexer": "ipython3",
   "version": "3.10.5"
  }
 },
 "nbformat": 4,
 "nbformat_minor": 2
}
