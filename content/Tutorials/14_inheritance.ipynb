{
 "cells": [
  {
   "cell_type": "markdown",
   "id": "03779188",
   "metadata": {},
   "source": [
    "# Tutorial: Inheritance"
   ]
  },
  {
   "cell_type": "markdown",
   "id": "e6a2614a",
   "metadata": {},
   "source": [
    "Consider the following class:"
   ]
  },
  {
   "cell_type": "code",
   "execution_count": null,
   "id": "77b037f1",
   "metadata": {},
   "outputs": [],
   "source": [
    "class Vehicle:\n",
    "    def __init__(self, speed, travelDirections={0, 1}):\n",
    "        self.speed = speed\n",
    "        self.position = [0, 0, 0]  # x, y, and z coordinates\n",
    "        self.travelDirections = travelDirections  # Coordinate indices: x=0, y=1, z=2\n",
    "    \n",
    "    def move(self, direction, duration):\n",
    "        for index, coordinate in enumerate(direction):\n",
    "            if index in self.travelDirections:\n",
    "                self.position[index] += coordinate * self.speed * duration"
   ]
  },
  {
   "cell_type": "markdown",
   "id": "0b74a4ab",
   "metadata": {},
   "source": [
    "Each vehicle will have a `speed` attribute that must be set on initialization, as well as a `travelDirections` attribute that defaults to only traveling along the ground (i.e., only the `0` and `1` indices corresponding to `x` and `y` coordinate directions are in the `travelDirections` set).\n",
    "\n",
    "Create an `Airplane` subclass that has a speed of `500` and can travel in all directions."
   ]
  },
  {
   "cell_type": "code",
   "execution_count": null,
   "id": "952bf6be",
   "metadata": {},
   "outputs": [],
   "source": []
  },
  {
   "cell_type": "markdown",
   "id": "560e742a",
   "metadata": {},
   "source": [
    "Create a `Car` subclass that has a speed of `80` and can only move along the ground."
   ]
  },
  {
   "cell_type": "code",
   "execution_count": null,
   "id": "dde2114b",
   "metadata": {},
   "outputs": [],
   "source": []
  },
  {
   "cell_type": "markdown",
   "id": "99f05b62",
   "metadata": {},
   "source": [
    "Create a `Train` subclass that has a speed of `20` and can only move along the `y` direction."
   ]
  },
  {
   "cell_type": "code",
   "execution_count": null,
   "id": "98334d3b",
   "metadata": {},
   "outputs": [],
   "source": []
  },
  {
   "cell_type": "markdown",
   "id": "bb59b506",
   "metadata": {},
   "source": [
    "If your subclasses are written correctly, the following cell will run without any errors:"
   ]
  },
  {
   "cell_type": "code",
   "execution_count": null,
   "id": "b4b9346c",
   "metadata": {},
   "outputs": [],
   "source": [
    "airplane = Airplane()\n",
    "assert airplane.position == [0, 0, 0]\n",
    "airplane.move((1, 0, 1), 2)\n",
    "assert airplane.position == [1000, 0, 1000]\n",
    "airplane.move((0.5, 3, -2), 3)\n",
    "assert airplane.position == [1750, 4500, -2000]\n",
    "car = Car()\n",
    "assert car.position == [0, 0, 0]\n",
    "car.move((1, 0, 1), 2)\n",
    "assert car.position == [160, 0, 0]\n",
    "car.move((0.5, 3, -2), 3)\n",
    "assert car.position == [280, 720, 0]\n",
    "train = Train()\n",
    "assert train.position == [0, 0, 0]\n",
    "train.move((1, 1, 1), 2)\n",
    "assert train.position == [0, 40, 0]\n",
    "train.move((0.5, -3, -2), 3)\n",
    "assert train.position == [0, -140, 0]"
   ]
  }
 ],
 "metadata": {
  "kernelspec": {
   "display_name": "Python 3 (ipykernel)",
   "language": "python",
   "name": "python3"
  },
  "language_info": {
   "codemirror_mode": {
    "name": "ipython",
    "version": 3
   },
   "file_extension": ".py",
   "mimetype": "text/x-python",
   "name": "python",
   "nbconvert_exporter": "python",
   "pygments_lexer": "ipython3",
   "version": "3.10.5"
  }
 },
 "nbformat": 4,
 "nbformat_minor": 5
}
