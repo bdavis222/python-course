{
 "cells": [
  {
   "cell_type": "markdown",
   "metadata": {},
   "source": [
    "# Tutorial: Modules"
   ]
  },
  {
   "cell_type": "markdown",
   "metadata": {},
   "source": [
    "Write all of the code for a program called `myProgram.py` that can be run from the command line with optional arguments. Just like at the end of the modules lesson, let's put the whole program inside a `main` function that we don't ever actually call (to avoid seeing any nasty error outputs from trying to do this in a Jupyter notebook).\n",
    "\n",
    "When an integer is passed, print a list of the square roots of all of the integers up to that integer. When anything else is passed, throw an exception that tells the user that they need to provide an integer. (What exception type should be used for this?)\n",
    "\n",
    "If no argument is passed, display a help message that explains how the program works:\n",
    "\n",
    "`This program gives the square roots of all integers leading to the integer provided.`\n",
    "\n",
    "Write your program so that it only looks for the first argument provided. Don't worry about other arguments for now.\n",
    "\n",
    "You can check your answer with the answer key for this tutorial, or you can actually make `myProgram.py` for yourself and try it out!"
   ]
  },
  {
   "cell_type": "code",
   "execution_count": null,
   "metadata": {},
   "outputs": [],
   "source": []
  }
 ],
 "metadata": {
  "kernelspec": {
   "display_name": "Python 3 (ipykernel)",
   "language": "python",
   "name": "python3"
  },
  "language_info": {
   "codemirror_mode": {
    "name": "ipython",
    "version": 3
   },
   "file_extension": ".py",
   "mimetype": "text/x-python",
   "name": "python",
   "nbconvert_exporter": "python",
   "pygments_lexer": "ipython3",
   "version": "3.10.5"
  }
 },
 "nbformat": 4,
 "nbformat_minor": 2
}
