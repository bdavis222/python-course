{
 "cells": [
  {
   "cell_type": "markdown",
   "metadata": {},
   "source": [
    "# Overlapping Meetings"
   ]
  },
  {
   "cell_type": "markdown",
   "metadata": {},
   "source": [
    "`NOTE: This should only be attempted after completing the course!`"
   ]
  },
  {
   "cell_type": "markdown",
   "metadata": {},
   "source": [
    "Let's say we want to write a program that will determine whether two arbitrary meetings overlap. For example, given the following meetings, our program should recognize that there is an overlap, and should therefore return `True`:\n",
    "\n",
    "```\n",
    "meetingOne = [\"8:30\", \"11:15\"]\n",
    "meetingTwo = [\"10:45\", \"13:30\"]\n",
    "```\n",
    "\n",
    "Here, the first number in a given meeting list is the meeting's start time, and the second number in the list is the meeting end time. Clearly meeting one and meeting two overlap from 10:45 - 11:15.\n",
    "\n",
    "Write a function called `doMeetingsOverlap`, which takes in two different lists of strings, as in the example above, and returns a boolean indicating whether the meetings overlap. \n",
    "\n",
    "Make sure to focus on modularizing your code as much as is necessary to simplify tasks."
   ]
  },
  {
   "cell_type": "code",
   "execution_count": null,
   "metadata": {},
   "outputs": [],
   "source": []
  },
  {
   "cell_type": "markdown",
   "metadata": {},
   "source": [
    "If your code is working properly, the cell below will run without any errors:"
   ]
  },
  {
   "cell_type": "code",
   "execution_count": 8,
   "metadata": {},
   "outputs": [],
   "source": [
    "assert doMeetingsOverlap([\"8:30\", \"11:15\"], [\"10:45\", \"13:30\"]) == True\n",
    "assert doMeetingsOverlap([\"8:30\", \"11:15\"], [\"11:45\", \"13:30\"]) == False\n",
    "assert doMeetingsOverlap([\"8:30\", \"11:15\"], [\"8:30\", \"10:00\"]) == True"
   ]
  }
 ],
 "metadata": {
  "kernelspec": {
   "display_name": "Python 3 (ipykernel)",
   "language": "python",
   "name": "python3"
  },
  "language_info": {
   "codemirror_mode": {
    "name": "ipython",
    "version": 3
   },
   "file_extension": ".py",
   "mimetype": "text/x-python",
   "name": "python",
   "nbconvert_exporter": "python",
   "pygments_lexer": "ipython3",
   "version": "3.10.5"
  }
 },
 "nbformat": 4,
 "nbformat_minor": 2
}
