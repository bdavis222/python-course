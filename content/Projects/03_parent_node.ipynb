{
 "cells": [
  {
   "cell_type": "markdown",
   "metadata": {},
   "source": [
    "# Finding the Parent of a Node"
   ]
  },
  {
   "cell_type": "markdown",
   "metadata": {},
   "source": [
    "`NOTE: This should only be attempted after completing the course!`"
   ]
  },
  {
   "cell_type": "markdown",
   "metadata": {},
   "source": [
    "Let's say you have some data structure representing a tree:\n",
    "\n",
    "```\n",
    "             1\n",
    "          /  |  \\\n",
    "         2   3   4\n",
    "       / |    \\   \\\n",
    "      5  6     7   8\n",
    "     /        / \\ \n",
    "    9        10  11\n",
    "```\n",
    "\n",
    "Each of the values in this tree is represented by an instance of a `Node` class, which is defined as follows:"
   ]
  },
  {
   "cell_type": "code",
   "execution_count": 1,
   "metadata": {},
   "outputs": [],
   "source": [
    "class Node:\n",
    "    def __init__(self, value):\n",
    "        self.value = value\n",
    "        self.children = []"
   ]
  },
  {
   "cell_type": "markdown",
   "metadata": {},
   "source": [
    "We can see that each node has a `value` attribute, which is just the integer that is shown in the diagram for each node.\n",
    "\n",
    "We can also see that each node has a `children` attribute, which is initially an empty list. When the tree structure is built, this list will be populated with a given node's children.\n",
    "\n",
    "For example, the node with value `7` in the diagram will have the nodes with values `10` and `11` in its `children` list. To be clear, the _node instances themselves_ will be in that list, not just the _values_ of those nodes.\n",
    "\n",
    "So, given the root node of a tree (the node with value `1` in the above diagram) and any target node in the tree, we want to get the parent of that target node as output.\n",
    "\n",
    "In other words, you should write a function called `getParentOfNode` that might take in the node with value `1` and the node with value `6` and the output would be the node with value `2`, as that is the parent of the target node (the one with value `6` that we were given)."
   ]
  },
  {
   "cell_type": "code",
   "execution_count": null,
   "metadata": {},
   "outputs": [],
   "source": []
  },
  {
   "cell_type": "markdown",
   "metadata": {},
   "source": [
    "If your code is working properly, the cell below will run without any errors:"
   ]
  },
  {
   "cell_type": "code",
   "execution_count": 4,
   "metadata": {},
   "outputs": [],
   "source": [
    "node1 = Node(1)\n",
    "node2 = Node(2)\n",
    "node3 = Node(3)\n",
    "node4 = Node(4)\n",
    "node5 = Node(5)\n",
    "node6 = Node(6)\n",
    "node7 = Node(7)\n",
    "node8 = Node(8)\n",
    "node9 = Node(9)\n",
    "node10 = Node(10)\n",
    "node11 = Node(11)\n",
    "\n",
    "node1.children = [node2, node3, node4]\n",
    "node2.children = [node5, node6]\n",
    "node3.children = [node7]\n",
    "node4.children = [node8]\n",
    "node5.children = [node9]\n",
    "node7.children = [node10, node11]\n",
    "\n",
    "assert getParentOfNode(node1, node10).value == 7\n",
    "assert getParentOfNode(node1, node4).value == 1\n",
    "assert getParentOfNode(node1, node1) == None"
   ]
  }
 ],
 "metadata": {
  "kernelspec": {
   "display_name": "Python 3 (ipykernel)",
   "language": "python",
   "name": "python3"
  },
  "language_info": {
   "codemirror_mode": {
    "name": "ipython",
    "version": 3
   },
   "file_extension": ".py",
   "mimetype": "text/x-python",
   "name": "python",
   "nbconvert_exporter": "python",
   "pygments_lexer": "ipython3",
   "version": "3.10.5"
  }
 },
 "nbformat": 4,
 "nbformat_minor": 2
}
