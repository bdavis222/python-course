{
 "cells": [
  {
   "cell_type": "markdown",
   "metadata": {},
   "source": [
    "# Navigating A Hedge Maze (Solution)"
   ]
  },
  {
   "cell_type": "markdown",
   "metadata": {},
   "source": [
    "`NOTE: This should only be attempted after completing the course!`"
   ]
  },
  {
   "cell_type": "markdown",
   "metadata": {},
   "source": [
    "Let's say you have some data representing a hedge maze:"
   ]
  },
  {
   "cell_type": "code",
   "execution_count": 2,
   "metadata": {},
   "outputs": [],
   "source": [
    "data = [\n",
    "    [1, 1, 1, 0, 1, 1, 1, 1, 0, 1, 0, 1, 1],\n",
    "    [1, 1, 1, 0, 0, 0, 0, 0, 0, 1, 0, 1, 1],\n",
    "    [0, 0, 1, 1, 1, 1, 1, 0, 1, 1, 0, 0, 0],\n",
    "    [1, 0, 1, 0, 0, 0, 1, 0, 1, 1, 1, 1, 1],\n",
    "    [1, 0, 0, 0, 1, 1, 1, 1, 1, 1, 1, 1, 1],\n",
    "    [1, 1, 1, 0, 1, 0, 2, 1, 0, 0, 0, 1, 1],\n",
    "    [0, 0, 1, 0, 1, 1, 0, 1, 0, 1, 0, 1, 1],\n",
    "    [1, 1, 0, 0, 1, 1, 0, 1, 0, 1, 0, 1, 1],\n",
    "    [1, 1, 0, 1, 1, 1, 0, 1, 0, 1, 0, 0, 0],\n",
    "    [1, 1, 0, 0, 0, 1, 0, 0, 0, 1, 1, 1, 1],\n",
    "    [1, 1, 1, 1, 0, 1, 1, 1, 1, 1, 1, 1, 1]\n",
    " ]"
   ]
  },
  {
   "cell_type": "markdown",
   "metadata": {},
   "source": [
    "Let's plot it to get a better idea of what we're looking at:"
   ]
  },
  {
   "cell_type": "code",
   "execution_count": 3,
   "metadata": {},
   "outputs": [
    {
     "data": {
      "image/png": "[encoded data removed]",
      "text/plain": [
       "<Figure size 640x480 with 1 Axes>"
      ]
     },
     "metadata": {},
     "output_type": "display_data"
    }
   ],
   "source": [
    "%matplotlib inline\n",
    "import matplotlib.pyplot as pl\n",
    "\n",
    "pl.imshow(data)\n",
    "pl.show()"
   ]
  },
  {
   "cell_type": "markdown",
   "metadata": {},
   "source": [
    "Here, the `0` represent a path, and `1` represents a wall. The goal is marked with a `2`. \n",
    "\n",
    "Given a maze like this, we want to be able to determine the coordinates of the entrance that leads to the goal. (We will always be guaranteed that there is only one valid path to the goal, and **the goal will not always necessarily be at the center of the maze**.)\n",
    "\n",
    "In this case, the correct coordinates are `(8, 12)`, as the path from those indices leads to the goal.\n",
    "\n",
    "Write a function called `findEntrance` that can take in a maze like this and give the coordinates for the correct entrance.\n",
    "\n",
    "Make sure to focus on modularizing your code as much as is necessary to simplify tasks."
   ]
  },
  {
   "cell_type": "code",
   "execution_count": 3,
   "metadata": {},
   "outputs": [],
   "source": [
    "def findEntrance(maze):\n",
    "    visited = [[False for column in row] for row in maze]\n",
    "    goalRow, goalColumn = findGoalCoordinates(maze)  # Find the goal first, and search outward\n",
    "    return findEntranceFromPosition(goalRow, goalColumn, maze, visited)\n",
    "\n",
    "def findGoalCoordinates(maze):\n",
    "    for row in range(len(maze)):\n",
    "        for column in range(len(maze[0])):\n",
    "            if maze[row][column] == 2:\n",
    "                return row, column\n",
    "\n",
    "def findEntranceFromPosition(row, column, maze, visited):\n",
    "    if maze[row][column] == 1 or visited[row][column]:\n",
    "        return\n",
    "    \n",
    "    if atEdge(row, column, maze):\n",
    "        return row, column\n",
    "\n",
    "    visited[row][column] = True\n",
    "\n",
    "    # Down\n",
    "    entrance = findEntranceFromPosition(row + 1, column, maze, visited)\n",
    "    if entrance is not None:\n",
    "        return entrance\n",
    "\n",
    "    # Up\n",
    "    entrance = findEntranceFromPosition(row - 1, column, maze, visited)\n",
    "    if entrance is not None:\n",
    "        return entrance\n",
    "\n",
    "    # Right\n",
    "    entrance = findEntranceFromPosition(row, column + 1, maze, visited)\n",
    "    if entrance is not None:\n",
    "        return entrance\n",
    "\n",
    "    # Left\n",
    "    entrance = findEntranceFromPosition(row, column - 1, maze, visited)\n",
    "    if entrance is not None:\n",
    "        return entrance\n",
    "\n",
    "def atEdge(row, column, maze):\n",
    "    topBoundary = 0\n",
    "    bottomBoundary = len(maze) - 1\n",
    "    leftBoundary = 0\n",
    "    rightBoundary = len(maze[0]) - 1\n",
    "    return row in [topBoundary, bottomBoundary] or column in [leftBoundary, rightBoundary]"
   ]
  },
  {
   "cell_type": "markdown",
   "metadata": {},
   "source": [
    "If your code is working properly, the cell below will run without any errors:"
   ]
  },
  {
   "cell_type": "code",
   "execution_count": 2,
   "metadata": {},
   "outputs": [],
   "source": [
    "maze = [\n",
    "[1, 1, 1, 0, 1, 1, 1, 1, 0, 1, 0, 1, 1],\n",
    "[1, 1, 1, 0, 0, 0, 0, 0, 0, 1, 0, 1, 1],\n",
    "[0, 0, 1, 1, 1, 1, 1, 0, 1, 1, 0, 0, 0],\n",
    "[1, 0, 1, 0, 0, 0, 1, 0, 1, 1, 1, 1, 1],\n",
    "[1, 0, 0, 0, 1, 1, 1, 1, 1, 1, 1, 1, 1],\n",
    "[1, 1, 1, 0, 1, 0, 2, 1, 0, 0, 0, 1, 1],\n",
    "[0, 0, 1, 0, 1, 1, 0, 1, 0, 1, 0, 1, 1],\n",
    "[1, 1, 0, 0, 1, 1, 0, 1, 0, 1, 0, 1, 1],\n",
    "[1, 1, 0, 1, 1, 1, 0, 1, 0, 1, 0, 0, 0],\n",
    "[1, 1, 0, 0, 0, 1, 0, 0, 0, 1, 1, 1, 1],\n",
    "[1, 1, 1, 1, 0, 1, 1, 1, 1, 1, 1, 1, 1]]\n",
    "\n",
    "assert findEntrance(maze) == (8, 12)\n",
    "\n",
    "maze2 = [\n",
    "[1, 1, 1, 0, 1, 1, 1, 1, 0, 1, 0, 1, 1],\n",
    "[1, 1, 1, 0, 0, 0, 0, 0, 0, 1, 0, 1, 1],\n",
    "[0, 0, 1, 1, 1, 1, 1, 0, 1, 1, 0, 0, 0],\n",
    "[1, 0, 1, 0, 0, 0, 1, 0, 1, 1, 1, 1, 1],\n",
    "[1, 0, 0, 2, 1, 1, 1, 1, 1, 1, 1, 1, 1],\n",
    "[1, 1, 1, 0, 1, 0, 0, 1, 0, 0, 0, 1, 1],\n",
    "[0, 0, 1, 0, 1, 1, 0, 1, 0, 1, 0, 1, 1],\n",
    "[1, 1, 0, 0, 1, 1, 0, 1, 0, 1, 0, 1, 1],\n",
    "[1, 1, 0, 1, 1, 1, 0, 1, 0, 1, 0, 0, 0],\n",
    "[1, 1, 1, 0, 0, 1, 0, 0, 0, 1, 1, 1, 1],\n",
    "[1, 1, 1, 1, 0, 1, 1, 1, 1, 1, 1, 1, 1]]\n",
    "\n",
    "assert findEntrance(maze2) == (2, 0)"
   ]
  }
 ],
 "metadata": {
  "kernelspec": {
   "display_name": "Python 3 (ipykernel)",
   "language": "python",
   "name": "python3"
  },
  "language_info": {
   "codemirror_mode": {
    "name": "ipython",
    "version": 3
   },
   "file_extension": ".py",
   "mimetype": "text/x-python",
   "name": "python",
   "nbconvert_exporter": "python",
   "pygments_lexer": "ipython3",
   "version": "3.10.5"
  }
 },
 "nbformat": 4,
 "nbformat_minor": 2
}
