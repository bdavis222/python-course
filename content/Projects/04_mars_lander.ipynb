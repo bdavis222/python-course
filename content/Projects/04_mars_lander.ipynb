{
 "cells": [
  {
   "cell_type": "markdown",
   "metadata": {},
   "source": [
    "# Mars Lander"
   ]
  },
  {
   "cell_type": "markdown",
   "metadata": {},
   "source": [
    "`NOTE: This should only be attempted after completing the course!`"
   ]
  },
  {
   "cell_type": "markdown",
   "metadata": {},
   "source": [
    "Let's say we want to land some spacecrafts on Mars, and we're in the process of searching for a landing site. Imagine we have some elevation data for different regions of the surface that look like the following:"
   ]
  },
  {
   "cell_type": "code",
   "execution_count": 1,
   "metadata": {},
   "outputs": [],
   "source": [
    "data = [1, 2.1, 3, 4.1, 4, 5.2, 7.1, 7.5, 8, 6.1, 6.3, 5.6, 3.9, 2.2, 2.1, 1.5, 1, 0.1, 0.1, \n",
    "        0, 0.1, 1, 1.2, 1, 1.1, 1.2, 1, 0.9, 1, 0.9, 1.2, 1.4, 1.1, 1.1, 0.8, 0.5, 0.5, 0.7,\n",
    "        0.6, 0.5, 1, 2, 2.1, 2.1, 2.2, 2.1, 1.5, 1.6, 1.4, 1.2, 1.4, 1.1, 1.1, 0.8, 0.8, 0.9, \n",
    "        1.1, 1.5, 1.7, 1.7, 1.6, 1.8, 2, 2.1, 2.5, 2.2, 2.2, 2.3, 2.6, 3, 8, 7.4, 8.1, 7.9, 8, \n",
    "        7.6, 8, 8.7, 9, 8.5, 9, 8.6, 7.8, 8, 8.1, 8, 8.2, 8.5, 8.6, 8.4, 8.6, 7.8, 8, 8.1, 8]"
   ]
  },
  {
   "cell_type": "markdown",
   "metadata": {},
   "source": [
    "Plot the data to get an idea of how it looks."
   ]
  },
  {
   "cell_type": "code",
   "execution_count": null,
   "metadata": {},
   "outputs": [],
   "source": []
  },
  {
   "cell_type": "markdown",
   "metadata": {},
   "source": [
    "So we can see a hill or mountain at the left of the dataset, and a cliff of some sort at the right.\n",
    "\n",
    "There are two requirements for a landing site:\n",
    "\n",
    "1. It is twice the size of the ship\n",
    "2. It is relatively flat\n",
    "\n",
    "\"Twice the size of the ship\" means that the region is at least twice the width or length of the ship, whichever is greater. \n",
    "\n",
    "\"Relatively flat\" depends on the undercarriage clearance of the ship. If the clearance is 1 unit, this means that the elevation of the region doesn't change by more than 1 unit from one coordinate to the next over the entire span of the region, and that the maximum and minimum elevations over the span of the region have a difference of less than 2 units (twice the clearance).\n",
    "\n",
    "You will need to write a `getLandingSiteCoordinates` function that will take in a list of elevation data and an instance of a `Ship` class (which you will create) containing the ship's relevant attributes (length, width, and undercarriage clearance, all numbers and initialized positionally in that order). The function should return a list of coordinates corresponding to the centers the regions that meet the landing site requirements. _(If a region spans indices 5-8, the center coordinate would be 6.5.)_\n",
    "\n",
    "Make sure to focus on modularizing your code as much as is necessary to simplify tasks."
   ]
  },
  {
   "cell_type": "code",
   "execution_count": null,
   "metadata": {},
   "outputs": [],
   "source": []
  },
  {
   "cell_type": "markdown",
   "metadata": {},
   "source": [
    "If your code is working properly, the cell below will run without any errors:"
   ]
  },
  {
   "cell_type": "code",
   "execution_count": 5,
   "metadata": {},
   "outputs": [],
   "source": [
    "data = [1, 2.1, 3, 4.1, 4, 5.2, 7.1, 7.5, 8, 6.1, 6.3, 5.6, 3.9, 2.2, 2.1, 1.5, 1, 0, 0, \n",
    "        0, 0.1, 1, 1.2, 1, 1.1, 1.2, 1, 0.9, 1, 0.9, 1.2, 1.4, 1.1, 1.1, 0.8, 0.5, 0.5, 0.7,\n",
    "        0.6, 0.5, 1, 2, 2.1, 2.1, 2.2, 2.1, 1.5, 1.6, 1.4, 1.2, 1.4, 1.1, 1.1, 0.8, 0.8, 0.9, \n",
    "        1.1, 1.5, 1.7, 1.7, 1.6, 1.8, 2, 2.1, 2.5, 2.2, 2.2, 2.3, 2.6, 3, 8, 7.4, 8.1, 7.9, 8, \n",
    "        7.6, 8, 8.7, 9, 8.5, 9, 8.6, 7.8, 8, 8.1, 8, 8.2, 8.5, 8.6, 8.4, 8.6, 7.8, 8, 8.1, 8]\n",
    "\n",
    "assert 18.5 in getLandingSiteCoordinates(data, Ship(1.1, 2, 0.15))\n",
    "assert 27.5 in getLandingSiteCoordinates(data, Ship(1, 2, 0.15))\n",
    "assert 42.5 in getLandingSiteCoordinates(data, Ship(1, 2, 0.15))\n",
    "assert 43.5 in getLandingSiteCoordinates(data, Ship(1, 2, 0.15))\n",
    "assert len(getLandingSiteCoordinates(data, Ship(1, 2, 0.15))) == 4\n",
    "\n",
    "data2 = [1, 2, 3, 4, 3, 2, 1, 1, 0, 1, 0, 1, 1, 1, 1, 1, 1, 0, 0, \n",
    "        0, 0, 3, 8, 7, 8, 7, 8, 8, 8, 9, 9, 8, 9, 7, 7, 7, 5, 4]\n",
    "\n",
    "assert getLandingSiteCoordinates(data2, Ship(3, 2, 0)) == [13.5]\n",
    "assert 12.5 in getLandingSiteCoordinates(data2, Ship(1, 2, 0))\n",
    "assert 13.5 in getLandingSiteCoordinates(data2, Ship(1, 2, 0))\n",
    "assert 14.5 in getLandingSiteCoordinates(data2, Ship(1, 2, 0))\n",
    "assert 18.5 in getLandingSiteCoordinates(data2, Ship(1, 2, 0))\n",
    "assert len(getLandingSiteCoordinates(data2, Ship(1, 2, 0))) == 4\n",
    "\n",
    "data3 = [0, 5, 1, 1, 1, 1, 1, 5, 8]\n",
    "\n",
    "assert 3.5 in getLandingSiteCoordinates(data3, Ship(1, 2, 1))\n",
    "assert 4.5 in getLandingSiteCoordinates(data3, Ship(1, 2, 1))\n",
    "assert len(getLandingSiteCoordinates(data3, Ship(1, 2, 1))) == 2"
   ]
  }
 ],
 "metadata": {
  "kernelspec": {
   "display_name": "Python 3 (ipykernel)",
   "language": "python",
   "name": "python3"
  },
  "language_info": {
   "codemirror_mode": {
    "name": "ipython",
    "version": 3
   },
   "file_extension": ".py",
   "mimetype": "text/x-python",
   "name": "python",
   "nbconvert_exporter": "python",
   "pygments_lexer": "ipython3",
   "version": "3.10.5"
  }
 },
 "nbformat": 4,
 "nbformat_minor": 2
}
