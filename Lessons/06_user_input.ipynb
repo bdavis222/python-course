{
 "cells": [
  {
   "cell_type": "markdown",
   "metadata": {},
   "source": [
    "# User Input"
   ]
  },
  {
   "cell_type": "markdown",
   "metadata": {},
   "source": [
    "Until now, we have provided the information necessary for a program to run by typing it into our Jupyter notebook cells _before_ the program is run.\n",
    "\n",
    "But can we provide information to our program _at runtime_? This can be inconvenient, especially if:\n",
    "\n",
    "1) We want to write an interactive program\n",
    "2) The amount of information the program requires is huge\n",
    "\n",
    "Let's cover the first case: writing an interactive program. \n",
    "\n",
    "The `input` function allows a user to supply new information to Python code as it runs. This can be useful for:\n",
    "\n",
    "1) Supplying parameters\n",
    "2) Changing how the code branches (e.g., what if user supplies bogus input? More discussion about this coming up.)"
   ]
  },
  {
   "cell_type": "code",
   "execution_count": null,
   "metadata": {},
   "outputs": [],
   "source": [
    "x = input(\"Enter a float: \")"
   ]
  },
  {
   "cell_type": "code",
   "execution_count": null,
   "metadata": {},
   "outputs": [],
   "source": [
    "print(x)"
   ]
  },
  {
   "cell_type": "code",
   "execution_count": null,
   "metadata": {},
   "outputs": [],
   "source": [
    "print(type(x))\n",
    "\n",
    "x = float(x)\n",
    "\n",
    "print(type(x))"
   ]
  },
  {
   "cell_type": "markdown",
   "metadata": {},
   "source": [
    "Why did we have to change this to a float manually?\n",
    "\n",
    "Anytime we supply input, whether it be in an iPython session (via input), the terminal, or from a file (later this semester), that input will be interpreted _as a string_.\n",
    "\n",
    "Let's try inputting some values for the following program:"
   ]
  },
  {
   "cell_type": "code",
   "execution_count": null,
   "metadata": {},
   "outputs": [],
   "source": [
    "stringNumberOne = input(\"Give an integer: \")\n",
    "stringNumberTwo = input(\"Give another integer: \")\n",
    "\n",
    "result = int(stringNumberOne) + int(stringNumberTwo)\n",
    "\n",
    "print(f\"The sum is {result}.\")"
   ]
  },
  {
   "cell_type": "markdown",
   "metadata": {},
   "source": [
    "Now something a little bit more complex:"
   ]
  },
  {
   "cell_type": "code",
   "execution_count": null,
   "metadata": {},
   "outputs": [],
   "source": [
    "# The first question:\n",
    "breadChoice = input(\"Do you want wheat bread? y/(n) \")\n",
    "if breadChoice.lower() == \"y\":  # Using .lower() to convert the input to lowercase\n",
    "    bread = \"wheat\"  # If the user types \"y\" (or \"Y\", because .lower() converts to \"y\")\n",
    "else:\n",
    "    bread = \"white\"  # Anything other than \"y\" or \"Y\" will result in this\n",
    "\n",
    "\n",
    "# The second question:\n",
    "meatChoice = input(\"Do you want turkey? y/(n) \")\n",
    "if meatChoice.lower() == \"y\":\n",
    "    meat = \"turkey\"  # If the user types \"y\" or \"Y\"\n",
    "else:\n",
    "    meat = \"ham\"     # Anything other than \"y\" or \"Y\" will result in this\n",
    "\n",
    "\n",
    "# The third question:\n",
    "cheeseChoice = input(\"Do you want Swiss cheese? y/(n) \")\n",
    "if cheeseChoice.lower() == \"y\":\n",
    "    cheese = \"Swiss\"    # If the user types \"y\" or \"Y\"\n",
    "else:\n",
    "    cheese = \"cheddar\"  # Anything other than \"y\" or \"Y\" will result in this\n",
    "\n",
    "\n",
    "# Printing the result:\n",
    "print(f\"You ordered a {meat} sandwich on {bread} bread with {cheese} cheese.\")"
   ]
  }
 ],
 "metadata": {
  "kernelspec": {
   "display_name": "Python 3 (ipykernel)",
   "language": "python",
   "name": "python3"
  },
  "language_info": {
   "codemirror_mode": {
    "name": "ipython",
    "version": 3
   },
   "file_extension": ".py",
   "mimetype": "text/x-python",
   "name": "python",
   "nbconvert_exporter": "python",
   "pygments_lexer": "ipython3",
   "version": "3.10.5"
  }
 },
 "nbformat": 4,
 "nbformat_minor": 1
}
