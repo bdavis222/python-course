{
 "cells": [
  {
   "cell_type": "markdown",
   "metadata": {},
   "source": [
    "# Documentation"
   ]
  },
  {
   "cell_type": "markdown",
   "metadata": {},
   "source": [
    "## Reading documentation"
   ]
  },
  {
   "cell_type": "markdown",
   "metadata": {},
   "source": [
    "One of the most essential skills any programmer possesses is the ability to read through documentation of existing code and understand how to use it. For example, look at the documentation page for the `enumerate` function: https://docs.python.org/3/library/functions.html#enumerate\n",
    "\n",
    "At the very top, we see the function declaration: `enumerate(iterable, start=0)`. This tells us that `enumerate` takes one positional (required) argument, and one keyword (optional) argument.\n",
    "\n",
    "Just below that, we see what the function returns, and each of the arguments are described to us.\n",
    "\n",
    "After that, we see some examples of its usage.\n",
    "\n",
    "To find this documentation, I just performed a basic internet search for \"python enumerate\". Doing so gives a few results, but the official Python documentation (the one at http://docs.python.org) might not be at the top. We should do this anytime we want to better understand any of the code we are using.\n",
    "\n",
    "If I wanted to find information on the `sqrt` function from the `math` module, I could search \"python math.sqrt\". (Some people may forget to search for the whole module name if, for example, they are using it as `import math as m` in their code, and might have trouble finding information on \"m.sqrt\".)"
   ]
  },
  {
   "cell_type": "markdown",
   "metadata": {},
   "source": [
    "## Docstrings"
   ]
  },
  {
   "cell_type": "markdown",
   "metadata": {},
   "source": [
    "Docstrings are used to document functions. Just like we can use http://docs.python.org to look up documentation of code that others have written, we can document our own code for others to read and understand our work. (And it is also really useful to remind ourselves what our code does when we want to reuse it sometime later!)\n",
    "\n",
    "Docstrings generally include the following:\n",
    "\n",
    "* A description of the functionality of the function\n",
    "* A list of arguments\n",
    "* A description of outputs (returned values)\n",
    "\n",
    "Sometimes, we also include some examples of how to use the function. \n",
    "\n",
    "Docstrings go right after the function header and are enclosed within triple quotes:"
   ]
  },
  {
   "cell_type": "code",
   "execution_count": null,
   "metadata": {},
   "outputs": [],
   "source": [
    "def force(mass1, mass2, radius):\n",
    "    \"\"\"Computes the gravitational force between two bodies.\n",
    "    \n",
    "    Args:\n",
    "        mass1: Mass of the first body, in kilograms (int, float).\n",
    "        mass2: Mass of the second body, in kilograms (int, float).\n",
    "        radius: Separation of the bodies, in meters (int, float).\n",
    "    \n",
    "    Returns:\n",
    "        The force in Newtons (float).\n",
    "    \"\"\"\n",
    "    G = 6.67e-11  # Gravitational constant\n",
    "    \n",
    "    return G * mass1 * mass2 / radius ** 2"
   ]
  },
  {
   "cell_type": "code",
   "execution_count": null,
   "metadata": {},
   "outputs": [],
   "source": [
    "result = force(5.97e24, 2.00e30, 1.5e11)\n",
    "print(result)"
   ]
  },
  {
   "cell_type": "markdown",
   "metadata": {},
   "source": [
    "To see the documentation for a function that has a docstring, use the help function:"
   ]
  },
  {
   "cell_type": "code",
   "execution_count": null,
   "metadata": {},
   "outputs": [],
   "source": [
    "help(force)"
   ]
  },
  {
   "cell_type": "markdown",
   "metadata": {},
   "source": [
    "## Type annotations"
   ]
  },
  {
   "cell_type": "markdown",
   "metadata": {},
   "source": [
    "Type annotations (or type hints) can also be used to better document your functions. They show the type of each input argument and the type of the object that the function returns. These are not required, but they can help others who read your code understand which types should be passed into your functions and what your functions will return. For example:"
   ]
  },
  {
   "cell_type": "code",
   "execution_count": 2,
   "metadata": {},
   "outputs": [],
   "source": [
    "def numbersAddToTen(numberOne: int, numberTwo: int) -> bool:\n",
    "    return numberOne + numberTwo == 10"
   ]
  },
  {
   "cell_type": "markdown",
   "metadata": {},
   "source": [
    "This shows that `numberOne` and `numberTwo` are of type `int`, and that the function returns a `bool`. Note that the argument types are given after the argument name and a colon, but before the comma separating that argument from the next argument. The function return type is given after the `->` and before the colon ending the function header."
   ]
  },
  {
   "cell_type": "markdown",
   "metadata": {},
   "source": [
    "### Supporting multiple types"
   ]
  },
  {
   "cell_type": "markdown",
   "metadata": {},
   "source": [
    "What if our function should really support multiple input or output types? The example above would still work if floats are passed in instead of integers, for example. How do we give two different types?\n",
    "\n",
    "For this we can use the `|` (called \"bitwise or\") operator. Here is how that would look for our function:"
   ]
  },
  {
   "cell_type": "code",
   "execution_count": null,
   "metadata": {},
   "outputs": [],
   "source": [
    "def numbersAddToTen(numberOne: int | float, numberTwo: int | float) -> bool:\n",
    "    return numberOne + numberTwo == 10"
   ]
  },
  {
   "cell_type": "markdown",
   "metadata": {},
   "source": [
    "### The `None` type"
   ]
  },
  {
   "cell_type": "markdown",
   "metadata": {},
   "source": [
    "What about when a function doesn't return anything? For example:"
   ]
  },
  {
   "cell_type": "code",
   "execution_count": 1,
   "metadata": {},
   "outputs": [],
   "source": [
    "def greetMe(name):\n",
    "    print(f\"Hello {name}\")"
   ]
  },
  {
   "cell_type": "markdown",
   "metadata": {},
   "source": [
    "In this case, our function actually returns a value of `None`, because nothing is returned. We _could_ add a `-> None` return type annotation, but it is conventional to just leave off the return type annotation altogether:"
   ]
  },
  {
   "cell_type": "code",
   "execution_count": 2,
   "metadata": {},
   "outputs": [],
   "source": [
    "def greetMe(name: str):\n",
    "    print(f\"Hello {name}\")"
   ]
  },
  {
   "cell_type": "markdown",
   "metadata": {},
   "source": [
    "What about when we use collections like lists and tuples? Are there any custom types? Actually, there are lots of other things we _could_ discuss here, but this is just meant to serve as an overview. For those who are curious, more can be found at the following link: https://docs.python.org/3/library/typing.html"
   ]
  }
 ],
 "metadata": {
  "kernelspec": {
   "display_name": "Python 3 (ipykernel)",
   "language": "python",
   "name": "python3"
  },
  "language_info": {
   "codemirror_mode": {
    "name": "ipython",
    "version": 3
   },
   "file_extension": ".py",
   "mimetype": "text/x-python",
   "name": "python",
   "nbconvert_exporter": "python",
   "pygments_lexer": "ipython3",
   "version": "3.10.5"
  }
 },
 "nbformat": 4,
 "nbformat_minor": 1
}
