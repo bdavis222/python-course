{
 "cells": [
  {
   "cell_type": "markdown",
   "metadata": {},
   "source": [
    "# Conditionals"
   ]
  },
  {
   "cell_type": "markdown",
   "metadata": {},
   "source": [
    "The flow of computer programs often needs to branch. That is, if a condition is met, we do one thing, and if not, we do another thing.\n",
    "\n",
    "The basic syntax is as follows:\n",
    "\n",
    "**If statement**\n",
    "\n",
    "```\n",
    "if <condition>:\n",
    "    <code>\n",
    "```\n",
    "\n",
    "**Adding an else statement**\n",
    "\n",
    "```\n",
    "if <condition>:\n",
    "    <code1>\n",
    "else:\n",
    "    <code2>\n",
    "```\n",
    "\n",
    "**Adding an else-if statement**\n",
    "\n",
    "```\n",
    "if <condition1>:\n",
    "    <code1>\n",
    "elif <condition2>:\n",
    "    <code2>\n",
    "else:\n",
    "    <code3>\n",
    "```"
   ]
  },
  {
   "cell_type": "markdown",
   "metadata": {},
   "source": [
    "## Boolean expressions"
   ]
  },
  {
   "cell_type": "markdown",
   "metadata": {},
   "source": [
    "Boolean expressions are statements that evaluate to one of two possible values: `True` or `False`. These will be used as the `<conditions>` we've defined above.\n",
    "\n",
    "An example boolean expression could be something like \"6 equals 4\", which is false, or \"5 is greater than 2\", which is true. Some operators that define these functions are as follows:\n",
    "\n",
    "* Equal to: `==`\n",
    "* Greater than: `>`\n",
    "* Less than: `<`\n",
    "* Greater than or equal to: `>=`\n",
    "* Less than or equal to: `<=`\n",
    "\n",
    "Let's look at some examples:"
   ]
  },
  {
   "cell_type": "code",
   "execution_count": null,
   "metadata": {},
   "outputs": [],
   "source": [
    "5 <= 10"
   ]
  },
  {
   "cell_type": "code",
   "execution_count": null,
   "metadata": {},
   "outputs": [],
   "source": [
    "5 >= 10"
   ]
  },
  {
   "cell_type": "markdown",
   "metadata": {},
   "source": [
    "The reserved word `not` can also be inserted in front of boolean expressions to change the value\n",
    "to its opposite."
   ]
  },
  {
   "cell_type": "code",
   "execution_count": null,
   "metadata": {},
   "outputs": [],
   "source": [
    "not 5 >= 10"
   ]
  },
  {
   "cell_type": "markdown",
   "metadata": {},
   "source": [
    "And again, boolean expressions can be combined with `and`, `or` and `not` to form compound conditional expressions."
   ]
  },
  {
   "cell_type": "code",
   "execution_count": null,
   "metadata": {},
   "outputs": [],
   "source": [
    "5 <= 10 and 5 >= 10"
   ]
  },
  {
   "cell_type": "code",
   "execution_count": null,
   "metadata": {},
   "outputs": [],
   "source": [
    "5 <= 10 and not 5 >= 10"
   ]
  },
  {
   "cell_type": "code",
   "execution_count": null,
   "metadata": {},
   "outputs": [],
   "source": [
    "5 <= 10 or 5 >= 10"
   ]
  },
  {
   "cell_type": "code",
   "execution_count": null,
   "metadata": {},
   "outputs": [],
   "source": [
    "(5 == 5 and 5 >= 10) or (2 <= 10 and 5 >= 1)"
   ]
  },
  {
   "cell_type": "markdown",
   "metadata": {},
   "source": [
    "Note that, in Python, we can sometimes put two comparisons together:"
   ]
  },
  {
   "cell_type": "code",
   "execution_count": null,
   "metadata": {},
   "outputs": [],
   "source": [
    "5 < 10 < 15"
   ]
  },
  {
   "cell_type": "markdown",
   "metadata": {},
   "source": [
    "This is the same as the following:"
   ]
  },
  {
   "cell_type": "code",
   "execution_count": null,
   "metadata": {},
   "outputs": [],
   "source": [
    "5 < 10 and 10 < 15"
   ]
  },
  {
   "cell_type": "markdown",
   "metadata": {},
   "source": [
    "Let's look at an example:"
   ]
  },
  {
   "cell_type": "code",
   "execution_count": null,
   "metadata": {},
   "outputs": [],
   "source": [
    "from math import exp\n",
    "\n",
    "value = 1.0\n",
    "\n",
    "if 0 <= value <= 1:      # Note that two conditionals are declared at once here in an \"and\" fashion,\n",
    "    result = exp(value)  # so it is executed if value is between 0 and 1 (if that condition is true).\n",
    "else:\n",
    "    result = -10         # executed otherwise (if the \"if\" condition is false)\n",
    "\n",
    "print(result)"
   ]
  },
  {
   "cell_type": "markdown",
   "metadata": {},
   "source": [
    "And now what if we were to run the same code, but with a value of `1.5`?"
   ]
  },
  {
   "cell_type": "code",
   "execution_count": null,
   "metadata": {},
   "outputs": [],
   "source": [
    "value = 1.5\n",
    "\n",
    "if 0 <= value <= 1:      \n",
    "    result = exp(value)\n",
    "else:\n",
    "    result = -10\n",
    "\n",
    "print(result)"
   ]
  },
  {
   "cell_type": "markdown",
   "metadata": {},
   "source": [
    "We can have multiple branching with \"else if\" statements, which are shortened to `elif`:"
   ]
  },
  {
   "cell_type": "code",
   "execution_count": null,
   "metadata": {},
   "outputs": [],
   "source": [
    "if 0 <= value < 1:\n",
    "    result = exp(value)  # executed if value is between 0 (inclusive) and 1 (exclusive) \n",
    "elif 1 <= value <= 2:\n",
    "    result = -100        # executed if value is between 1 and 2 (inclusive)\n",
    "elif 2 < value <= 3:\n",
    "    result = -200        # executed if value is between 2 and 3 (inclusive)\n",
    "else:\n",
    "    result = 0\n",
    "    print(\"value is not between 0 and 3\")\n",
    "\n",
    "print(result)"
   ]
  },
  {
   "cell_type": "markdown",
   "metadata": {},
   "source": [
    "## The ternary operator"
   ]
  },
  {
   "cell_type": "markdown",
   "metadata": {},
   "source": [
    "Python has a compact implementation of if-else branching, called a ternary operator:"
   ]
  },
  {
   "cell_type": "code",
   "execution_count": null,
   "metadata": {},
   "outputs": [],
   "source": [
    "x = 3\n",
    "print(\"x equals 2\" if x == 2 else \"x does not equal 2\")"
   ]
  },
  {
   "cell_type": "markdown",
   "metadata": {},
   "source": [
    "How handy! Consider this:"
   ]
  },
  {
   "cell_type": "code",
   "execution_count": null,
   "metadata": {},
   "outputs": [],
   "source": [
    "import math\n",
    "\n",
    "value = 2.0\n",
    "\n",
    "math.sqrt(value) if value >= 0 else \"Imaginary numbers not supported!\""
   ]
  },
  {
   "cell_type": "code",
   "execution_count": null,
   "metadata": {},
   "outputs": [],
   "source": [
    "value = -2.0\n",
    "\n",
    "math.sqrt(value) if value >= 0 else \"Imaginary numbers not supported!\""
   ]
  }
 ],
 "metadata": {
  "kernelspec": {
   "display_name": "Python 3 (ipykernel)",
   "language": "python",
   "name": "python3"
  },
  "language_info": {
   "codemirror_mode": {
    "name": "ipython",
    "version": 3
   },
   "file_extension": ".py",
   "mimetype": "text/x-python",
   "name": "python",
   "nbconvert_exporter": "python",
   "pygments_lexer": "ipython3",
   "version": "3.10.5"
  }
 },
 "nbformat": 4,
 "nbformat_minor": 1
}
