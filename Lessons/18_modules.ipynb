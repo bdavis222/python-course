{
 "cells": [
  {
   "cell_type": "markdown",
   "id": "2ae5a29f",
   "metadata": {},
   "source": [
    "# Modules"
   ]
  },
  {
   "cell_type": "markdown",
   "id": "9d071f96",
   "metadata": {},
   "source": [
    "Let's say we've written a really useful function that we like to use over and over again in different programs we write. We _could_ copy and paste that function into each new program we write every time we write one. \n",
    "\n",
    "But that doesn't sound like a very good idea. What happens if we realize at some point that there is a bug in that function? We would have to search through for every place we've used it and try to fix it in each place.\n",
    "\n",
    "Instead, we should put that function in its own **module**, and import that module to use the function in our other programs. Doing it this way, we only have to make the fix in one place to fix it in all of our programs!\n",
    "\n",
    "Let's say this is our function:"
   ]
  },
  {
   "cell_type": "code",
   "execution_count": null,
   "id": "ca413d3c",
   "metadata": {},
   "outputs": [],
   "source": [
    "def makeHtmlBoldText(text):\n",
    "    return f\"<b>{text}</b>\""
   ]
  },
  {
   "cell_type": "markdown",
   "id": "14562937",
   "metadata": {},
   "source": [
    "How do we put this in a module?\n",
    "\n",
    "First, let's create a Python file to put this in. Clearly this is some sort of utility function for HTML text, so `html_utils.py` would be a good name for the Python file (notice the `.py` file extension). Here are the steps we would take to create this module and use the function from that module:\n",
    "\n",
    "1. Create a plain text file named `html_utils.py`\n",
    "2. Place the file somewhere that is accessible to be read by your Python program\n",
    "3. Import this function with the `from <path> import <function>` syntax\n",
    "4. Use the function in your program using the function named given in the import statement\n",
    "\n",
    "I have already created such a utils file and placed it in the `utils` folder in this directory, so we can import it here:"
   ]
  },
  {
   "cell_type": "code",
   "execution_count": null,
   "id": "49021a67",
   "metadata": {},
   "outputs": [],
   "source": [
    "from utils.html_utils import makeHtmlBoldText as boldText"
   ]
  },
  {
   "cell_type": "markdown",
   "id": "da70ad05",
   "metadata": {},
   "source": [
    "Note that I have imported the function and simplified the name of it all in the import statement, so we can call it with `boldText()`:"
   ]
  },
  {
   "cell_type": "code",
   "execution_count": null,
   "id": "9b419631",
   "metadata": {},
   "outputs": [],
   "source": [
    "plainText = \"This is some text.\"\n",
    "htmlText = boldText(plainText)\n",
    "print(htmlText)"
   ]
  },
  {
   "cell_type": "markdown",
   "id": "83d8185c",
   "metadata": {},
   "source": [
    "And it is working properly."
   ]
  },
  {
   "cell_type": "markdown",
   "id": "55ebd1dd",
   "metadata": {},
   "source": [
    "# Running .py Files"
   ]
  },
  {
   "cell_type": "markdown",
   "id": "d3bd6e8d",
   "metadata": {},
   "source": [
    "Up until now, we've been working exclusively with Jupyter notebooks, so all of our Python code runs in these cells in the browser. However, most Python development is actually done in `.py` files like the one we created to put our HTML utility function in.\n",
    "\n",
    "The rules are exactly the same: write Python code in a `.py` file and it will run top to bottom when executed. But how do we tell a plain text file to run?\n",
    "\n",
    "The easiest way is to open a Terminal (or Command Prompt) and run the following command:\n",
    "\n",
    "`python <path_to_file>.py`\n",
    "\n",
    "Note that for some Python installations, this will actually only work with the following:\n",
    "\n",
    "`python3 <path_to_file>.py`"
   ]
  },
  {
   "cell_type": "markdown",
   "id": "3d49b447",
   "metadata": {},
   "source": [
    "## Running with arguments"
   ]
  },
  {
   "cell_type": "markdown",
   "id": "bcc21382",
   "metadata": {},
   "source": [
    "Additionally, programs run at the command line can accept arguments (just like a function does). To provide an argument to a Python program, use the following syntax:\n",
    "\n",
    "`python <path_to_file>.py <argument>` \n",
    "\n",
    "And again, `python3` might be needed instead of `python` for some installations.\n",
    "\n",
    "But how do we make it so that our Python file can accept such input from the command line?"
   ]
  },
  {
   "cell_type": "markdown",
   "id": "ecbba32f",
   "metadata": {},
   "source": [
    "### sys.argv"
   ]
  },
  {
   "cell_type": "markdown",
   "id": "03889450",
   "metadata": {},
   "source": [
    "`argv` is the command list that is passed to a program when it is run. It is contained in the `sys` module, so it is called as `sys.argv`. It is a list of strings like the following:\n",
    "\n",
    "`[\"<program_name>.py\", \"<arg1>\", \"<arg2>\", ...]`\n",
    "\n",
    "So, if a program named `my_program.py` is run with no arguments, i.e., `python my_program.py`, then `sys.argv` will look like `[\"my_program.py\"]`. \n",
    "\n",
    "How can we use this? Consider the following code."
   ]
  },
  {
   "cell_type": "code",
   "execution_count": null,
   "id": "4d4dfec7",
   "metadata": {},
   "outputs": [],
   "source": [
    "import sys\n",
    "\n",
    "def main():\n",
    "    if len(sys.argv) == 1:  # No additional arguments were provided\n",
    "        runInNormalMode()\n",
    "    \n",
    "    elif len(sys.argv) == 2 and sys.argv[1] == \"test\":  # An argument of \"test\" was provided\n",
    "        runInTestMode()"
   ]
  },
  {
   "cell_type": "markdown",
   "id": "0b2f3b40",
   "metadata": {},
   "source": [
    "Note that the above code won't actually run, but it will give you an idea of how we might be able to use `sys.argv`. I purposely put this code within a `main` function that I never actually call so that we wouldn't get the ugly error output."
   ]
  }
 ],
 "metadata": {
  "kernelspec": {
   "display_name": "Python 3 (ipykernel)",
   "language": "python",
   "name": "python3"
  },
  "language_info": {
   "codemirror_mode": {
    "name": "ipython",
    "version": 3
   },
   "file_extension": ".py",
   "mimetype": "text/x-python",
   "name": "python",
   "nbconvert_exporter": "python",
   "pygments_lexer": "ipython3",
   "version": "3.10.5"
  }
 },
 "nbformat": 4,
 "nbformat_minor": 5
}
