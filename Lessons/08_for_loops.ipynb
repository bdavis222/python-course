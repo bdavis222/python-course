{
 "cells": [
  {
   "cell_type": "markdown",
   "metadata": {},
   "source": [
    "### Recap: while-loops"
   ]
  },
  {
   "cell_type": "markdown",
   "metadata": {},
   "source": [
    "What would this program print?"
   ]
  },
  {
   "cell_type": "code",
   "execution_count": null,
   "metadata": {},
   "outputs": [],
   "source": [
    "count = 0\n",
    "while count < 100:\n",
    "    count += 1\n",
    "print(count)"
   ]
  },
  {
   "cell_type": "markdown",
   "metadata": {},
   "source": [
    "Rather than manually populate long lists, we can use while-loops to populate them for us:"
   ]
  },
  {
   "cell_type": "code",
   "execution_count": null,
   "metadata": {},
   "outputs": [],
   "source": [
    "# Initializations first\n",
    "floatList = []         # Creates an empty list\n",
    "floatValue = 1.0       # For the conditional\n",
    "floatMax = 15.0        # Also for the conditional\n",
    "\n",
    "# And the while-loop:\n",
    "while floatValue <= floatMax:      # Note the colon!\n",
    "    floatList.append(floatValue)   # Note the indentation!\n",
    "    floatValue += 1.0"
   ]
  },
  {
   "cell_type": "code",
   "execution_count": null,
   "metadata": {},
   "outputs": [],
   "source": [
    "print(floatList)"
   ]
  },
  {
   "cell_type": "markdown",
   "metadata": {},
   "source": [
    "# For-loops"
   ]
  },
  {
   "cell_type": "markdown",
   "metadata": {},
   "source": [
    "For-loops operate on elements in a collection, like a list or tuple. The basic structure is as follows:\n",
    "\n",
    "```\n",
    "for <element> in <list>:\n",
    "    <code>\n",
    "```\n",
    "\n",
    "`<element>` will be a variable name assigned to individual elements in `<list>`. Note that we get to decide what we want to name this variable; its name doesn't actually matter.\n",
    "    \n",
    "This is different from while-loops:\n",
    "\n",
    "```\n",
    "while <condition>:\n",
    "    <code>\n",
    "```"
   ]
  },
  {
   "cell_type": "code",
   "execution_count": null,
   "metadata": {},
   "outputs": [],
   "source": [
    "for value in floatList:  # Note the colon!\n",
    "    print(f\"floatList element = {value}\") # Note the indent!\n",
    "\n",
    "print(\"\\nfloatList has\", len(floatList), \"elements!\")"
   ]
  },
  {
   "cell_type": "markdown",
   "metadata": {},
   "source": [
    "Note that you do not have to know the length of the list!\n",
    "\n",
    "Let's use a for-loop to make a table for some $x$ and $y$ values for the function $y = \\frac{x^2 + 70}{2}$:"
   ]
  },
  {
   "cell_type": "code",
   "execution_count": null,
   "metadata": {},
   "outputs": [],
   "source": [
    "# First, initialize variables\n",
    "xList  = []        # Creates an empty list\n",
    "integerValue = 1   # First x value\n",
    "integerMax   = 15  # Last x value\n",
    "\n",
    "# Create a list of x floats\n",
    "for integerValue in range(integerValue, integerMax + 1):  # Note the \"+ 1\". We will talk about this soon.\n",
    "    xList.append(float(integerValue))\n",
    "\n",
    "# Make a header for the table\n",
    "print(\"     x             y   \")\n",
    "\n",
    "# Calculate the y for each x\n",
    "for x in xList:\n",
    "    y = (x ** 2 + 70 ) / 2\n",
    "\n",
    "    # print contents of table line-by-line\n",
    "    print(f\"{x:7.1f} {y:14.2f}\")"
   ]
  },
  {
   "cell_type": "markdown",
   "metadata": {},
   "source": [
    "## While-loop implementation of a for-loop"
   ]
  },
  {
   "cell_type": "markdown",
   "metadata": {},
   "source": [
    "A simple for-loop:"
   ]
  },
  {
   "cell_type": "code",
   "execution_count": null,
   "metadata": {},
   "outputs": [],
   "source": [
    "for x in xList:\n",
    "    print(x)"
   ]
  },
  {
   "cell_type": "markdown",
   "metadata": {},
   "source": [
    "Can be implemented as a while-loop:"
   ]
  },
  {
   "cell_type": "code",
   "execution_count": null,
   "metadata": {},
   "outputs": [],
   "source": [
    "index = 0   # Remember that the index starts with zero!\n",
    "while index < len(xList):\n",
    "    print(xList[index])\n",
    "    index += 1"
   ]
  },
  {
   "cell_type": "markdown",
   "metadata": {},
   "source": [
    "This is a little less compact, but still intuitive."
   ]
  },
  {
   "cell_type": "markdown",
   "metadata": {},
   "source": [
    "What is the value of index at the end? Trace it."
   ]
  },
  {
   "cell_type": "code",
   "execution_count": null,
   "metadata": {},
   "outputs": [],
   "source": [
    "index"
   ]
  },
  {
   "cell_type": "markdown",
   "metadata": {},
   "source": [
    "## The `range` function"
   ]
  },
  {
   "cell_type": "markdown",
   "metadata": {},
   "source": [
    "The range function is an easy way to populate lists. (In case you haven't noticed, there are already Python functions to do lots of things!)\n",
    "\n",
    "Syntax: \n",
    "\n",
    "`range(<number>)`\n",
    "\n",
    "generates integers 0, 1, 2, ... n-1\n",
    "\n",
    "`range (<start>, <stop>, <step>)`\n",
    "\n",
    "generates from `<start>` to `<stop>`-1 with step size = `<step>`. If `<step>` is not specified, it is assumed to be 1."
   ]
  },
  {
   "cell_type": "markdown",
   "metadata": {},
   "source": [
    "What does the following generate?"
   ]
  },
  {
   "cell_type": "code",
   "execution_count": null,
   "metadata": {},
   "outputs": [],
   "source": [
    "range(-10, 2, 2)"
   ]
  },
  {
   "cell_type": "markdown",
   "metadata": {},
   "source": [
    "In Python 3, the `range` function doesn't automatically create a list, in order to save memory.\n",
    "\n",
    "We have to use the `list` function explicitly to make the output from this range function input into a list.\n",
    "\n",
    "(But don't worry about this `list` function for now. It will just be here as a reference if you need it!)\n",
    "\n",
    "Now, let's see what `range(-10, 2, 2)` is doing behind the scenes:"
   ]
  },
  {
   "cell_type": "code",
   "execution_count": null,
   "metadata": {},
   "outputs": [],
   "source": [
    "list(range(-10, 2, 2))"
   ]
  },
  {
   "cell_type": "markdown",
   "metadata": {},
   "source": [
    "For our x list example:"
   ]
  },
  {
   "cell_type": "code",
   "execution_count": null,
   "metadata": {},
   "outputs": [],
   "source": [
    "xList = []\n",
    "for x in range(1, 11): # what is the step size here?\n",
    "    xList.append(float(x))  \n",
    "print(xList)"
   ]
  },
  {
   "cell_type": "code",
   "execution_count": null,
   "metadata": {},
   "outputs": [],
   "source": [
    "xList.append([1, 2, 3, 4])"
   ]
  },
  {
   "cell_type": "markdown",
   "metadata": {},
   "source": [
    "What will this be?"
   ]
  },
  {
   "cell_type": "code",
   "execution_count": null,
   "metadata": {},
   "outputs": [],
   "source": [
    "xList"
   ]
  },
  {
   "cell_type": "markdown",
   "metadata": {},
   "source": [
    "What type would the `xList` elements be without the float() function?"
   ]
  },
  {
   "cell_type": "markdown",
   "metadata": {},
   "source": [
    "You can use a for-loop to access a list's indices:"
   ]
  },
  {
   "cell_type": "markdown",
   "metadata": {},
   "source": [
    "What will be the output?"
   ]
  },
  {
   "cell_type": "code",
   "execution_count": null,
   "metadata": {},
   "outputs": [],
   "source": [
    "for index in range(len(xList)):\n",
    "    print(index, xList[index])"
   ]
  },
  {
   "cell_type": "markdown",
   "metadata": {},
   "source": [
    "## The `enumerate` function"
   ]
  },
  {
   "cell_type": "markdown",
   "metadata": {},
   "source": [
    "Often, you'll want the indices and the list element values. Python has a short-cut function for this sort of thing: `enumerate`"
   ]
  },
  {
   "cell_type": "code",
   "execution_count": null,
   "metadata": {},
   "outputs": [],
   "source": [
    "# Enumerate returns the index and value\n",
    "for index, x in enumerate(xList):  # Notice how we can unpack \"index\" and \"x\" right in the loop\n",
    "    print(index, x)\n",
    "\n",
    "print()\n",
    "print(\"index type =\", type(index))\n",
    "print(\"x type     =\", type(x))\n",
    "print(\"xList type =\", type(xList))"
   ]
  },
  {
   "cell_type": "code",
   "execution_count": null,
   "metadata": {},
   "outputs": [],
   "source": [
    " # Equivalently (but not exactly the same):\n",
    "\n",
    "for stuff in enumerate(xList):\n",
    "    print(stuff[0], stuff[1])"
   ]
  },
  {
   "cell_type": "code",
   "execution_count": null,
   "metadata": {},
   "outputs": [],
   "source": [
    "# Notice the parentheses.\n",
    "# What kind of variable type is stuff?\n",
    "\n",
    "type(stuff)"
   ]
  },
  {
   "cell_type": "markdown",
   "metadata": {},
   "source": [
    "## The `zip` function"
   ]
  },
  {
   "cell_type": "markdown",
   "metadata": {},
   "source": [
    "What if we want to use elements from two lists simultaneously in a loop? We can use the `zip` function to access elements at the same index for multiple lists:"
   ]
  },
  {
   "cell_type": "code",
   "execution_count": null,
   "metadata": {},
   "outputs": [],
   "source": [
    "numList = [1, 2, 3, 4, 5]\n",
    "strList = [\"one\", \"two\", \"three\", \"four\", \"five\"]\n",
    "\n",
    "for number, string in zip(numList, strList):  # Notice how we can unpack \"number\" and \"string\" right in the loop\n",
    "    print(number, string)"
   ]
  },
  {
   "cell_type": "markdown",
   "metadata": {},
   "source": [
    "So what is `zip` actually doing in the background? Think of two lists side-by-side that are being zipped up so that each element of one is attached to that corresponding element of the other, like how a zipper works on your pants. Here is a visualization:"
   ]
  },
  {
   "cell_type": "code",
   "execution_count": null,
   "metadata": {},
   "outputs": [],
   "source": [
    "list(zip(numList, strList))"
   ]
  },
  {
   "cell_type": "markdown",
   "metadata": {},
   "source": [
    "So each element is a tuple consisting of the pair of elements being zipped to each other at each index."
   ]
  },
  {
   "cell_type": "markdown",
   "metadata": {},
   "source": [
    "## Iterating without a variable"
   ]
  },
  {
   "cell_type": "markdown",
   "metadata": {},
   "source": [
    "We can also perform for-loops without declaring a variable in our loop. For example, let's say we want to print something 10 times. We could do the following:"
   ]
  },
  {
   "cell_type": "code",
   "execution_count": null,
   "metadata": {},
   "outputs": [],
   "source": [
    "for _ in range(10):\n",
    "    print(\"Hello\")"
   ]
  },
  {
   "cell_type": "markdown",
   "metadata": {},
   "source": [
    "Note that the underscore took the place of the variable, since we didn't need one (as it wouldn't have ever been used in our loop anyway). This is similar to how underscores are used when unpacking values from a tuple or list when we don't need all of the unpacked values to be stored in variables."
   ]
  },
  {
   "cell_type": "markdown",
   "metadata": {},
   "source": [
    "## Processing lists simultaneously with for-loops"
   ]
  },
  {
   "cell_type": "markdown",
   "metadata": {},
   "source": [
    "The following construction is a bit lengthy (with 3 loops), but it shows how multiple lists (`xList` and `yList`) can be processed simultaneously with for-loops"
   ]
  },
  {
   "cell_type": "code",
   "execution_count": null,
   "metadata": {},
   "outputs": [],
   "source": [
    "xList       = []        # Initialize\n",
    "numElements = 10        # Number of elements\n",
    "xMin        = 1.0       # Minimum x\n",
    "xMax        = 10.0      # Maximum x\n",
    "xDelta = (xMax - xMin) / float(numElements - 1)   # x increment"
   ]
  },
  {
   "cell_type": "markdown",
   "metadata": {},
   "source": [
    "Now, construct `xList`:"
   ]
  },
  {
   "cell_type": "code",
   "execution_count": null,
   "metadata": {},
   "outputs": [],
   "source": [
    "xList = []\n",
    "for index in range(0, numElements):\n",
    "    x = xMin + index * xDelta\n",
    "    xList.append(x)\n",
    "    print(index, x)"
   ]
  },
  {
   "cell_type": "markdown",
   "metadata": {},
   "source": [
    "Now, calculate `y` using `xList`:"
   ]
  },
  {
   "cell_type": "code",
   "execution_count": null,
   "metadata": {},
   "outputs": [],
   "source": [
    "yList = []  # Empty list. We don't have to specify its length\n",
    "for x in xList:\n",
    "    y = (x ** 2 + 70) / 2\n",
    "    yList.append(y)"
   ]
  },
  {
   "cell_type": "markdown",
   "metadata": {},
   "source": [
    "Finally, to print the table (demonstrating processing lists simultaneously):"
   ]
  },
  {
   "cell_type": "code",
   "execution_count": null,
   "metadata": {},
   "outputs": [],
   "source": [
    "print(\"     x            y\")\n",
    "\n",
    "for index in range(min(len(xList), len(yList))):\n",
    "    x = xList[index]\n",
    "    y = yList[index]\n",
    "    print(f\"{x:7.1f} {y:13.2f}\")"
   ]
  },
  {
   "cell_type": "markdown",
   "metadata": {},
   "source": [
    "There are ways to do this with less code.\n",
    "\n",
    "Compact is good, so long as its still easy to follow.\n",
    "\n",
    "One shorter way is to create lists of the right size (filled with zeros) then index the list with the appropriate values."
   ]
  },
  {
   "cell_type": "code",
   "execution_count": null,
   "metadata": {},
   "outputs": [],
   "source": [
    "# For example, create a list of length numElements filled with \n",
    "# zeroes for the x range\n",
    "numElements = 10        # Number of elements in list\n",
    "xMin        = 1.0       # Minimum x\n",
    "xMax        = 10.0      # Maximum x\n",
    "xDelta      = (xMax - xMin) / float(numElements - 1)  # x increment\n",
    "\n",
    "xList = [0] * numElements\n",
    "print(xList)"
   ]
  },
  {
   "cell_type": "code",
   "execution_count": null,
   "metadata": {},
   "outputs": [],
   "source": [
    "# Fill x range with the appropriate values\n",
    "for index in range(len(xList)):\n",
    "    xList[index] = xMin + index * xDelta\n",
    "print(xList)"
   ]
  },
  {
   "cell_type": "code",
   "execution_count": null,
   "metadata": {},
   "outputs": [],
   "source": [
    "# Create list of y's\n",
    "yList = [0] * numElements\n",
    "\n",
    "# And fill the list\n",
    "for index in range(len(yList)):\n",
    "    yList[index] = (xList[index] ** 2 + 70) / 2 \n",
    "\n",
    "# Print a header\n",
    "print(\"     x            y\")\n",
    "\n",
    "#  Print the x's and y's\n",
    "for index in range(len(xList)):\n",
    "    print(f\"{xList[index]:7.1f} {yList[index]:13.2f}\")"
   ]
  },
  {
   "cell_type": "markdown",
   "metadata": {},
   "source": [
    "Could `x` and `y` have been populated in the same for-loop?  If so, how?"
   ]
  },
  {
   "cell_type": "code",
   "execution_count": null,
   "metadata": {},
   "outputs": [],
   "source": [
    "# Create the two lists\n",
    "xList = [0] * numElements\n",
    "yList     = [0] * numElements\n",
    "\n",
    "# Print header\n",
    "print(\"     x            y\")\n",
    "\n",
    "# Using a single for-loop, populate the two lists\n",
    "for index in range(len(xList)):\n",
    "    # Calculate x\n",
    "    xList[index] = xMin + index * xDelta\n",
    "    \n",
    "    # Calculate y\n",
    "    yList[index] = (xList[index] ** 2 + 70) / 2 \n",
    "    \n",
    "    # Print x and y\n",
    "    print(f\"{xList[index]:7.1f} {yList[index]:13.2f}\")"
   ]
  },
  {
   "cell_type": "markdown",
   "metadata": {},
   "source": [
    "## List comprehension"
   ]
  },
  {
   "cell_type": "markdown",
   "metadata": {},
   "source": [
    "This is a really, really compact way of populating lists. The syntax is as follows:\n",
    "\n",
    "`[<element> for <element> in <list>]`\n",
    "\n",
    "However, we don't have to just use the element itself to populate the list. We could, for example, do the following:\n",
    "\n",
    "`[<element> / 2 for <element> in <list>]`\n",
    "\n",
    "The point is that we want to add _something_ (in this case, `<element> / 2`) using each `<element>` in `<list>`. Let's see another example:"
   ]
  },
  {
   "cell_type": "code",
   "execution_count": null,
   "metadata": {},
   "outputs": [],
   "source": [
    "numElements = 10\n",
    "\n",
    "xList = [1.0 + index for index in range(numElements)]          # list comprehension!\n",
    "yList     = [(x ** 2 + 70 ) / 2 for x in xList]"
   ]
  },
  {
   "cell_type": "markdown",
   "metadata": {},
   "source": [
    "Wow, that is compact!  Two lines!  Did it work?"
   ]
  },
  {
   "cell_type": "code",
   "execution_count": null,
   "metadata": {},
   "outputs": [],
   "source": [
    "print(\"     x            y\")\n",
    "\n",
    "for index in range(len(xList)):\n",
    "    print(f\"{xList[index]:7.1f} {yList[index]:13.2f}\")"
   ]
  },
  {
   "cell_type": "markdown",
   "metadata": {},
   "source": [
    "### Conditionals in list comprehensions"
   ]
  },
  {
   "cell_type": "markdown",
   "metadata": {},
   "source": [
    "We can add an `if` condition to a list comprehension.  We would do this when we wanted to limit or filter the values that are put into the resulting list:"
   ]
  },
  {
   "cell_type": "code",
   "execution_count": null,
   "metadata": {},
   "outputs": [],
   "source": [
    "divisor = 3.25  # Number to divide by\n",
    "\n",
    "# Create a list of numbers between 1 and 100 that are divisible by \"divisor\"\n",
    "numList = [num for num in range(1, 101) if num % divisor == 0]\n",
    "\n",
    "print(numList)"
   ]
  },
  {
   "cell_type": "code",
   "execution_count": null,
   "metadata": {},
   "outputs": [],
   "source": [
    "nameList = ['Samual', 'Charlie', 'Robert', 'Liangyu', 'Jeffery', 'Brian', 'Aidan', 'Melissa', 'Gerardo', \\\n",
    "            'Emily', 'Parker', 'Amanda', 'Kristine', 'Tarek', 'Christian', 'Ian', 'Alex', 'Nathaniel', \\\n",
    "            'Samantha', 'Pengqi']\n",
    "\n",
    "text = 'ar'\n",
    "\n",
    "filterList = [name for name in nameList if text in name]\n",
    "\n",
    "print(filterList)"
   ]
  }
 ],
 "metadata": {
  "kernelspec": {
   "display_name": "Python 3 (ipykernel)",
   "language": "python",
   "name": "python3"
  },
  "language_info": {
   "codemirror_mode": {
    "name": "ipython",
    "version": 3
   },
   "file_extension": ".py",
   "mimetype": "text/x-python",
   "name": "python",
   "nbconvert_exporter": "python",
   "pygments_lexer": "ipython3",
   "version": "3.10.5"
  }
 },
 "nbformat": 4,
 "nbformat_minor": 1
}
