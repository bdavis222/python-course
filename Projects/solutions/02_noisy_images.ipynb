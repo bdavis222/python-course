{
 "cells": [
  {
   "cell_type": "markdown",
   "metadata": {},
   "source": [
    "# Working With Noisy Images (Solution)"
   ]
  },
  {
   "cell_type": "markdown",
   "metadata": {},
   "source": [
    "`NOTE: This should only be attempted after completing the course!`"
   ]
  },
  {
   "cell_type": "markdown",
   "metadata": {},
   "source": [
    "Below, you have some data that somebody sent you:"
   ]
  },
  {
   "cell_type": "code",
   "execution_count": 1,
   "metadata": {},
   "outputs": [],
   "source": [
    "data = [\n",
    "    [1, 0, 4, 0, 5, 0, 3],\n",
    "    [2, 9, 0, 0, 0, 0, 3],\n",
    "    [0, 0, 3, 0, 1, 0, 0],\n",
    "    [4, 0, 0, 6, 0, 2, 0],\n",
    "    [0, 3, 0, 0, 0, 0, 3],\n",
    "    [0, 0, 0, 0, 4, 0, 0],\n",
    "    [0, 1, 1, 0, 0, 7, 9],\n",
    "]"
   ]
  },
  {
   "cell_type": "markdown",
   "metadata": {},
   "source": [
    "Notice that this is nothing more than just a list of lists, but where we've put each list on its own line for readability. Keep the data as a list for this entire project. \n",
    "\n",
    "Plot the data below."
   ]
  },
  {
   "cell_type": "code",
   "execution_count": 2,
   "metadata": {},
   "outputs": [
    {
     "data": {
      "image/png": "[encoded data removed]",
      "text/plain": [
       "<Figure size 640x480 with 1 Axes>"
      ]
     },
     "metadata": {},
     "output_type": "display_data"
    }
   ],
   "source": [
    "%matplotlib inline\n",
    "import matplotlib.pyplot as pl\n",
    "\n",
    "pl.imshow(data)\n",
    "pl.show()"
   ]
  },
  {
   "cell_type": "markdown",
   "metadata": {},
   "source": [
    "Let's say we only care about the data points above some threshold value. Write some code to determine the (x, y) coordinates, corresponding to (column, row), where the data is greater than a threshold value of 5. For each coordinate where this condition is met, print out the coordinate on its own line in the form (x, y)."
   ]
  },
  {
   "cell_type": "code",
   "execution_count": 3,
   "metadata": {},
   "outputs": [
    {
     "name": "stdout",
     "output_type": "stream",
     "text": [
      "(1, 1)\n",
      "(3, 3)\n",
      "(5, 6)\n",
      "(6, 6)\n"
     ]
    }
   ],
   "source": [
    "for y, row in enumerate(data):\n",
    "    for x, value in enumerate(row):\n",
    "        if value > 5:\n",
    "            print((x, y))"
   ]
  },
  {
   "cell_type": "markdown",
   "metadata": {},
   "source": [
    "Do these coordinates agree with what you can see in the image above?\n",
    "\n",
    "Let's say we want to \"up the contrast\" on our image, amplifying the values greater than the threshold and decreasing the relative \"noise\". Write some code to multiply the values above the threshold by 2, and divide the values below the threshold by 2."
   ]
  },
  {
   "cell_type": "code",
   "execution_count": 4,
   "metadata": {},
   "outputs": [],
   "source": [
    "for y, row in enumerate(data):\n",
    "    for x, value in enumerate(row):\n",
    "        if value > 5:\n",
    "            data[y][x] *= 2\n",
    "        else:\n",
    "            data[y][x] /= 2"
   ]
  },
  {
   "cell_type": "markdown",
   "metadata": {},
   "source": [
    "Now plot it."
   ]
  },
  {
   "cell_type": "code",
   "execution_count": 5,
   "metadata": {},
   "outputs": [
    {
     "data": {
      "image/png": "[encoded data removed]",
      "text/plain": [
       "<Figure size 640x480 with 1 Axes>"
      ]
     },
     "metadata": {},
     "output_type": "display_data"
    }
   ],
   "source": [
    "pl.imshow(data)\n",
    "pl.show()"
   ]
  },
  {
   "cell_type": "markdown",
   "metadata": {},
   "source": [
    "So, how does it look? Is your dataset adjusted to better bring the real values out of the noise?\n",
    "\n",
    "Write a function that will take in a 2D image dataset (list of lists) and a `factor` and output a new dataset where all of the values in the input dataset less than `factor` standard deviations above the mean of the dataset are set to zero in the output. \n",
    "\n",
    "In other words, if an element in the input dataset is less than `median + factor * standardDeviation`, it should be zero in the output dataset. The `numpy` package has methods for median and standard deviation: https://numpy.org/doc/stable/reference/routines.statistics.html\n",
    "\n",
    "Have your function also optionally output print statements indicating which coordinates were marked as noise and which weren't, based on a list of coordinates that the user optionally provides for checking. For example, if the user provides coordinates of `[(1, 1), (2, 2), (3, 3)]`, the output could look something like this:\n",
    "\n",
    "```\n",
    "The following coordinates were removed:\n",
    "(2, 2) \n",
    "\n",
    "The following coordinates were not removed:\n",
    "(1, 1), (3, 3)\n",
    "```\n",
    "\n",
    "If there were no coordinates removed, then you should not print that part, and only print the following:\n",
    "\n",
    "```\n",
    "The following coordinates were not removed:\n",
    "(1, 1), (2, 2), (3, 3)\n",
    "```\n",
    "\n",
    "_Hint: see the `join` method outlined here: https://pythonbasics.org/join/_\n",
    "\n",
    "Make sure to focus on modularizing your code as much as is necessary to simplify tasks."
   ]
  },
  {
   "cell_type": "code",
   "execution_count": 1,
   "metadata": {},
   "outputs": [],
   "source": [
    "import numpy as np\n",
    "\n",
    "def getIncreasedContrastData(data, factor, coordinatesToCheck=None):\n",
    "    newData, noiseCoordinates = getCleanedDataAndNoiseCoords(data, factor)\n",
    "    if coordinatesToCheck is not None:\n",
    "        evaluateCheckedCoordinates(coordinatesToCheck, noiseCoordinates)\n",
    "    return newData\n",
    "\n",
    "def getCleanedDataAndNoiseCoords(data, factor):\n",
    "    median = np.median(data)\n",
    "    standardDeviation = np.std(data)\n",
    "\n",
    "    noiseCoordinates = set()\n",
    "    newData = [[0 for _ in row] for row in data]\n",
    "    for y, row in enumerate(data):\n",
    "        for x, value in enumerate(row):\n",
    "            if value < median + factor * standardDeviation:\n",
    "                noiseCoordinates.add((y, x))\n",
    "            else:\n",
    "                newData[y][x] = data[y][x]\n",
    "    \n",
    "    return newData, noiseCoordinates\n",
    "\n",
    "def evaluateCheckedCoordinates(coordinatesToCheck, noiseCoordinates):\n",
    "    coordinatesRemoved = []\n",
    "    coordinatesNotRemoved = []\n",
    "    for coordinate in coordinatesToCheck:\n",
    "        if coordinate in noiseCoordinates:\n",
    "            coordinatesRemoved.append(coordinate)\n",
    "        else:\n",
    "            coordinatesNotRemoved.append(coordinate)\n",
    "    printCoordinateEvaluationResults(coordinatesRemoved, coordinatesNotRemoved)\n",
    "\n",
    "def printCoordinateEvaluationResults(coordinatesRemoved, coordinatesNotRemoved):\n",
    "    if len(coordinatesRemoved):  # Same as if len() > 0\n",
    "        print(\"The following coordinates were removed:\")\n",
    "        print(\", \".join([str(coord) for coord in coordinatesRemoved]),\"\\n\")\n",
    "    \n",
    "    if len(coordinatesNotRemoved):\n",
    "        print(\"The following coordinates were not removed:\")\n",
    "        print(\", \".join([str(coord) for coord in coordinatesNotRemoved]))"
   ]
  },
  {
   "cell_type": "markdown",
   "metadata": {},
   "source": [
    "Use the following dataset to test your function for different values of `factor` (and also test that giving a list of coordinates to check works properly):"
   ]
  },
  {
   "cell_type": "code",
   "execution_count": 7,
   "metadata": {},
   "outputs": [],
   "source": [
    "data2 = [\n",
    "    [5, 7, 4, 0, 5, 0, 3, 1, 0, 4, 0, 5, 0, 3],\n",
    "    [7, 9, 6, 0, 0, 0, 3, 4, 0, 0, 6, 0, 2, 0],\n",
    "    [4, 6, 3, 0, 1, 0, 0, 0, 1, 1, 0, 0, 7, 9],\n",
    "    [2, 2, 1, 6, 0, 2, 0, 0, 5, 0, 3, 1, 0, 4],\n",
    "    [0, 3, 0, 0, 0, 0, 3, 6, 0, 2, 0, 0, 5, 0],\n",
    "    [0, 0, 0, 0, 4, 0, 0, 4, 6, 4, 0, 3, 1, 0],\n",
    "    [0, 1, 1, 0, 0, 2, 5, 7, 9, 5, 0, 3, 1, 1],\n",
    "    [4, 0, 0, 6, 0, 2, 0, 1, 5, 2, 3, 1, 0, 4],\n",
    "    [1, 0, 4, 0, 5, 0, 3, 1, 0, 4, 0, 5, 0, 3],\n",
    "    [0, 1, 0, 0, 0, 7, 2, 0, 0, 5, 0, 3, 1, 1],\n",
    "    [0, 0, 0, 0, 1, 0, 0, 0, 1, 1, 0, 0, 7, 9],\n",
    "    [1, 3, 1, 0, 0, 0, 3, 6, 0, 2, 0, 0, 5, 0],\n",
    "    [3, 5, 3, 0, 0, 0, 9, 6, 0, 2, 0, 0, 1, 0],\n",
    "]"
   ]
  },
  {
   "cell_type": "code",
   "execution_count": 10,
   "metadata": {},
   "outputs": [
    {
     "data": {
      "image/png": "[encoded data removed]",
      "text/plain": [
       "<Figure size 640x480 with 1 Axes>"
      ]
     },
     "metadata": {},
     "output_type": "display_data"
    },
    {
     "name": "stdout",
     "output_type": "stream",
     "text": [
      "The following coordinates were removed:\n",
      "(2, 2) \n",
      "\n",
      "The following coordinates were not removed:\n",
      "(1, 1), (3, 3)\n"
     ]
    },
    {
     "data": {
      "image/png": "[encoded data removed]",
      "text/plain": [
       "<Figure size 640x480 with 1 Axes>"
      ]
     },
     "metadata": {},
     "output_type": "display_data"
    }
   ],
   "source": [
    "pl.imshow(data2)\n",
    "pl.show()\n",
    "\n",
    "testCoordinates = [(1, 1), (2, 2), (3, 3)]\n",
    "newData = getIncreasedContrastData(data2, 1.6, coordinatesToCheck=testCoordinates)\n",
    "\n",
    "pl.imshow(newData)\n",
    "pl.show()"
   ]
  }
 ],
 "metadata": {
  "kernelspec": {
   "display_name": "Python 3 (ipykernel)",
   "language": "python",
   "name": "python3"
  },
  "language_info": {
   "codemirror_mode": {
    "name": "ipython",
    "version": 3
   },
   "file_extension": ".py",
   "mimetype": "text/x-python",
   "name": "python",
   "nbconvert_exporter": "python",
   "pygments_lexer": "ipython3",
   "version": "3.10.5"
  }
 },
 "nbformat": 4,
 "nbformat_minor": 2
}
