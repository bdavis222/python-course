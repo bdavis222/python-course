{
 "cells": [
  {
   "cell_type": "markdown",
   "metadata": {},
   "source": [
    "# Overlapping Meetings (Solution)"
   ]
  },
  {
   "cell_type": "markdown",
   "metadata": {},
   "source": [
    "`NOTE: This should only be attempted after completing the course!`"
   ]
  },
  {
   "cell_type": "markdown",
   "metadata": {},
   "source": [
    "Let's say we want to write a program that will determine whether two arbitrary meetings overlap. For example, given the following meetings, our program should recognize that there is an overlap, and should therefore return `True`:\n",
    "\n",
    "```\n",
    "meetingOne = [\"8:30\", \"11:15\"]\n",
    "meetingTwo = [\"10:45\", \"13:30\"]\n",
    "```\n",
    "\n",
    "Here, the first number in a given meeting list is the meeting's start time, and the second number in the list is the meeting end time. Clearly meeting one and meeting two overlap from 10:45 - 11:15.\n",
    "\n",
    "Write a function called `doMeetingsOverlap`, which takes in two different lists of strings, as in the example above, and returns a boolean indicating whether the meetings overlap. \n",
    "\n",
    "Make sure to focus on modularizing your code as much as is necessary to simplify tasks."
   ]
  },
  {
   "cell_type": "markdown",
   "metadata": {},
   "source": [
    "## Explanation"
   ]
  },
  {
   "cell_type": "markdown",
   "metadata": {},
   "source": [
    "If we take a step back and think about the big picture here, there is an easier way to approach this problem: What if these meetings were given as float values instead, like the following?\n",
    "\n",
    "```\n",
    "meetingOne = [8.5, 11.25]\n",
    "meetingTwo = [10.75, 13.5]\n",
    "```\n",
    "\n",
    "Now the logic involved for comparing the times is rather simple, and determining whether the meetings overlap is almost trivial:\n",
    "\n",
    "* If the meeting start times are equal, the meetings overlap\n",
    "* If meeting one starts after meeting two, they overlap if meeting two ends after meeting one\n",
    "* If meeting two starts after meeting one, they overlap if meeting one ends after meeting two\n",
    "\n",
    "We now see that solving this problem has two main parts, with each part simpler than the whole:\n",
    "\n",
    "1. Convert the string meetings to float meetings\n",
    "2. Determine whether the float meetings overlap (the logic bulleted above)"
   ]
  },
  {
   "cell_type": "code",
   "execution_count": 7,
   "metadata": {},
   "outputs": [],
   "source": [
    "def doMeetingsOverlap(meetingOne, meetingTwo):\n",
    "    floatMeetingOne = getFloatMeeting(meetingOne)\n",
    "    floatMeetingTwo = getFloatMeeting(meetingTwo)\n",
    "    return doFloatMeetingsOverlap(floatMeetingOne, floatMeetingTwo)\n",
    "\n",
    "def doFloatMeetingsOverlap(meetingOne, meetingTwo):\n",
    "    if meetingOne[0] == meetingTwo[0]:\n",
    "        return True\n",
    "    elif meetingOne[0] > meetingTwo[0]:\n",
    "        return meetingTwo[1] > meetingOne[0]\n",
    "    else:\n",
    "        return meetingOne[1] > meetingTwo[0]\n",
    "\n",
    "def getFloatMeeting(stringMeeting):\n",
    "    startTime, endTime = stringMeeting\n",
    "    floatStartTime = getFloatTime(startTime)\n",
    "    floatEndTime = getFloatTime(endTime)\n",
    "    return [floatStartTime, floatEndTime]\n",
    "\n",
    "def getFloatTime(stringTime):\n",
    "    stringHours = stringTime[:2] if stringTime[1] != \":\" else stringTime[0]\n",
    "    stringMinutes = stringTime[-2:]\n",
    "    return float(stringHours) + float(stringMinutes) / 60"
   ]
  },
  {
   "cell_type": "markdown",
   "metadata": {},
   "source": [
    "#### Logic behind `getFloatTime`"
   ]
  },
  {
   "cell_type": "markdown",
   "metadata": {},
   "source": [
    "1. Get everything to the left of the colon as the hours (if the second character is the colon, it's one digit long, and if not, it's two digits long)\n",
    "2. Get everything to the right of the colon as the minutes\n",
    "3. Convert the minutes to a fraction of an hour by diving it by 60\n",
    "4. Return the sum"
   ]
  },
  {
   "cell_type": "markdown",
   "metadata": {},
   "source": [
    "If your code is working properly, the cell below will run without any errors:"
   ]
  },
  {
   "cell_type": "code",
   "execution_count": 8,
   "metadata": {},
   "outputs": [],
   "source": [
    "assert doMeetingsOverlap([\"8:30\", \"11:15\"], [\"10:45\", \"13:30\"]) == True\n",
    "assert doMeetingsOverlap([\"8:30\", \"11:15\"], [\"11:45\", \"13:30\"]) == False\n",
    "assert doMeetingsOverlap([\"8:30\", \"11:15\"], [\"8:30\", \"10:00\"]) == True"
   ]
  },
  {
   "cell_type": "markdown",
   "metadata": {},
   "source": [
    "Showing that the intermediate steps work as expected:"
   ]
  },
  {
   "cell_type": "code",
   "execution_count": 9,
   "metadata": {},
   "outputs": [
    {
     "name": "stdout",
     "output_type": "stream",
     "text": [
      "[5.75, 7.2]\n",
      "7.2\n"
     ]
    }
   ],
   "source": [
    "print(getFloatMeeting([\"5:45\", \"7:12\"]))\n",
    "print(getFloatTime(\"7:12\"))"
   ]
  }
 ],
 "metadata": {
  "kernelspec": {
   "display_name": "Python 3 (ipykernel)",
   "language": "python",
   "name": "python3"
  },
  "language_info": {
   "codemirror_mode": {
    "name": "ipython",
    "version": 3
   },
   "file_extension": ".py",
   "mimetype": "text/x-python",
   "name": "python",
   "nbconvert_exporter": "python",
   "pygments_lexer": "ipython3",
   "version": "3.10.5"
  }
 },
 "nbformat": 4,
 "nbformat_minor": 2
}
